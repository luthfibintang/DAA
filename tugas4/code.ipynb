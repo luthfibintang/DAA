{
  "nbformat": 4,
  "nbformat_minor": 0,
  "metadata": {
    "colab": {
      "provenance": []
    },
    "kernelspec": {
      "name": "python3",
      "display_name": "Python 3"
    },
    "language_info": {
      "name": "python"
    }
  },
  "cells": [
    {
      "cell_type": "markdown",
      "source": [
        "#Tugas 4 Desain Analisis dan Algoritma\n",
        "\n",
        "\n",
        "**Nama** : Azisya Luthfi Bintang\n",
        "\n",
        "**NIM** : 2022071051"
      ],
      "metadata": {
        "id": "VRpND2W9BcaO"
      }
    },
    {
      "cell_type": "markdown",
      "source": [
        "---\n",
        "\n",
        "\n",
        "**Latihan 1 :**\n",
        "\n",
        " Buat fungsi swap dengan menambahkan variable ketiga bernama *var3*"
      ],
      "metadata": {
        "id": "vjk_cr7LBlT5"
      }
    },
    {
      "cell_type": "code",
      "execution_count": null,
      "metadata": {
        "colab": {
          "base_uri": "https://localhost:8080/"
        },
        "id": "7e9RZDKlAtmy",
        "outputId": "9a398a18-e591-464d-a33a-909f75030c24"
      },
      "outputs": [
        {
          "output_type": "stream",
          "name": "stdout",
          "text": [
            "x = 3\n",
            "y = 1\n",
            "z = 2\n"
          ]
        }
      ],
      "source": [
        "#function\n",
        "def swapVar(var1, var2, var3):\n",
        "  var1, var2, var3 = var3, var1, var2\n",
        "  return var1, var2, var3\n",
        "\n",
        "x = 1\n",
        "y = 2\n",
        "z = 3\n",
        "x, y, z = swapVar(x,y,z)\n",
        "print(f\"x = {x}\\ny = {y}\\nz = {z}\")"
      ]
    },
    {
      "cell_type": "markdown",
      "source": [
        "---\n",
        "**Latihan 2 :**\n",
        "\n",
        "Kasus : Bubble Sort\n",
        "\n",
        "Problem : Urutkan deret bilangan dibawah ini menggunakan metode sorting bubble sort\n",
        "\n",
        "input : 100 20 60 90 40 30 10"
      ],
      "metadata": {
        "id": "og-GZyruDhwR"
      }
    },
    {
      "cell_type": "code",
      "source": [
        "def bubbleSort(list):\n",
        "  lastElementIndex = len(list)-1\n",
        "  for passNo in range(lastElementIndex,0,-1):\n",
        "    for idx in range(passNo):\n",
        "      if list[idx]>list[idx+1]:\n",
        "        list[idx],list[idx+1] = list[idx+1],list[idx]\n",
        "  return list\n",
        "\n",
        "list = [100, 20, 60, 90, 40, 30, 10]\n",
        "bubbleSort(list)"
      ],
      "metadata": {
        "colab": {
          "base_uri": "https://localhost:8080/"
        },
        "id": "j7K1bFApEEum",
        "outputId": "4c4c36c3-5241-45ab-cb25-ad58b40fbb8b"
      },
      "execution_count": null,
      "outputs": [
        {
          "output_type": "execute_result",
          "data": {
            "text/plain": [
              "[10, 20, 30, 40, 60, 90, 100]"
            ]
          },
          "metadata": {},
          "execution_count": 46
        }
      ]
    },
    {
      "cell_type": "markdown",
      "source": [
        "---\n",
        "\n",
        "**Latihan 3 :**\n",
        "\n",
        "Kasus : Insertion Sort\n",
        "\n",
        "Problem : urutkan deret bilangan dibawah ini menggunakan metode sorting insertion sort!\n",
        "\n",
        "input : 89 12 57 16 25 11 75"
      ],
      "metadata": {
        "id": "VcPXL4sjfAZt"
      }
    },
    {
      "cell_type": "code",
      "source": [
        "def insertionSort(list):\n",
        "  for i in range(1, len(list)):\n",
        "    j = i-1\n",
        "    next = list[i]\n",
        "\n",
        "    while (list[j] > next) and (j >= 0):\n",
        "      list[j+1] = list[j]\n",
        "      j = j-1\n",
        "    list[j+1] = next\n",
        "  return list\n",
        "\n",
        "list = [89, 12, 57, 16, 25, 11, 75]\n",
        "insertionSort(list)"
      ],
      "metadata": {
        "colab": {
          "base_uri": "https://localhost:8080/"
        },
        "id": "dmN27RoNfW4B",
        "outputId": "bccce98f-d74e-4b4f-ad36-abebd278cb7d"
      },
      "execution_count": 109,
      "outputs": [
        {
          "output_type": "execute_result",
          "data": {
            "text/plain": [
              "[11, 12, 16, 25, 57, 75, 89]"
            ]
          },
          "metadata": {},
          "execution_count": 109
        }
      ]
    },
    {
      "cell_type": "markdown",
      "source": [
        "---\n",
        "**Latihan 4 :**\n",
        "\n",
        "Kasus : Selection Sort\n",
        "\n",
        "Problem : Tentukan prosedur pengurutan deret secara ascending menggunakan metode sorting selection sort\n",
        "\n",
        "input : 89 12 57 16 25"
      ],
      "metadata": {
        "id": "jN-npI0lPsaH"
      }
    },
    {
      "cell_type": "code",
      "source": [
        "def selectionSort(list):\n",
        "  for fill_slot in range(len(list)-1, 0, -1):\n",
        "    max_index = 0\n",
        "    for location in range(1, fill_slot + 1):\n",
        "      if list[location] > list[max_index]:\n",
        "        max_index = location\n",
        "\n",
        "    list[fill_slot], list[max_index] = list[max_index], list[fill_slot]\n",
        "  return list\n",
        "\n",
        "list = [89, 12, 57, 16, 25]\n",
        "selectionSort(list)"
      ],
      "metadata": {
        "colab": {
          "base_uri": "https://localhost:8080/"
        },
        "id": "krJSgOzuLuXO",
        "outputId": "da92d84e-f3ec-4927-cfd8-04462a22bf47"
      },
      "execution_count": 107,
      "outputs": [
        {
          "output_type": "execute_result",
          "data": {
            "text/plain": [
              "[12, 16, 25, 57, 89]"
            ]
          },
          "metadata": {},
          "execution_count": 107
        }
      ]
    },
    {
      "cell_type": "markdown",
      "source": [
        "---\n",
        "\n",
        "**Latihan 5:**\n",
        "\n",
        "Kasus : Linear Search\n",
        "\n",
        "problem : cari \"a\" dari deret huruf di bawah ini menggunakan metode searching linear search\n",
        "\n",
        "Input : y u i w o a q u j p"
      ],
      "metadata": {
        "id": "-B9-9at6grrx"
      }
    },
    {
      "cell_type": "code",
      "source": [
        "def linearSearch(list, item):\n",
        "  index = 0\n",
        "  found = False\n",
        "\n",
        "  # Match value with each data element\n",
        "  for i in range(len(list)):\n",
        "    if list[i] == item:\n",
        "      found = True\n",
        "      break\n",
        "\n",
        "  return found\n",
        "\n",
        "list = ['y', 'u', 'i', 'w', 'o', 'a', 'q', 'u', 'j', 'p']\n",
        "print(linearSearch(list, 'a'))\n",
        "print(linearSearch(list, 'x'))"
      ],
      "metadata": {
        "colab": {
          "base_uri": "https://localhost:8080/"
        },
        "id": "sM53vLzfg_lG",
        "outputId": "0485b079-045d-4565-e8d1-7f30c96354fd"
      },
      "execution_count": 129,
      "outputs": [
        {
          "output_type": "stream",
          "name": "stdout",
          "text": [
            "True\n",
            "False\n"
          ]
        }
      ]
    },
    {
      "cell_type": "markdown",
      "source": [
        "---\n",
        "**Latihan 6 :**\n",
        "\n",
        "Kasus : Binary Search\n",
        "\n",
        "Problem : Cari \"a\" dari deret huruf di bawah ini menggunakan metode searching binary search!\n",
        "\n",
        "Input : y u i w a q u j p"
      ],
      "metadata": {
        "id": "ATmkfPtamDPy"
      }
    },
    {
      "cell_type": "code",
      "source": [
        "def binarySearch(list, item):\n",
        "  first = 0\n",
        "  last = len(list)-1\n",
        "\n",
        "  while first <= last:\n",
        "    midpoint = (first + last)//2\n",
        "    # print(f\"midpoint : {midpoint}\")\n",
        "    # print(f\"item {item, list[midpoint]}\")\n",
        "    if list[midpoint] == item:\n",
        "      return True\n",
        "    elif item < list[midpoint]:\n",
        "        last = midpoint-1\n",
        "        # print(f\"last : {last}\")\n",
        "    else:\n",
        "        first = midpoint+1\n",
        "        # print(f\"First : {first}\")\n",
        "  return False\n",
        "\n",
        "\n",
        "list = ['y', 'u', 'i', 'w', 'o', 'a', 'q', 'u', 'j', 'p']\n",
        "list = bubbleSort(list)\n",
        "print(list)\n",
        "print(binarySearch(list, 'a'))\n",
        "print(binarySearch(list, 'x'))"
      ],
      "metadata": {
        "colab": {
          "base_uri": "https://localhost:8080/"
        },
        "id": "r1sbU2SemVDf",
        "outputId": "91227b21-12ae-4a7d-a231-2b7d15f058ad"
      },
      "execution_count": 180,
      "outputs": [
        {
          "output_type": "stream",
          "name": "stdout",
          "text": [
            "['a', 'i', 'j', 'o', 'p', 'q', 'u', 'u', 'w', 'y']\n",
            "True\n",
            "False\n"
          ]
        }
      ]
    },
    {
      "cell_type": "markdown",
      "source": [
        "**Latihan 7 :**\n",
        "\n",
        "Kasus : Interpolation Search\n",
        "\n",
        "Problem : Cari \"u\" dari deret huruf di bawah menggunakan metode searching interpolan search\n",
        "\n",
        "Input : y u i w a q u j p"
      ],
      "metadata": {
        "id": "5e-jqSeU6Ovk"
      }
    },
    {
      "cell_type": "code",
      "source": [
        "print(\"Mohon maaf bu mencari string/char pakai Interpolation Search itu mustahil karena ada aritmatika di dalamnya\")\n"
      ],
      "metadata": {
        "colab": {
          "base_uri": "https://localhost:8080/"
        },
        "id": "AqFTPKia6OG4",
        "outputId": "b2ea3052-a756-4391-bf7e-84e1d9c55149"
      },
      "execution_count": 189,
      "outputs": [
        {
          "output_type": "stream",
          "name": "stdout",
          "text": [
            "Mohon maaf bu mencari string/char pakai Interpolation Search itu mustahil karena ada aritmatika di dalamnya\n"
          ]
        }
      ]
    }
  ]
}