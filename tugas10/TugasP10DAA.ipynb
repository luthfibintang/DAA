{
  "nbformat": 4,
  "nbformat_minor": 0,
  "metadata": {
    "colab": {
      "provenance": []
    },
    "kernelspec": {
      "name": "python3",
      "display_name": "Python 3"
    },
    "language_info": {
      "name": "python"
    }
  },
  "cells": [
    {
      "cell_type": "markdown",
      "source": [
        "##**Nama** : Azisya Luthfi Bintang\n",
        "##**NIM** : 2022071051\n",
        "##**Matkul** : Desain Analisis Algoritma Pertemuan 10\n",
        "\n",
        "---"
      ],
      "metadata": {
        "id": "qD6Ftm4nmRDi"
      }
    },
    {
      "cell_type": "code",
      "execution_count": 32,
      "metadata": {
        "colab": {
          "base_uri": "https://localhost:8080/"
        },
        "id": "jVJXsS5dQyJZ",
        "outputId": "3b566f93-1433-4f83-9252-37989953acdc"
      },
      "outputs": [
        {
          "output_type": "stream",
          "name": "stdout",
          "text": [
            "Requirement already satisfied: pulp in /usr/local/lib/python3.10/dist-packages (2.7.0)\n"
          ]
        }
      ],
      "source": [
        "pip install pulp"
      ]
    },
    {
      "cell_type": "code",
      "source": [
        "import pulp"
      ],
      "metadata": {
        "id": "qv6dy1idUy8h"
      },
      "execution_count": 33,
      "outputs": []
    },
    {
      "cell_type": "code",
      "source": [
        "model = pulp.LpProblem(\"ProfitMaximisingProblem\", pulp.LpMaximize)"
      ],
      "metadata": {
        "id": "cg2PxIsdVLUe"
      },
      "execution_count": 34,
      "outputs": []
    },
    {
      "cell_type": "code",
      "source": [
        "A = pulp.LpVariable('A', lowBound=0, cat='Integer')\n",
        "B = pulp.LpVariable('B', lowBound=0, cat='Integer')"
      ],
      "metadata": {
        "id": "WkMvqcQdVTO2"
      },
      "execution_count": 35,
      "outputs": []
    },
    {
      "cell_type": "code",
      "source": [
        "#Objective Function\n",
        "model += 4200 * A + 2800 * B, \"Profit\"\n",
        "# Constraints\n",
        "model += 3 * A + 2 * B <= 20\n",
        "model += 4 * A + 3 * B <= 30\n",
        "model += 4 * A + 3 * B <= 44"
      ],
      "metadata": {
        "id": "ag2egbcCV4Lv"
      },
      "execution_count": 36,
      "outputs": []
    },
    {
      "cell_type": "code",
      "source": [
        "model.solve()\n",
        "pulp.LpStatus[model.status]"
      ],
      "metadata": {
        "colab": {
          "base_uri": "https://localhost:8080/",
          "height": 35
        },
        "id": "KKKgaKmGWjn0",
        "outputId": "23cb55b3-6997-4569-a17e-bc93df1252ad"
      },
      "execution_count": 37,
      "outputs": [
        {
          "output_type": "execute_result",
          "data": {
            "text/plain": [
              "'Optimal'"
            ],
            "application/vnd.google.colaboratory.intrinsic+json": {
              "type": "string"
            }
          },
          "metadata": {},
          "execution_count": 37
        }
      ]
    },
    {
      "cell_type": "code",
      "source": [
        "print(A.varValue)\n",
        "print(B.varValue)"
      ],
      "metadata": {
        "colab": {
          "base_uri": "https://localhost:8080/"
        },
        "id": "zAxduD5rWoTc",
        "outputId": "876c308d-c939-4a1a-e1c1-eafbf5fe5031"
      },
      "execution_count": 38,
      "outputs": [
        {
          "output_type": "stream",
          "name": "stdout",
          "text": [
            "6.0\n",
            "1.0\n"
          ]
        }
      ]
    },
    {
      "cell_type": "code",
      "source": [
        "print(pulp.value(model.objective))"
      ],
      "metadata": {
        "colab": {
          "base_uri": "https://localhost:8080/"
        },
        "id": "1Q0Vp6-iWuOt",
        "outputId": "5083e40a-5986-48e8-f75c-373bf0f07a62"
      },
      "execution_count": 39,
      "outputs": [
        {
          "output_type": "stream",
          "name": "stdout",
          "text": [
            "28000.0\n"
          ]
        }
      ]
    },
    {
      "cell_type": "markdown",
      "source": [
        "---\n",
        "\n",
        "![image.png](data:image/png;base64,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)"
      ],
      "metadata": {
        "id": "7bAEkQ69mNzs"
      }
    },
    {
      "cell_type": "code",
      "source": [
        "#Menghitung Linear Programming\n",
        "def linearProgramming(a = 0, b = 0, c = 0):\n",
        "  model1 = pulp.LpProblem(\"ProfitMaximisingProblem\", pulp.LpMaximize)\n",
        "  x = pulp.LpVariable('x', lowBound=0, cat='Integer')\n",
        "  y = pulp.LpVariable('y', lowBound=0, cat='Integer')\n",
        "\n",
        "  model1 += a * x + b * y == c\n",
        "  model1.solve()\n",
        "  return(x.varValue, y.varValue)"
      ],
      "metadata": {
        "id": "lLrKiBRS3GUU"
      },
      "execution_count": 40,
      "outputs": []
    },
    {
      "cell_type": "code",
      "source": [
        "# #Latihan no. 1\n",
        "result = linearProgramming(4, 3, 34)\n",
        "print(\"Nilai X : \", result[0])\n",
        "print(\"Nilai Y : \", result[1])"
      ],
      "metadata": {
        "colab": {
          "base_uri": "https://localhost:8080/"
        },
        "id": "mbvEOShRbDy_",
        "outputId": "13409f2e-daad-4d1e-ac57-3d835289eab9"
      },
      "execution_count": 41,
      "outputs": [
        {
          "output_type": "stream",
          "name": "stdout",
          "text": [
            "Nilai X :  7.0\n",
            "Nilai Y :  2.0\n"
          ]
        }
      ]
    },
    {
      "cell_type": "code",
      "source": [
        "#Latihan no. 2\n",
        "result = linearProgramming(5, 0, 37)\n",
        "print(\"Nilai X : \", result[0])\n",
        "print(\"Nilai Y : \", result[1])"
      ],
      "metadata": {
        "colab": {
          "base_uri": "https://localhost:8080/"
        },
        "id": "ooccug8geTg2",
        "outputId": "89eb72fe-6440-4752-dc75-c6785bfac6ec"
      },
      "execution_count": 42,
      "outputs": [
        {
          "output_type": "stream",
          "name": "stdout",
          "text": [
            "Nilai X :  7.4\n",
            "Nilai Y :  None\n"
          ]
        }
      ]
    },
    {
      "cell_type": "markdown",
      "source": [
        "---\n",
        "\n",
        "![image.png](data:image/png;base64,iVBORw0KGgoAAAANSUhEUgAAApEAAAF6CAYAAABBQAMXAAAAAXNSR0IArs4c6QAAAARnQU1BAACxjwv8YQUAAAAJcEhZcwAADsMAAA7DAcdvqGQAAIINSURBVHhe7b1NzB3Xutf5psct3XvJHVmRO0qCuiUGOeLDgyjHDZawA5M+EhYk6YmloIAzasAkF64RSFgIB8NFDJyLxREREnZAQc2AC4mRQss+8sB86GTA6DpH7sjy6IR7r9Rzd/1q77/9+PGqqlW1q/a79/v+f9J6662q9fGsZ309tdaq2i89aTgwxhhjjDFmBP/T+miMMcYYY0w1NiKNMcYYY8xobEQaY4wxxpjR2Ig0xhhjjDGjsRFpjDHGGGNGYyPSGGOMMcaMxkakMcYYY4wZjY1IY4wxxhgzGhuRxhhjjDFmNDYijTHGGGPMaGxEGmOMMcaY0diINMYYY4wxo7ERaYwxxhhjRrM1I/KNN944eOmllw6+/fbb9ZXpfPrpp21cf+gP/aGDX/ziF+urz8M9/ExxyBr56KOP2uv/9J/+0/WV50EG7pNmLV988UUb5t13311fqeOdd95pw/2JP/En1lfqQHbC4dBfDZTVFBkz5JU4YpmgY65x74cfflj77OdnP/tZWxbkXfHkuKZSU6dKTC3HsSDTb/7mb76Qd+oD1/va1Zi2UMq76kHJETcy1JRjVzuJdXOK6yr3qW1lLORLaVE/jTHm2PBkS5AU7u7du+sr03n99defxvc3/+bfXF99nl/7tV976mesI/7IuXPn2utXr15dX3ke8qSwtRAX/om7lu++++5pOrjf+Z3fWd8ZRnmQqykH5WuMjJFf/vKXL6Rbcl16FT//+c+r4sFRdvgfS02dKjGlHMeADpFHsvW5v/AX/kLrPxLrZo2jjmWUxyE3pPuudvLbv/3bz8Uz1t26dWsd0zM2aStjQDexr1mqHhhjzC6yd8vZzEY1A8RBM2C25//qX/2r9pj5H//jfzBSFZ0o3cM9ePBg7WO3+PLLL9uj8v7v/t2/a49jaAb69vhX/spfaY9L8rf+1t86+Prrrw+aQfagGegPGgPnqY4bY+OgMR4O/vgf/+Nr32WYBftTf+pPPY2nGbTbsLG8GuOkvc596saPfvSjg3//7//9OoZhauvUtmFmjxmuv/f3/l573hiTbV5z3i9evNjmHbl/+tOftn5LxHBd7rXXXlv7fpHGQHrBP3qjbKlX/P/n/tyfq55ZFn/pL/2lF+KVo1yBY+k+rjQLPEdb6YN6yQznJ598cnD27Nm2bIwx5tjRdMJbgaRwzEZsQjNgtvEw48HMC/+PnWWQLLVoFoxZhxJdMyx9EBf+x8xcMNPDrAdwJHyeeeoi5kGzbqUZnIjyNWV2pTEo2rC4KTODQBzKJ2U9lFfuN0Zp659wtbrZpE5NKcdaJBd5GtIhukL2XEen1M1MTR7RteoVM4slNmknOV9DbNJWhpBMxKt6UqMjY4w5auzVTCQzHJ999lk7e/Xmm28e/OQnP2mv/4t/8S/a41GGmTVmeph1As2+aMZlDJ9//nl7ZP/W2FmjWh4/ftwem0G1LaspXLt27eD3fu/32jjY9/byyy+v75Th/ldffdXOihGOmdAhdrVOMTuKXI2hcvDP/tk/G9QhM4jo6OOPP15f2S7o/sMPP2z/79ufuQ3mbCslvvnmm3aG83d/93cP/uyf/bPrq8YYc/zYKyPyP/7H/9ge/+Jf/IvtkcGBQZZlvKWMoV1By3F//s//+fbIEiBgYIzl7bffbg0zDK2+5c/DhJcVMKLg+vXr7bEGjJl/8k/+Sft/1wsXkV2tU1euXGmPv/EbvzHZCD8sSi/nbJM520oJ6mPNQ40xxhx19sqI/If/8B+2x/Pnz7dHmHuWYRfJs2XAkRm3//Jf/sukmR8ZZuzpWnLQZy/jlPhl3DHj07dPrwSzQ5qNZEavj12sU+gLvcEHH3zQHveBP/iDP2iPf+yP/bH2eBgs0VYyY+ujMcYcVfbGiGRgZRDAqIgzAO+//357nGuWYRfJs2VCy4f/+l//6/Y4BgZCvQywxEsBzHYycANlNnbw/k//6T+1R16qmQJGBNy7d689ltjVOnX//v32yGzxvsx2Ub6aOdYM4GGwRFsxxhhTZm+MSC27as+akLEy1yzDLqLZsj/9p/90exSaPdPgPZa/+lf/6tOl26EZuyn8m3/zb9r4KRuMQb7FWLtE/Pu///vt8Y/8kT/SHsfyR//oH22Pmh0rsat16vvvv2+PZ86caY+7DPqhXClfZn554/4wl9+XaivGGGNeZG+MSDp/DBItNUZ2aZYhfgS5z7GMXAODtGbL8jIa59rbOOaTNoJZLi1rL/HJH4wJZhQlI3n+9V//9faFnqElbi3nbsp//a//df3fi+xqnfpv/+2/rf+bl1I9lMsfAC9BmeRwfE6JciX87/zO7zzdf3gYLNlWjDHGvMheGJF0+nT+pcEejvIsg4yYPFsmLly40B6nvk2MTln6ZfDt+kWeTcCQ5I1pviWoJWbKiZm+GmNyKXa5TmkWdl/AEGfW+bDfVF66rRhjjHmevTAi1elrr1qGWQYMlF2YZXgSPoLc566uP6I8hGbL8vKc0PVN3ib+rd/6rfb4N/7G35gcxxAYa//5P//n9uPYzBQBeaPcllwy/tVf/dX1f8+zT3VqLkr1UI6P8w/BTF4Mw0ffKUt0xHL2YSz9R7bRVowxxjxj541IOns6fWau2KvWxV/7a3+tPR6lWYY4W9b1ggXX9T28qW8To1cZA//oH/2j9dVlIC0+j4IxKSMNAyQP6pq13BTtjYzsep06zLebx8AsM2VJ/aMc88ss22RbbcUYY8wzdt6IVGfPx4Pzfqzo3nvvvdYfxsFhLZHOjYwXZlhKeZbTkus/+Af/oD1OQT+tx3Eb+sN4ix8Gz8arDIH//t//e3sci/YVnjx5sj1Gdr1O/cqv/Ep7XGpv5Nywr1YvItV8m3MJttlWjDHGrNh5I3JKZ6/PfOwzGC0YL2PAKJq6pMjyrZbYt/U7wBiKf/2v//X2//wCjN5Mnpqf27dvt8dTp061x8iu16m33nqrPSoP+4A+jq5fQ9om224rxhhjVuy0EUknT2fP0mbci9XleDsUjsIsg4wWDLpSXrOT4bfJyzF82JoZJQbkJT75U6LrEz7svwNmtsbuXyMMs5vUm/yW7j7UKWZp2dtHHg5rZm8s7DdE5qkfl9+Ew2grxhhjdtyIVCdfu9eKt0MZyI7CLIOMltoPN8vfJkYHM4OaUVrikz8l/sN/+A/tMe8D1K+MYEjV/Aa2wIDhrW/QnsbIvtQpfu4QLl++vBcvgVB39Kb7tn9K8zDaijHGmB03ItXJx5+kG0ID2T7PMsTZstoPN0eja5PBEf0xC8j+tps3b66vjueNN94YLAPyqT1qf+bP/Jn2GNFvYONHhmEfxKcXhMiD6kJkX+qUZoWpB++8886gIcn93/zN3yzmeVvoTXeV6TY4zLZijDHHnZ01Iunc6eQxCvSSRQ362PE+Dw5jZ8uE9hf+23/7b9vjVJj9gk2MAT4Z85f/8l9+akzGJU7+55p+5YQ3ZktvSTMLqKVHZCEuyjXPCLL0jpHJh68xfjEo/uW//Jfru8/YpzqFfPEXf/7wH/7DrZGYtxlwznXu6+Wow4Iy3LZxdthtxRhjjjVPtgRJ1bhmEGr9NwN9e37r1q32fAzE0RdWadVy7ty51v/Vq1fXV57n7t27o+MkLvwTd6YxHNp733333fpKHfiXHDnsUB4yjWH3NK6SjEOge+Wjz5HOEL/9279dFReO+H75y1+uQz7PEnVK5VjjpqT785///EljFBfjy45yyuUe62aNw3+mr65mKKsuv5u0k656u0RbGUL1qNZRhsYYcxTZ2kwksz9j4OUOZmGmLM9pluHOnTvtsQRx16KXM/TplcyJEyfa45g49emZ/DFsZpY0W5ZfChkC/9Lz/fv326MYykPm7/7dv/v05ZYp3y2k3H73d3+3/aUaZIq6YbaK2Ue+FamfXeyDmUDi4neZkSnrmWvMWDbGQBtf1yzjEnVKOloKll75SDsv+KAzdBch/cbAavPOJ5NyndFLOpvQVVdLsE2A9HL9gyntRJTq7VJtxRhjTB0vYUmu/zfGGGOMMaaKnX6xxhhjjDHG7CY2Io0xxhhjzGhsRBpjjDHGmNHYiDTGGGOMMaOxEWmMMcYYY0ZjI9IYY4wxxozGRqQxxhhjjBmNjUhjjDHGGDMaG5HGGGOMMWY0NiKNMcYYY8xobEQaY4wxxpjR2Ig0xhhjjDGjsRFpjDHGGGNGYyPSGGOMMcaMxkakMcYYY4wZjY1IY4wxxhgzGhuRxhhjjDFmNDYijTHGGGPMaGxEGmOMMcaY0diINMYYY4wxo7ERaYwxxhhjRmMj0hhjjDHGjOalJw3r/3eE32/cP179a4wxxhhjNuR/btz/t/r3OX61cdhdffykcT9a/ZvYUSPy11b/GmOMMcaYDcEI/Pnq3+f4k437f1b/dvLPG3dh9W/Cy9nGGGOMMWY0NiKNMcYYY8xobEQaY4wxxpjR2Ig0xhhjjDGjOdZG5C9+cXDw0ksHB59++vz5Rx+tzveNL75Yyf+zn60vbABxEBdxwia6kVyK67hQyvdUHb7xxsHBO++sT8xoaOPonno8B9suj1xvOF8y/bn1dRTI48VRQn3VHGOHOV7srBGpTiy742aIGGPMUcH9upkbHq5KdWpug1gPEbg+JE/Xw4YMdjkeSEtwPfortZHcng5jomHnZyK/++7ggI8Q4a5ePTh4773lOpzXXlulc/36+oJ5So1uup7U3313FZbjceK45nubqBM9bjNm1KuvvlqfdIBepsx6b4PYr9+6terXuwZdY2pQfcJhK/z4x/PZChhnr7++PulAq3effba+UIA6Tl2/e/eZrLSFbEgSD9difrLtQ9v+5JNnbYnj119v35Dcq+Xsjz9eHe/cWR2NMcbsNzxkMUB/8836gjEbMqetgOGHcYbhd/Hi+mIBjNZz51bGXBcYfRiEb7+9vtDAQxRhZCDqYSo+JJIf2sjly6tzHpoxVgnLBA9wJG5k3ea2hMWNyG+//baxqN9oLOuXGsv5o4MffvhhfWcesMZL08Glp3DNWsiVKIWLKA6IcangYxqlJ4I4JY7LsutphiPh5U9x6b5cF6WwkSE5SuCvSzdc15MaDUXxgmTOT4Xyk51mlYgzXu8rF0D3ygdHhZuSf2TlOv5iXCUZutLqyvcQuYw5LzGkH2TB1cYXyWGyDof0o/u4rNsx5cQ13cepnQHn1DWg7nE+VEegJK+QziKqKzHtjPSlsMSb8w01Mkbd4dQeIsRd0heoDwIGmlI8UQe4MXpTPLmO4GrqVi3IFOPOMkrHKh+5UnvL+a1pk9KjXBe5vLKcsTyiv1J9yvVdTvLmtMhXRPfRScxzTfmKKEMpXNZLrocql1g/uuSXi3Hke3PVKdJAtlxfSuUQwYBjpi8afiXw07c6IB289dbqKE6dWh2//351vHFjZYxmzp59ZqB++eXqqLBCcT96tDpug8WNyE+aXv67dc4/a3q0n/70p+3/U1BhX7q0Oo6BsAw4mkbmODQ93QeVj2xpqlmG08OHz08tx0ZIYyBN/OMHR2PLHQHwVHPhwjNZiYv4dQ1HXENhcXmKe4wctbDMrQoe4+2CvPBUJ3/Ig+N/nqjQ26uvPruPDhgQhxo8MhD3lSurcJuWA/4UV0kG9Eo4xXPmzLPOYgrIRvlF2TiXbkWtfsg74eUPnXMeDYoM8uOHp1yFe/DgxcEC0M/nn6/84F9Gi67hkD2HrSknwsR6TPy0M+mXa+gJCM/50FaUKC9hkDemOQV0ib7o+IeWmIcgbyxbSffIiMxj0KAHsY1pxgK9xzpbowfKAn844inVEcqCa2MHfeos8WqWBWrrt/TDUTKgvygDeY31seQnQzo14wX+8vJkly7Ru/zlugzomHameDTrRd6YrcVvzAeOe13tsq/f6oLyi+NODsf/GuOUfm63wHXikj/JH3XFESgPtRt0pLLE1fRXJSRPthXIT6wvpXJYChmJJ06sjkLtUjPxyKZrEdoDUG8pA8j+FPdWV2v52cMlIYnozp07t77Txe817uBJU7FeCLsKj8jPXFPJnjSV4rlrOPxyr+sc11Sg9jpp9fmLTnI1DeDptabQi+GQNcrGeZZfYZGFc+LNMuGIJ+dTshAH56X8lPyNkUPnOM77dKM4cvo5LskpebquZUf+s9zRKZ9RZhwyc13nNfmXPDmuHBaZcn7lpuiQuHM5S7Ysc3ZZP/xPuOgn57PkiCfLqLxw5LxLPyU5s/5ry6nkuB9ly3W7y81RN2I5R11zr5TnXI44/Eb5s8tliJPuY7iSv+xKaeX8ymU9xnOFiTouxY0bkkvxRlfSU8nluEty4bgWyyq7Unlmx/2cP9X5GK4Uj/xlXartyJEfpSGZYv0sXctOOtC50s5h0FtfuUwNh+N+LEPJVBPXUPylPjQ7pRddKU6ucS/Xl6E6G13Wd8l11S/Vg5w+LsqAH9WL6FRG6KRPjq7wT578qHAN9ycL17L7540rs/hMZGM0rv9bcYapmhE0Cm9ysHL8z1NPacaoDz3FnD69Ooo8FTyG+DShpwE9KQiuI7NA9px9hdVTijh5cv3PGvKc8y0/jx+vjiJPl+v8/v3VcYwcu0RtuedyVblr5mFM/l95Zf3PGvwxWyBYYuBJtuYpvwbiJs4IaTadzCAl/eRwQ+VMW6HO5rai+p6XSbJ+SE9pCLWLPJswVE4lavTQx5Q0u6AeMXNCF7fpDKRA97luDi2jjeH27fJSWe4jBPpm9ga5VK7SVa4jQN1FL0MQH316MzC2/9e0n672n+sbMmumpkT2n6kdL6SH3N+qTeR+Oc9AkZ+xM2yZPOaIoX6riynhuvQ5xwuFWWd9yE5ojLW2DpZmF0v9U22dNWUWNyKvNiX6+rrnv9iYxx988EH7/xQofHU6Y6afc2M+DNRZYHAw8ES3TXZBDnUu2tcBLGUxuMUGzjJNlG+Ohj53/lk+bar10/hKS0tjoG7XsoR+1FZYdopxb2q8TYWBNsoxRj9LQ31FLzWDcw2bGhS1lAb9rsGaug2lPjQbHNBl1HRBX4AeaT+ZOet3jAfXR+14oQcqlltj3JyPhTJBDyxXi2vXVsdojGFsx7RKelsaloqjDDxk1MAyOWWoeo4RzjnXBfdi3FP6nfwSyr5QapclagzrrnaYyw63KYsbkW+++WbTyT5onhCeNAPu9YOXX355faeLP1gfy5Q6rn2CpyQ9MUWnt8mWJOruMOXQE3w05CDO5mA8MDhH2UozKGOIjW/O/GNIEpYHHDrF0n6ouVlCPxHyEuOWm2N2YQiVE/WCfMb0lzJmx8x4RJjZw7DdRpnPRclY7TKc2FNGvSoZRqXN+30zgF1osI8TA3PVbxklGMMxrjm5u97jl93YGWT6Dpz6RM0AC+oYfSbXlAb92DbBsEeumE89aAyhfXq0YfJHnUJ+9SmMC9yLffPUh0b2gxJWY80QS/Urka6VQ+oossrwQ5ZSG5X+MDa7VneU37ySKTRWRbcpixuRc6OOSwYRyswVLVccNea82TQv3SwJBU/lmNLJjuXevfU/a3TOQLmkHLVPUsiDDLEix9kcNaoPP1xfGEku19j4lsy/ZlVKHUAthMcwiUgfYlP99KG2so1tDX3lpDYcZylKdHWWXfSlqWOsi9DXT+Afg5uBNS7J1vRLGdXN/Kmb2oEwQ1yZrqU79RGlLT56uMOwg67+FLqWy/tQfJqFm7N+q+zef391rKF2vJCu5ngTVmVMvmO/qHoJ0m28tm2oO7VGYwb588N7fGhXHTx/fnXcBJXNzZuro0C/uX9GLtXtJZFMeXxWvdK2iK42GttW1/aTvna8FHtnRLLMRueohi5lqgOngpSemqn4dPSqQHpTbJvwdIQMeSmep7JcsTeBp1WlQbyck391PkvKURoEM3QSNGY9ccupIUvOGA9P4aWGVYJyVafMkbzGJ/a58o/f2PlwjoybdPIYTegmll82BjbVzxDoijoTjRfkQD9z0ldOmhmMAzmzIOgmoofJPkMvMlQ32AcX9Y+foX6ChwfaV9RZbb+UwXCiHKOMU5ZHgbrJwBPR26px5pQ0kB09dNVdZtvQi8LhF91JTuAefobekC+B/sg3epqzfqt+xIG7xmCoGS+QE39clz9AJ2ONEsYz2jku9omxTyLOqANkoty2CfLFOkX9Rk81ULeRN+dPbUQPhLEt576vFsoGg6skW4yTtKmz21j6Vn1BB7G+UH+QVTZNqY1mOfFLmFgniZO4SUNtiLoYddwH/sbWW9h5IzI3KhQUZwpQJjMBqpz45wknVz7tXVN8FAb+tgmDDZ0xBR/zROVQoc+BKpv0Qb5jx76kHMwm0NERX1eFVCdBevGpFBSGe4oHB+SjBsIy8BJOSybxiXeu/OMXg1ThS7oeC7JRnyUbcSKXnkDFJvoZAl0hg3QoOeZuL33lhG4pIwYBycALJ1kPtH/yLX0NdZbkYahucE3x6XMnQ1Dm6Ig4obZfyiAL6UcZa8KVQCZ0TDw4QK9ci3olDWSNesiQH+QiHMZLlhPHPWSd0odoplD7pOeq37kccLTZIX3Wjhf4Qw/yh6PO5NnsITAAyDOyko6cZOA+M8IxHWTC/zYhX7FOYeiT/xrwS/uN+aONUza029z2cNyfilYx9EAI6I84FT9pc0496QLZ5F9Gqc5jf6NrpAGxzolcr3Ccx61cpTZKXFyLchIGfcoPcaI/0tgqq5e0d4mHjUMsu6Pqmspe/AQB11ZVcpprGlAbvmlsxft2u+FcTnZ2zzv6PvrFfL0xEtu20hg6L9zbJ4f8Xfngemk8mNs1BldRx0fZqf6s+to9/cSPMRlmG/VEJ3jS5hpPZcYYc5zQHtq4PQCYbWSGqW+mbB/Q9pS8R1EzeWP2rJp6qD/MTk5ZHahl74xIDJC4TKqp5rjHYF9gzwOyC53vY16Acqn5xE2ehsflqXjiieVcoxum/OdmzJ6STSCNuAdmaVjiIc08aO0bpfKprYeZXOd2GfV7Y8tP+opLfDVMDddF7vuWJtcJ/p8z/U3HodL2ABxyj10a30VKS7S40jLtYTC1z9hl1Fb7tqnMwU4bkXN3XGOIFV1uXwaYfQBD8smT590clZ2ZzCWfuszmUM6Ut8vJmGeoXUQX98rtO7T3nD/ctvoBdHkUDPJa2GO6jfzu3UwkStlWRcAgiZWdJ6YlDUlm4bbZqPaJw9INT8iku/TTnJnGvpbPpg/IMjj2fZnzsNBDbITy2OZqgDHLwluIfzu4/zOdy/0fhWvZ/ahxZXbQiPyV9XH3YLkBQ3Jfl5uNMcYYcxxgff7vBMe3g+K53P9VuJbdXhmR/dTsW+I+T5Uy9nja15I0bq7ZROInvjyb0LU/JspQ2mNXs69GYeVXTsRrpf1S2oskl2VHvzjNlMgpLu0lwpXyAF1hI0NyZGp0UyLKiyvJrPqSHXKrjLvyKmK40mxGTqMrH7muRn+Spaa+5Xj66nzU0dBMjOKFGK4Uv+Tt8qN6wjHGxf+ZrrSUxlD5ZLJsXfUv19OsH86RpzY+IC/sfQN9zkR5kn5jWQJhYr6zP6Wf0+1rNzFvJZ13EcPlMlV6GfwNpaE4YZN4xvQ/ENOKe/aizkhT13E1+kLWGI/KKLq+ehJljKjslS/JL5dli/mL/rieyfmU65Iz5ynHualsMXxJ57Eu4jgfoqZ+QPaX049tUGWNK8mQ5ZRTPkt1Q/UGJAvHWEYlnWybvTMih0CpzBbiWPqkoPl2IUsXctybonw2AU/dc0eBx29k8c2s/IZyLcjBL64oLlClIm9cQ04GqlgRyTNpKhzfx2IQyx0E32fT9/FwyK0N37qub68NhdVm8dhQa+XYFNKJspRkpvHj5Ie8Av/XLhUSPm59gJhf9BbTQCe8SBTLBtBJrKvEWfI3xJg6T9lIR5QDMqhj64M88d3GrvjJv16Wkh/pOoMMiot4qEOxI+Z/trAoHr7zVyNjF+gT2WKZ8RYj6UZIl7dm5adLP8hMfGp75Jn6HOtAhKVU4gLqJGG2vVcL+ZS3ks67iOFwUCrTsSgOxTkVdE59ivWOc/LYhbYGQKwT6ueRLdY/HPoqtSfBPdLEEU+pPVD2ff2e3ljO92nbxEX/RF2MY0FfWdJmqXdKO/eFyBzziS6AONlfVyLniXFN/dVY2biPP+JDNq4pfClsbfuM1NYP9MJ1tU8cuimVOTqgT+qSATm5pnhIG/BL3VN/pPs4xiGuZZCpr688FNaf+tkhfq9xiPXs21JNQT691ij3uW89NQXS+mkU+vQ7g/yv+yUnf6V7ctwvOWSSH9LhWpQPF2UqncuRD67rvMtfdNxHB/FaKd9ZdzqP8uMIG/VJ3PiLfogjxiXHNcLrPOdHLvobI0dXOetadlmekhuSJV8jPc5JX36y437WjZzkztfJW5QVPzG/uJy2zofqW8mRVpSjq0zRe65f0Slc1keWoRRPll+6znGV6kJXuWYd4Qjbl4esCzmu5TLILsetuLLuS/mKTnnP+pd+c3ykGWXL/rJu5XK51Oo8O4XL5SA51F6UXvSD69Ib/3M9h6mNJ7usJ5x005W+HOc5f1l/cl35xp/ijmG65C7JG10pHHHn8osuxynZJKscfpRf6SjWn9K16HQ/x9vnamRTvLkshnSFK+krulIcSi+Gi7qRQ8Yoq+pA1g/xxLjwk8urdC26XL+Udg6DjN06+a3GLc+RmYlsFNla+02FGJwp5OmlhqaAmpJ45jjnSaDrybELnqaQL8vFb2ROIcej/MTr+i6XfgNZP/uVZ9cIi84iyBrRT4fpKPCXZ8maxvMCXNNPZY2RYwly3uaA/HXNKOhXGjLMbmTd5fpAeSIvcWxKV53PZUqaNbNi+lk/kX/LlSdknpgjqp/5d7nz71/nukA8tO25nrjRe1c9HaJr1i23ScqNdr+rDOm8C34WMtL1e8C1MNtEXaF/nQPqblc7mgJtj7C5fLvyjd88DlHfOM/tAbjGvdwXCP0Mpu6rj+n7feksq9CYIEp90BikV8bErln3TI1s8pP7LK4P1dGu9ilq6ofKK9d1yZh/K31qH9pHjlNMbbdLcmSMSAw8ePx4dYwwtUxnJcdU+RR4Q5jKxtLXGDZpqHOhAS3qYRNdTGXbctCpxHRig8OQpTzjB3D1k2i1S9nA8qQMSdKIxg6dCYNAlAHHtSWZq85PQfVdS1LRTYEln+YJvB2ciWNooBhiTAfP8lWUf+lyO26o356rj1xiQC3Vty5jqG8cygYAlK5FZCzq4UxL2TF9+ptYR2knYyE++jDiF9eurY5dS9lAW0IeDEnSzkvJc8jWx9j2WVM/VHbqz+XI5xSoEzdurE8apKP4IIARHtNCn/vCkTEi+dFyGkFWPpWYwYzKoxlFBqSpbDqAHTbSQXZLk/VWkgE3JzRG0o3xx45AT5wyTnB0QlOeIvXJEBk7sTOlXkYZ5AhTQ9eA1cXcdX4M8QmaNGN+5aZ8jkf71u7eXeWrtDdpbqg71IUoe81s5XFkyBjqQg/mU1dltkGpP+gyervGIcgz8FC6FsnGHf0Ts5OCdkB/E+uoDNmxEDdOfSHx1hhdaiOkS7+j2dI5ZSuxdPu8FfZDRtdnVJdgFQ49Sq/oiH5M/Xpp/yX394UdNCL/YH18RtfUbkaDcjRYKEAq1tiBuAsqreJXnLkjyMuPXUsWWuLdBpqan+uJv4vSkyDXpKttyaHlFV4a6UJP97GDwG0Cxg6DomZcGRxLg1CJXB9k5GpZp7a+zV3nS+RlPJ2z5EO6UQdzwgwxA1GtTktQJl31VEj3ccCek7y0KNTX5ZmskryR2rqxKXfurP9ZozYkuWVMxvYtXXahQTY+GEyJB6j3Xe1oiNJMU1ffrXznbR2QxyG1h1JZdC2XR+jDKP/SDBbX5zDM1F+S19gXjulD9GtjqoNzyVZCZTq2fdbUD61CDRn4NShujMKo17jSpTY11jjdFXZ6JjIOTLVopkJLijTk2AFj9fMkMAUaMXFHw4RKGeMj3dzhq9FreQCQK1bcpaGC0lnlJ37yJF3NRTTiFTdP6LAtOVRn4qDHIBV1rkarJ8ToaqHzjYMf56Qhw498x/ooCJP3UOIvxqUwceaupr7NWee7ID7JT0fJOQOGBh22BTALkfOIbvOAPEQuD+KNdWwseus1zhbnNJSPOPCXdD0VxZ+NMg0u6E/U5rWmbmwKuo96Y8mPdCW39grGvq5knEXQBbMwyKq4p8QD9M20o1g3a8IBes4GhtpebL/ESb6p79EYiORxiPIkf7E9kFeuxSXkEtIFZYuuo2FH3qLMxEkZjYV8EBdOfaBcV3slL1EvypseAOaSrcTU9llbP1hFQd8yrgG/uZ8YAjkpMy33R6e4NVbonHS8nL0hUjKFSOcSG80QNAYtKVJReCqMDYP9jMRZA3EonOShAsYnhhw/FSLHj/yEi/HRqWxriVFoFlUy4Jgt0hPkHNCxkjfFT57JeyzDbchBenTkUefMKtCghRptfkrED/5roL4Rr9Kg8VOuGnyQgzhzXaIzy0+ehItx0SESNlJT3zap87WgM+IlftKi3GP5kTf85H1FuS7UQDwxDspHsz1ToMyIk/asODnPsybIShnID2Q/m0CZqF7Eh4ecLkZGTbo1dWNT0BMDt9LIZVFqd+QntrsS1BfyqIF7k3jIs+od+qgJB9Rf/Co9QRuM5UGctNW+/iqPQ1kunMYT/PaBLiR/nMAA+tIoM2UzZVzBcCEeZFQ/iKNMyG/JkFT/pbTJG+F1fS7ZuiDuse2ztn7Qf+MvGn/4zf1xDchIvqNeOSdu6jppIbfSIh3q/t6wfkt7h3jYOMSys1vWNR3Hc59ikGsaOF1F++mHfO+4u6ZjbXXTdHLF+3bbcSoH19Hj4Rojoy3v0r05HPE3xssL193eN3MaS/J19Ml19Jvvzef8iR9jFoUnfJ4S81M2MwQ8mY6dMTNmW2gZ3HX0eMCM5tAs2yYwa82MnFZnBKsNzIwNzZaaMlra1/K50HYVzdruMzYizbGF5Sg6ZjpJLVnguLbJcqkxS8FgRB3FqGC5zRx9tE9Ue3mXgCVVLbHGvpBtR5u8xHbcKW1jwKHTJ8xFHgF21ohkj1DthnJjpoIhSWOOrm+v09LISMgzAmMgLHHkp98hasLRKaKjfZiZ0EZ4DcJLQ1rxRYMlkP5xsGld2QVU72I50ffHfaK1HMVxAwNv7jaHrtF5XIVROtHN+TA9tUynhisxtW+sATlj3aMvIC1ejEKX2ueIUXmUDHPPRC4AFYnKk93cyOAoNTDdy67kV5VdrjQQqvFFV4L4o5/+Afx/WR8zL6+P/XTlcVtGgzHGGHM4/G+N+9s97k82bnl20Ij8lfVxv2FPXXyi4xwDp/SW2xSIiynyLvSNK/a5RDnykyVGH0tjus/TEufRkMRYY5mDJyj50xJwBONZ0/Q4/LO/sNuoW3/b4AV+fX2sA5nr0zTG7BLMsNF2mQkzZl9h7IszjFrlWm7fMkbk3+lxP2rc8ngmckvopxL1kdpN0GwiFRRjbirMLvJiiabZgQ6dPYEYkjJ4kZ1rcROwvm0mYw1DE4M1fhcM/xjPGHXbgjTRSfx+mDHGGGPmZ+eNSO1rkivt/8nLxxg0Ee4zs4bBIz8ykPJSrpyMo9pl3CkQF7LmZdlSHiPMJmJAbop+MzrvtdGvyvCrGciCcZh/jF5h9KskGJUYb/mpi+8ewlwzsJsQdYyLqJ5RFlqSj/tbYjhcLCOF5VqsY7ic7yn1SfIozTFxxPqth48ahsLlfGY/ui/d4PraFC7qe6hNl8gylVBfEJE8MY0ot1wuyy5ye47hFG/OT9SXGFPOqiO4nL+M5IMYLuo/ovtyEcnIMcZVqjNdaUknqh+1KJxcVx3J9SLLhr6Qpza+SA6TdThGP0Ny6j5Ef9JbDF+KvwtkVrhcd6SbTMlvzB9OcmVyvY51vo8cjvMI13KaquvZb4R84EflPTUe8h/1rvLoy19OO9enofC7wE4bkRgvGCYYTDhmw1hWjUqlgmPAyA9vmLHMmwubmTVmp+QPY4cCjEu5hAVm5lhaIQ4+7qr7OOQpNaohiIewcTYPkJWZPsVfyuNSkAYyZfQTZvxi0KNHq/9LPz1JWM08Mo1f0os+cTDHDGwNNEbqjWZ+QQ0T3UY9cy1DeWD44kdLE/iL2wK6yohrsY4xCxv1O6U+UUc1W4zhPiYO8sKnO/CD/MSTO/4SQ+HoHHl4UPp9cSObdKc2FbdGcA/QqfRd26YjyMSMt7Y2cIy6H4PahdLH5bLsgv4kyk6+CDe2PY8pZ/Qpv+QbGfIgWIJ6rbqOoyziIDim3SCD4irVB/6nfBUPnzipkbELlVGUjTZPupHausp14uOIv5o6xz3C4FfxUz5dZdSnnzFtKvZHpE2955rC94XNIL/qK+GoOzXhMtSbWF+1rUjGkUCu6K+2XeVw5Bud9pVPDeidPCNvHpuXJqe9Sb9zqKy/F7lD/F7jVh+BXon3zDWVvL3WKP2569HJT1PJnl5rCqG9xr3oN/vruhYd90pxRaf0oivFyXX8xmsl+fsc4dFVvi45o8tpES5fw0UZ0DX/N4PTC/5i+C45CEf4cpn974VruP+1cO1FJ9myy3lqBppiPvErPSvPJX/Z5TwpbM5/f95XTuWk+hT1rXsl3UeX41C6yptclx7kpobD5bokmWriGoo/1sfSfRz3iSdeky5jONLJ/mrKKZZL6T6O+zkfWXad57SkL5VhyWU/kinHRVmU2qKcwmV95vi7yiWGra0zyJP1Lpd1hCNsXx6IizD5OtdKMkeX66riyrov5Su6kp6VF5XJEm0q1kGll3Wbw2anuHLdyXrtkrOUZnbZD/HkuKSfvnZFmCiTXI6f86xn1XXFr/S4rntZBzXxlFyuD9Kx6lVN2tn1p/uTxh0+Oz0T2VSe59BSad8Po3dtYm0Kd5YNrppZG4L0moJuHf/zVFaajci/IY2M5HvTPX2lzzU0lbk4i7DvNA2sN5/MlmY9A3rWcryo+UH/rt9y19K90JJ//n3kSFd94ilbM2t5u0GmK458XR8UHmJKuK62pd+N34Shdqt2lbdc6DeH56A0E19iqfYMXeWcZSPNuMG/i7feWv+zRudaNRjTbobqDG1j6ixXCcqcfjVTupbpqk/5eimfEWbHcptXHHmMmrNNxf5HfogvwvWatp7biNrQpjN8gP4yeZZWedGKVxddZR334I+BWWZcY6RtfQZyTNq1/c5hciRerMFgiK6W5inm4MaN9UmDllfiwKe9EHIU/lj03cFr11bHwwKDBPISQxddg1aktHRToqsxRN3i5hhklE+VJ50pA1hOq6aTBQasGK7UOdZSW5+om1DqXOeok5tCOUUZ0G8NfDAZvWuQQreEzcZ7jBvXB3t35wb5YvoY9dvmsMt503YT4aH26tVn8dX2G13UGMlial3tQw8uWkqObipLyLlNKNMo/5R6si3Uv/ZNSC1FX9q70O+MZa+NSA3uFEqciaqFpxgqugpMMz96usMIoeOOM108PYyF+JBxTKfQ9RS6CXrqU+XtelrVTASGn4y/kjHDk7jkpAMpdezsq4Su2btYbrg5PvRdSivXkdr0aNQYjQyACjO2c9QswZj6hLGFzPjXgAVz1clNYP8TdVnp49QxDqH6QOdIm0O3hNXnXTZt03OA8YZ86FXp68FkKmPb82GWc3zgm9puSmh1hDzRhuL+y6XYpK7WEPuF6FSfa1lazrF09ddd0GYZA6L8mzxs1zL1YYQZV8qOMX+OWdcxdKW9RL+zDXbQiPyD9XEYGTtTfg6KwYqOLHbSuLh0yBIUDWFoObEGLRNQUSJ5Ol5y5eWJOZC+tGzVtXSh5Vfy3bUkqzCKg2Ud5I4GD0iH5UH0/10fM79cH6ehmSnNpLLskeWqRUZPzbJsXrKUjiTH2PrEQI3/2BnPWSenwsPD1AEO+bNhEg2SKW26q44qrgiDTq4LKmOheKYscw21Z7WDPAuR6842yjnnOz/wbdJu+iBP1IExs4kZltmph5l8bZO62gflSPn0LXePYSk5h8htRHVf9bS07J7HC53z4stSdJV1HFdK5ZH7hAiGPnUcwy3W87HxTKGU9ib9zmGy1zORemKOnWHtkwmVT4WomUg5NQr8RMOI68wOTEEVgzfhIsQfn8i1nDv2STZDPiLkAdnJswYmZKLBxMZPHnki5klJ8D/XYudBGMIqX5I3LkdjMNPQ9WPzoCWblU67euAfni7laUl6DMqPZNNbmzku6krMUwkZgLGzJd8lSCPmP+toSn2SUaI6MmednAp5isYSeqV+1IBO8Ku2Jie9TW3TDMDEK71Qf0p64WGHclK5448ZgYgMPvkhTvqJGmraM20wpokfZIpso5yRQQ+1pMM5eiRt2KTdZCjjCGVV21eX0ENGlC2nAZvU1SHo14hLOhTIoXKrZUk5+6BOqSw5kmbs+zXhID2X2oIeOqKhRRug/s5JrC9qV5curY7AgwXyS/c1OtSPb8S9v1PimUJOe5N+5zDZayMSY4ipXzo/DUY07K5BPkMHSYOJsyKcU3AUJDMkdPjER9xc32R6mQ6aNGMHwzUGNsnPfeTogwYq/zRUwuhcFZB4dQ1HHshb/sUazQbIH3lEp3HQ43/pRf5o0HkmAbmjLHRQ6EtG1FJEuSRb1CH1BD3FeoLDoB+a6UF28k5eFK6rDuAP5A+ijqbUJwZ0ygO90pnNXSenQJ7Qp/LJrJnyPgQDDbKrveGIi06agWFqm0Yv1HnpRZ/NylCX8ac6Qx3Ig132Q5y1OkYPQ+2ZNig5cQwe5DmyjXImPvRE/KRDnklXbNJuMqQV4yBvuS8aA+kTZ5SNc/IQ2aSuDkHfQJqxb8CRngzxWpaUsw/qpuo5R9KMfX9uj9QTwnAU5BU90IYlP22AMp4LypV+QPGTVtZzbjPMJiLXEPghLhmmU+OZQkx7k37nMHmJV7TX/+8ILHGuTfIFYUCmYeTcY4RRiDScpY0fKkruuI86mqXZZADZNXgooMHnDtg8j/RUalsY/rijVC92Fc3SMkCNNQaNMWW2P7b9pHH/9+rfQ+RIvJ09BS1T5qUILb0ubUAeRzDQmZk5TkazeYZmDfKWDtogT+NxW4UxxuwTjG1jZ6CPAsfWiMRIZEYkL0WwrLBrc7NHBQx0ZuuOY0MzK2hbccsDblvbHowxZm60vQyO4wTJsTUiQR9axbBhcGM2JO6NWBrSnLPSMaNDZda+yE0gDuLSTC1LkZz36YYtAviJez4jTPMvudw7lP4YyCdxCcVd0i1GMWVZylsuE+mV+JaCTi1uQt810FV2my6rkl8tJ5l+MNbn0LkxZjWuqR87juzsnkjtWczMuVcx72XT+b7uU8RgmWuvE8ZO3BtaoxuVGYb4Ycw2zpk+RiSbt9U6FPdY3eYykV6X3D+JMcWMOm5OiJdZxMxhlXfk+T2VP2rc/8E/xhhzRKGfY1/kIYMRuVusfju7GWQZvp/7PVNdawybp9c2ccRNfMRbur9vDr2Qn8ZgKd4f44hjrK5LZbZNN2f6jbHcxlW6N8ZNKZMpuo/u3MDv5k51pXilpznq3CYOuZBvdX6hccYYY5Zmr5azNXMz94c/jTHT0Hfa8oerjTHGHH32fk8ky46l/V/sO8v791iS5LpciVK4iOKAGBfXIaZR2qPFsnAMl2XXnjmOhJc/xaX7cl2UwkaG5CiBvz7dlCBewpEeDKWrPYT4U1ic0tX9UthIKWyEa7rf5SeS9zZ2Uat31ZcMYVjuBr30FfOZ9YdDtj4UJsaT2wJuTqL+cVlG7qPzWJ44ZI2U8pv9GGOMORz2yojUwBu/Ul8LYbWn7cmT1ZE9flNhMGMvGHFdvbqKm2t8mJRr3GP/WDROMEBIE//4wTGYxsFdYEjwyRPJqjdadQ1HXENhcYSNBs0YOTaBNNEDjj1zY9LFH5+Cwc+tW88+ZKtrOOItGWoxLH70IWvB/3zgWfGgX/x0GXa1IAu6Vrx8cBdDcAzs6UMeIN/Eo72NJf3hhzT6DEnC4BQP+dfeUcXDx3XR71ik17i/k/KM5YS8yJgNcHSuj4JLBuQUGIuc637JjzHGmENkvay9Qzy/JzK7Z/ueVo49Wc2g8tw1HH6513WO03410urzF53kagb6p9eawbgYDlmjbJxn+RVW+9+IN8uEI56cT8lCHJyX8lPyN0YOneM4r9ENceEvpomrSVd5iOniuJbDKg2dK/0cNvsrOXQb489hJFcs9+hK+sIpHoVTfnMZRdcVV5ZRjmu5numcY7zXFXeNXMSLn+jIX8lvdKW4s1w4ySZdlVxXOSDbM1m8J9IYY7bBzs9ENgNQMyqsHP8z0zN2xkzLX6dPr45Cn/iZgn4vFPRmqn77UnAdmQWyMzsVUdjvv18dhT6GLkozdvLz+PHqKPR7p0Ln+v3nMXJMoTEO2lkm8q54YUy6+g1lQZwxLpC+8/JmLleVe54Ji4ytU5lHj1bHrrQ3hTyiz6w/4Br3oh4418xifEtbexeznOgWHfNza33gR+2xMdracu7TK+RyE1nnalPSZYlcL4wxxhwee7WczWB069ZqgBzaBxbJRtZhoAFey97RbZNtyIFxAVHvu5J/wdJzlAEDdxPmML5ryA8XULqGsXfu3KqtlCgZdmMNaX3qSb/yFIm6xU0FAzXGo/2ixhhjDp+9e7Fm32cirob9bNEt9c3ASNTdknKwZxUDpjTgH2b+NdOFscTsXEwfefeBkrHaZcDqN1xL+0bjrKWY8l1JyhMDXPFxxNjjQSLqdwo8KFKHeHBUPHfX+0WNMcYcPntnRGqpSwYRS5p5tiUvr+nj0PnTQFre3QZaLuTFm6XJn1vROUbUtuSQAaPZrW3mP5eryh0ZMHKoLx9+uLo2F3nLgJjyOaq4VUJIf6XlZq5xDz8ZjC6MPL0A0yWn9FJaLu9D8X355eqoeN9/f3XcBOmu5scFqG/H8SfHjDHmMNk7I5K3PBkwZRhqENObtQyGpRkw7d/SjAmzHGPfnN0Ulv2QIS/FM3MjueaAJWOlQbyck38ZGduSAwMGw0QGzLbSjW8CcyRNZsxAOojGGPJtupxNfaRe8raxIF7SHotkzAYo+kPOqD/qPdd4G7oEcpF36Z1zZl1z3T97diX/2Blh5fvGjdW5Hu7ig8zU/aba86qypI50LWdTh6amY4wxZho7b0QyQDFAyGEMxWU3BjGWu7TXDv8se3GMMEtBWMWnT4tsE2ZUMKwYwGOeMLRKs0hTIT7yJ32Q7zhLsy05sgGzrXQpV4wN4uaIDNE4Ij0ML6UP6GhTVC9jvOR3CtRp9EY8Wo5Gf1yP+qPekx903QV5l+GIIcasHeeKA6cl/ikwq4sMGHu5PeIwfnN7rAG5KReVJXFM1acxxpj52cHfzv79xv3a6l9jjBnNhcb989W/xhhjFmPvlrONMcYYY8zhYyPSGGOMMcaMxkakMcYYY4wZzY7uifzHq3+NMWY0P2rcT1b/GmOMWYwdNCKNMcYYY8yu4+VsY4wxxhgzGhuRxhhjjDFmNDYijTHGGGPMaGxEGmOMMcaY0diINMYYY4wxo7ERaYwxxhhjRmMj0hhjjDHGjMZGpDHGGGOMGY2NSGOMMcYYMxobkcYYY4wxZjQ2Io0xxhhjzGhsRBpjjDHGmNHYiDTGGGOMMaOxEWmMMcYYY0ZjI9IYY4wxxozGRqQxxhhjjBmNjUhjjDHGGDMaG5HGGGOMMWY0NiKNMcYYY8xobEQaY4wxxpjR2Ig0xhhjjDGjsRFpjDHGGGNGYyPSGGOMMcaMxkakMcYYY4wZjY1IY4wxxhgzGhuRxhhjjDFmNDYijTHGGGPMaGxEGmOMMcaY0diIbHjjjTdat+v87Gc/O3jppZcOvvjii/WV6fziF79o4/r000/XVw7a83feeWd9Zo4ilDflTPkDdWmuOrVvqA189NFH6ysHbf2f0hcQB3HtMuRrrvY9Z19Ug+op6R419qHu7BpHuT7sGztrRGqwyy52+MYcJRjgS3VeBt8uIQMsuvhAYraH9W/Mi8g4z25uwzP2hX2ofx/z4JXHhFIb1wNddCV4iIx+5noA3PmZyO++++7gyZMnT91nn33WKmDOivDgwYPWHXfQ71dffbU+Oxrs21P+66+//lx9P3fuXHttKUPy3XffbdPhOAZkunv37lM5r169evDJJ59sbWZqDl577bVW9uvXr6+v7B9+qDaHydSZezHn7HgX6qPUT/34xz+erZ9CdvrCPjRr+vXXX6+v1IFusEsk+61bt9o+NhqSxE1+uCd/yJPHPM6JT37Qw3vvvTeLHvZuOVtKQnHGHHUuX77cHu/fv98edwXa4dtvv70+Ozj4+OOP2+OdO3fao1keHqR5qGYAMcYMM2c/hTGHYcjD9MWLF9dXn4eHf4w17uOvFow7JtBu3769vrJ64GdSAUNSMD4Qd5wE+Pzzz9ujjE0d4wQResCO0viyCYsbkd9+++3TaVSemn/44Yf1nelISdGKHprS1X2OkkdPQENPUwpLhchT5CXi/exHU9/IHuNS+nFqHNc1A1UKm4nx4IYgnvxUmPPLeYRzwmW5h55wCKe0YrgcP+SyzTLSSLgeZfiN3/iN9sggC7oen+J0TY50IvKv+OVEvJbDZn3guspyLOg760k6ynrHr9Lv020Mh79SXJuitNCD0pArEWXHRf1Jv13tKNKXFuclvQwR44t1KoJs0V+WTfUKor+u+DJXrlxpB5BTp06tr9ShcpDLdbckg/KS/UZyvZkaD9DG8YfL7T2Sy1ZpC7WVXBalthjvRye/Oa1cbzgnPdVNuSxTH0Phcpvoyq/qFq5LfjmVUa4XuC7kFyMKY0f+ozw5vVj/VR6EJQ75Ub0YI8umUL+QNZfbUDvEEMsP05mpqx3YOBh5hI+cOXOmPSIrOkJ/p0+fbq8JyfPw4cP2eOPGjdb4zJw9e7YNvymLG5FYzRKUAf2nP/1p+/8mSEl6mkCZFy5caAtLjgKIlVYwg0nni5+xS7fECV1pqBLSscsP/5caAE8nr776ausH/eDwR5wKq6XMTAyLg6ly9EHDiunwJEUZ5saF7MjJEX+aKleH0IU6Dy2LluKns8nT9UzxlwaWKMPf//t/vz2Sb1BYPYmSrvzKH+mowxXUXxqj/AFhY/gclmMsR1xXWQ5BXSXc2OVmUJ2QDBCfYudE5VHTWUoPkovz3FbRL9fkhzqFv1w+1DOQP8ok1g3qEnVK96lj1OtNQDbKU3F+8803Tx9WBPWWgUB+cFk2QXxqA1qyysZBhvu0n0uXLq2v1EGY2FdqeW+orQ4hPSP/lLoaQUfIKRkZOFXOEfzlssVf1h1+mHGRv1JbpAxif8l9HP8zkC/dF0LsU0rhaA+xTnXFjVzUSfmT/FFXhAXyQZ9IHLVjKDAG40e6VBiVfS4bHCg+/HGNsLEtEe9YWcagtp/bDbLGcqtth0vBGFfK78mTJ9sjK1OPHj1q/3/llVfaY4S8aBaTPGVjFKjPUFM3e2kUtigkEV1TYdZ3+mkqeeu/UcD6yvM0SuqNK4dvGktn+lwjvi4Utulk1ldWNBWtvc594H4pHvwgDyBPKS5k4Hokx7+EHDqHIZ1C9kNaxJPLKcedUTjJLHJZ8H/Or/SgsCrrUnpKZwjFiS4F51kfpfyWwmZyGZVQHcgu56tPJ5KhKz2lkdtFn+xdEC66IZRWlj3LqvLMxHx3taMclvu5DCM5jlz/Moo/13fClGSOkE70o7hyGZXKN0M41QvpQudddMnItZheKa5cRrHe6F6uQzXxZGK8Eekup5/jwV8sP/6P55DDSqZYpqVrGeKNdUsy5jBc6yubqeFK5a4yrolrKH7uleKKlNpLVxlL77Fssw67yLJ0pRGRXqMrpcU17uV81soGSquPUv676Eo7xtGnA8KqXPCDfJkaHdaw+Exkk5n1fys0Hbs0stgzPOFMJU8baxnp3r177RHLnyniTFOYT6eWhZ4CBE8K+IvoCUNPHGJOOcbS9TSYn3Rq08pLAdSPpjG3M044/s/5PXHiRHvMejl//vz6v/EozkzOl8otXlfY77//vj2WKD0tlkBvTbt86pqG3j4Rj509kywl/c5FlLPp5NuZlBo5h+ovsyi53wDqXp6JzO1I7V7+SItZrdIM4BSo05RRrhel9pbJsopc90r5jDD7hQyaVR9DSa9ci3uvxsBMGI56uukMJKhN5yX6XGdUV3L9Rsf0GZHcZ3X1H2OZuy8cGy77F5Rn170xdI2hQ2iFMJeNzqfsR5wqC8Q+ir6gNLvY1abxb/pZ3Iik4CggaKzhgw8++KD9f1PoKGKhUzEYxOTo2LYNMjEtHuXA5U5taeaUg8E3xrHNRvX48eP2SFlGGVSfNoFBeu44IywRxPhZMpwCAzPthvLsMywymz4sjAWDZoqcJVjKoZ5F/eGm1D30h4ET49uEMXnD2Ivyz7GVgPSJR/vCDxvKHPoeoMZQG4/qd9TvVB3L+P3yyy/bI7D8nY2xw+wLRUwfVwvlxN44oWX4+OA95xja1Z/W9rNLjOf0UaQ/x8skh03NpETXQ06mawKllsWNyDfffPPpa+rsl3r55ZfXd6ajNXw9ndIgqGR31/uKcAwc2yI+JdFYJUN02/iMyNxyUAnjJwZwpZmMJYidN2UZZZCbOvNB/aEz4QFHcc1p6NMB5n2c1M2pdM1g7RpqjzL+xxLrL/VMuotuyieoqCeEVRnXdq6bwIwsBg1pSnbq26boLX3qlwZYDcykx/mUPU5TdUKZky/S3nhv1QSk2+zGILmlPxzEunaYfSHooTf367Uw00xdVP7IK32S+tm5x9Cu/rSmn11yPGePOTLU1tVao3duVN8ymoHH8OtaqQQecFS25KH08KsZ4TjWTmFxI3IJ8ssGLH9xnqfP5yZPw6tDV2HSqWw6C1PDNuQgPI3tww8/XF9ZhtyYVZag8txklqNkgKkhbrL83YfKZ6qRm9Gsixo7HUwuX+VJyKAr6XcpVE5DT7ZD9ZdlpFIHuinoD4OnZiDrIm63iOTlYM5ph5t20BkZxNEpP3oo6usHS7NnccAB2l+eyc5lFmGGh7zGl8tgbDzw1ltvtUfVCZHDqX5v2s8BbQdZo05j/dtWX9iH9PH++++3xzFI/miU4WI9mTqGlup3V9+jc92H0sPLkuO5tkncvHmzPYquNj314WpTuvoZ6Qa9Sz+5bWQ9dy3Lq4/alL0zIilUFBI7bRQaFY4S55j+zrBUp2UAIA0KQYXJNDmyRT+AzLlBbcI25FDnEI0OZldKlXET4sDDDB7x85AgSrMc+NdswRCa3YrhdS0OVDTMuZDhqjSRd+pyNnFQ3lo2BDoY9KT40Rs6isiAjbpkOa6m/Chn9Eu8JUg3d65cQwbkLA0skaH6y5uTtOe8vxL5u2TqAjljR8yS3iZlrQePa9eutUcgDeSNcC3qulRGh0UsO+k4vq3KoBO3JVBWnPehWbu4N3RKPNQByicuOSJjDkf9xl9MD0gj15shKFPKT7N0ctLTtvrCPvSAFR8WYzn2gfwy8nMe1YdMHUO1BzW2MZVNfv+A9JEjPlyTbtbjVFlqkC5K9TD2C9QjZNjW0jf1ifJQnrXfOdblrvGRvKgcAb2TF+lZbTvGVcqftmuMZeeNSJQRKz2dBk9RVAbBEi0VQ36prJssH3bBlDodiWQhzbjkQQdIwTBYyA+O/UsaIOeAvG1DDuKg0io8RGNmDkhD5UZHgY5jJ0Nj4lrsAPFPHaiBuNCPwtMQuUbjIz3FOWd90f5ApYm8tfGjD8mEIw7yH7ch5PgpV8Jl0FEsP4zPOZaFqEO0Q8WLK8nZBf766i9tG9npHGMadI6xbtTAw2bsQ2CTWU4NcFE2OnXqU4T8xHTprOfQ/aZQb5BXcpEP8tPXnzKbWFN/8UNcGqymxqPykYxQCoc/DCn5Uxo1dTCih0lkp97JgQw17i3dF/ZBm6P+xD6dckS3NSC7ZqrlOKfdYoDksuJ6TVnRFxFG4WTM5DLEoa/YzkFlJT8YUVNlqUXGbXwgJS3SkBzomfO+8RJDTP5llOqce0B+dI18gMadoYcAyijWOcIhUx4fVY7yR7yxjyv1WeSPa2PsgU4aQc0ATcG1r8I3jXh9xWxK06G0OjXHB7cjs4s0BkTxEyhHpY9qjIxiPtweVzQG69PP4RwWyIA7TLrawRB7uSfSGGOMmQNmbjSTJJhB4hqzZ/uOtu/krSBaFh07u2/mhdlbZhzHzqDPCXWDmckpMhxZI1LTyJpW7gLl4S83sF2GvQt9U+GHkScawr7p0ZhdR3ullkR9ZdwzNdTHHCVYYmX5FB3IsbzJMuFhDuxzgZHIUnjcvoNjyfPJetneHB7aDhO3lGybTbbbeCayAvYN0Nj8xDYfdM7uwI4XbkdmV8GQpG5Gx36zowJtLucv7ps7zlD2h6kL0j/sukb+p/bLx96IVOM6SgNbKU/bmNE4TGpnno0xz6MXmZaYdfMKhTFHG89EGmOMMcaY0eysERlfje+aYWLPTvRDmBLxVfy8z6f0pMw5YWI4XCbLGJ1Q/NlFOXI+xj61Sw7FGfOke12fIABdkyP8EJrZxGWdRmK8uBi3ZONa1nUuy5IeBbKwhwniJzBKKE10U8qD7stlOUDf05LL+iIu4iaN6E9x6XoOp7RVNvF/UQrbpzvJEpEuiUtwTjw5riEUT85rzhvU6i3KoLzEcDk/Oe1cH3WfuLgnf4onhs9hIeuEfGSIK/rJMnJO3CpjOdKuJYZDpkzWQ5ZB+YgyKJ6S/4jCSD+KK8N96Ydj12dNcnzGmD3lyY6CaHyaQPD6+3fffbc+W92Pr8TrMwbyw5FzXHxtPYcrfeZA4aI/Xn+PnwFQ/FHGobgVJspDnPgTyke8liGNKAv+43kpT12fq+Ba1Kv8xWuZ7Id0OMdlPfbFzVHhot74n2uC/MT8AefxmuKK5VEipim/8RpOZDkgp6u8x/LiPteivxwX/8d6ALkO83/OT05P5wrDMeoSGXI6pfrBOS6HjXkooXDRX6kO5bj69BZlAK7HPPB/zH/2n+NQWjG9eC36zefoP6atupLlieUk/cZr+FF60ovKO+ogUwpXir8UF+dRTvmJcYnsFx3E8uJ+PFdcGfxE/UnWWNdAeoxxGmP2jxd7gR1AHUxX59rXgakjVByxY4QcttTJcR47QtCgo863JEO+Rtq5kyxdi0hu4uoidvAcc3ylPJFulrdEV6cvuuRT3rvCQY5bcWVdD8kASk/lUaM3kL9cL5CB6xHS5xryxHOlKQgb89BXJoqrVB45Hu7n/GSZuJ/TinAv57WkX85j2tCV3wj3c/q5LMboreSPa1HWIbJulX6Og2s5zzXthDB9Ogfux7gVbylvfXVW4VTeIstQiifrnftd6XE91pMYP8ecX8WVyfku1TVjzNFhJ5ez2ejddEbtUkhpWYxfu2g6qvXZM7RcFMm/naxvZmV/mfy6vX526vHjx+1xKWpf828GhqfLSXO+WTb0u8fKv37jVuTzEl1x80sqEX1Fv+93dlWOU8n1QnUuojLXD9wjD35yGXGeyyAv0ynviku/gavlTOoj3wrLPxU2BHqnLsyxLDi1zuefnpMu9TNxY/RGu87+uMZyaO3Sb+n30kH5ESWZFLavf8hhSnSVRw6LDPn3pUvkX5aIv62rPjK3wa7yq/3N+KX6GGPM0WFn90TSadHB6ud84h4g7sWfA5Lj2rZQRxwHNvbjNU/z67OVoUBHrE6eDp+9ifmH/HM+akA3DK7EvwnIFNMm3j5kBNUwNu4+8n4vjIptQ340sEaXP1RcA0YB+pCh/OWXX7bHU6dOtcdaiOfu3dXPzUke5NwlNtWbvuOnfXVde/3kaIdzQnox/pLceb/nNvsitcn402c47Uecylx9jDHm6LLTb2djLD558qQ1zBgYosFG58a97BhwtoF+bzV+wBWZ4mcy9GP56tzplMmLvgklI4trMQ+1KK+ljf41YNwi09Xwm6pzDRhzxK1ZIYwE9IyxpLhuHdLvEJMnyRDdlJkaHiZkkGh2vWaWK6PvL+IAGXeBmJdN9UZdxz/1CZ3poRIDT78DqzjxMxe0LdJT3Lj4oAjMOqqvkqMst0HUcWwf0eVZzDFs2scYY442e/GJHxlm33//fXtk+WzKoD0nzCBlQzYbsBgG2UCMRqYMUS1tToGBg1mPvjcrobTEJyO3dnkLNFOmsKLrvCZuLXsKzdxqyZr7GCF9g+EU42ssWkKcC+kGg6i0lE2e81Jn3xI/yLjWbGRpi0cuq025ffv2+r8VmnlUnZtTbzyARb2Q9lTjuwbKJRuNEeU1ry7MjdqEUJsAtckxqwRjKPUxpW1B0kVkaHuMMWa/2UkjkhnH2GFpBlId16VLl9rOKhtOPC3H2colwfCjY9UspFx8YscoYBYj+5Hc2rMUB/Wxe9swrDQ705d36S4ORromYxY0MHXBYM2gHZcMMYLyEuKYuPMAhd7wq4+lkyblrQGLPJSWswmTDdI50QxynpVBds2MjYF8IbN0lz94z8MS5ap8kwbnEWSJZfr555+3RxlVGHDoV36oI7msNoWyiTpRWUpfm+gNuWM4zklPBirthfyJufNH+UQjOZeB9BzrHfmKMs0BqxmqB+SR+PXbx8iAoUubiEYduhrbn5Qo9TEyXK9du9YeodS+pZ/88IOc9IVzyGeMOTx20ojUYCqji86RGZZoVDCrR6cmPziMjzwQL4UMvzjLiKNz16CnFwrifQZA5GagoXMmXwx6ygMDQ6kz7oNBGsMuDyIR9IIfLa0zGHCNwYFwSp9ZhyGYcSUuhWEAJV+RMXFr+VH+IM40M3tLeuiF++ShFBcGFPrHz1KDE2WIbJIVh0EjQ2ksmsEqzXblfDP7lvNNWahMceQfGQVyEbf8oKNcVptC/BirXTLAVL3RRmLc5IP6onDkX/rBbfIbsCWQGX0pfuq66qvgvuodDvpmL8dC/khD+cz9IVBXkCvqgv5wrhWb3MfQB1MXYx+MjPjJIKv85QcJY8x+81LTuddvwjNPoUOMg5mgk6TjZvaCDj139oCBg8vL38cNBiN0VNLjcQFjnoGZAblvuX5XoR1gMMVtGsYYY44He7EnchfB+Llx48b6bAXLR8xIMLukZRwtLwqMBp7Y8/43czyhflCX9tGANMYYc7yxETkRLRNpKQfHUhszj5pVY5I3LnPhNOuUZyfN8SM+dBhjjDH7hpezjTHGGGPMaDwTaYwxxhhjRmMj0hhjjDHGjMZGpDHGGGOMGY2NSGOMMcYYMxobkcYYY4wxZjQ2Io0xxhhjzGhsRBpjjDHGmNHYiDTGGGOMMaOxETkD8RdpcB999NH6zjOyHxy/s700n3766dP0IvxaSpRFriT7nPB72UqrD+TAD/LXojBypbyU8l2C3zaPfvi5SmOMMcY8w0bkhmBs8FOH/PAPjv8/++yzovFz8eLFp/74/Wx+8o7wS4HB9sknn6zPykTZ+TlGZF/KkMRo5nei+5CRhxxjIG7C9OUFQ1A/TSl/yJMNSc4pF/m5evVq+3OVNiSNMcaYQDNImplpDJMn586dW5+tQNWNEbk+W9EYM+31xuBZX+mGOBtjZn1WBzLgSDcXNWlyDRki+CetuUF25bUkj+A6MjRGdvt/TZ6Vl6xHpUNcQL5yGSis0pGcGcIuoRdjjDFmX/FM5CHyyiuvtMdHjx61xzlhRo+ZzuvXr6+vHC4ff/xxO6v39ttvr6+Uwc9XX321Pqvj5s2b7THHffr06fb4+PHjVh/M/uqaUJiHDx+2xxs3bhw0Rmz7f+Ts2bNteGOMMcassBE5MyyfYmzUGG/37t1rjzIm5+TChQvt8vlrr722vjKMDM8rV66sr+wHLNu/Xlgml17Rswz1kq4Je/v27fZ/yq6ks1dffbU9oiNjjDHG2IichfgSBvvwugyRCMYI+xWZ9RqanRsL+zFrDVn2+kl29gvCu+++2x5LsPdQ/ktulzhx4sT6v35q9qWePHly/Z8xxhhjwEbkDDx48KBdhsXx0gYzW6U3rzEwZWxhsF29erVz6RYjMxpnGIUYnfFaF/hDjhriSyY4ZCduZvdKIG/0n50xxhhjjgc2ImeGWTyMQ5aF89Iny8vR4GKfYBfMTka/GHfEG6+VYDmd2c2+2cQ+tKx77dq19ngUqJlFrH1LvnZ20xhjjDnq2IhcgLfeeqs9LvHCzBAYgRiwccZSn8vh/6FvUw4tw+/icjYyM1ObuX//fntkH2TfS0zoS/nGWC/Nwt65c6c9DunHGGOMOS7YiFyAvpc4liYurcsxAwr8P/TmswwovUiS2cXlbL1xnWd+Zfgxq6t9p7omFEZx8BY2RmUG47z01rYxxhhzXLERuQEYXHn2jWu8rLLECzPbQB/nPn/+fHvcRZARvcvgZemeGUTeSBcYh8zAsgVA8D/XorFJGMJq+f/SpUvtMX6kXC8qXb58eX3FGGOMMcwemQ1oDJP249TRcS3D9fyh621BuqQf0Ue2s2sMqrWPeSnpSS7qq3RfTig/jWG3vrIC2aP//CF1yHI0xv76zjOIN/rB5bSMMcaY485L/GkGSWP2Bu3rHPtRcmOMMcbMh41Is1ewFM3nkVhe9ksuxhhjzOFhI9LsFcxCnjlzpvfzSMYYY4xZHhuRxhhjjDFmNH472xhjjDHGjMZGpDHGGGOMGY2NSGOMMcYYMxobkcYYY4wxZjQ2Io0xxhhjzGhsRBpjjDHGmNHYiGx44403Wrfr8KFtfjP6iy++WF+Zjn73m9+FFpzr12CWRr9/vQTkYR/Ks5bDLqtdg3zHukN74Dz+JnoNc7anpaDMkVG/E78ptItt1htkj79Df1SYWueOO0e1PhxndtaIVOeZnSug2SU0mGQXDb5dBGMCOT0Ibgc9NHU5l4Mxzx7sslti3NfDaOkhUveyq3ngzGNC14RG9IMr9QHZDtrFiYOdn4nk5+34HrrcZ5991qnwqTx48KB1xx3069+jnsbdu3ef1tFbt24dfPLJJ4saklPLSp0S7WpfId/kf5+4fv360/oR3cWLF9v7b7/9dns0Zmk2nUVVHzLX7HgJ+lC1Efoqxv25DCjl/+uvv15feRHsgXPnzj3XVnHvvvvu2kcZdPPee+89Nx4gfzQktbJE25cf/ufnfGOZYDgzjsgG4ojMu2ZI7t1yNsp8/fXXW4Ubs4vQ0VBHv/nmm/WV3YAOik7p6tWrbSdtDhcGEwZHysMYU+a1115rjaw+o68W2hxGHvFh6M2N+tf4UEhfiwGoWcxr16614wMPlkL/X7lypT2qbyAs+QeOxI0e5pxE25TFjchvv/326dIZlvUPP/ywvjOdzz//vD3GqWWUShrRRXSfo+SRRc+xa8oZFJaCzctSJeL97EdPIcge41L6ui/HeYlS2EyMBzcE8eSnnJxfziOcEy7LHcumFoUVuUxLT2A16UrGDP5zfkgjxjfXbKKe3jMlncuvXIkcTroq6UjQsfEQNvZ3x0kLmXJ5dOm6zw/y4XJcnEf60lIaY4myleoD5PqEi21Q95GnJr4+vvzyy/Z4/vz59jgEaSi9Ur3NZS9Z++pwrjfEW8pLKc0MOpF8uKi3SPaX441tJfor5SOWQclvrke4iGRB1j799oHu+sIpP3K5nAhD2lFW1fesK7kYR5Qbp7Al8IsRBUzE5LhK+uKa4BxDCTCEOI95HiPLJkgvEPVP+n1giNEHRgNuLpTXt956qz2KU6dOtcfvv/++PWIcnj17tv0/wsynVkTVNyisUNyPHj1qj7vA4kakpmMB5f30pz9t/98EWfl37txpj1TyCxcutJVDjgpeqlA0HKx9/IxdDiRO6EpDnXaeplZlj9CQX3311dYP+sHhjzgVlkqlNCMxLA6mytEHnUNMhyc3yjB35siOnBzxx9MSMsbOZwjJT3igQVJWcVmDBhY7PPJJujGfly9fnvzEStyxHpE29XdsR4h/dIEsY0G3pKnlEI6lOrBtkInykG5KZYz+qB/yg+z4yfqjfGJclB/nMjo45rKfossIdRnZVEfpA0gjovqkNHF9bRDkj3hj3awBnRK/Zhr6QAYenpUWeSkZLGOQnpFh020slDE6UZkhY0lv1G/8qX7juvJCfyV/pbaoMlU8mtElDA9KY8YFrmtcIDzx5n6uBPpTGqVw/P/w4cOn6aMX6n/OL9eJS/5YzZBOpQOOQD5VXuRF9QI31PfSh6JLULyKi/RyuyM+rik+XQNk5lwG2VhZaiE8elW6EerImTNnnqaJTGPb4VzISDxx4kR7FGrfrEypj2NczeAP+fFDndG1iOKW7bMTNIpfFJKIrumw1nf6aSpM679R6vrK8zSNvjeuHL5pMJ3pc434ulDYZrBbX1nRNLb2OveB+6V48IM8gDyluJCB65Ec/xJy6ByGdArZD2kRTy6nHHdG4aCUd9LJ+VT+Yz5zOOBazH+fPnIamSE/0n12OT3Vx0zWJ35yekpjbFn1ketMH6RVkj3KmstGZN2Xylp1EZlAceU6JYgzxjGUl1JdB5WJ0i2R41ZcuYy6yreLWv13yZh1gF5zfSjlO9Yb7uUwubwEfnOeI6X6qHKM4bI8IF2ovJXnrBvSGIqrdC2iuJWW0s76LekzMjUccD/qWGVZE9dQ/F11PSLZs365VirjXLZZh12UZOlKQ6jOZJfTUh5yPmtlA6WV9Q7kWWnL9ekU+tKWDks6ETG86kQJrvfpcNssPhPZKG793wqeGrbByZMn1/89D0+NUzl9+vT6vxWaar537157vH37dnGauqlAT58sRH4S4YkDf5FXXnmlPeap6znlGEvpKR7yE1NtWjxJ8mTe1MX1ldUMSdOQXsinnsKkD/zl+gWla1PJZdJF0yG1eZBD/rEzv3pK7Srfw6RLz9Q1UN3LL4hQz9FFJOtUdUdP8ooDf9LJJjx+/Lg95mWmfF5CbTCT26/6m1p5mVklf1lfXeQ6oDoyZZaH9kbdpPw2nYEUlHHu23PeJGvWu3SschJ5Roe+Z9P60DUu5HKmTta8bDklXO4rxdBLGzV0xT2Eyib3PcBYMmV1Z6os0Bh2T/tR6Jp172rT9+/fb49ToQxjf448zIRvOvt/FFnciGys66eDRmM9H3zwwQft/5tC5YqVlKl4OkY5ptG3DTIx7R7lwOVBdGnmlIOlgRjHlM6kD+oExMFBgwllGNPOxkdNJz8WBqqY5tSyw6iEmiUxkQfRfUIPDFF3ODreKdBxA2VOPHEZcyxj9g8xmEb5WcqbG9KgXn344YfrK9sF4xG9ztV+ag07lQM6nUPH9B03btxYnz1ra3GP6S6MCxgeUQb65hqY8KC/lX6pN5zniZAYN24TSg9NpaXXLuaUBRjjsSHItwzdwwADn/pWW3Ylao3qGn9jymRpFjci33zzzadWPXsnXn755fWd6eSnJjoPOoc4G8STw7aIT7dUNMkQ3RIbeTNzy4FBlZ/I5pzlA+RhQCvNnOppNLs5nthL0OmR55hWNlxrybMoR5U8Mx11F90UFJY6N8feqiFKe8L0MDAnegNz7AtOJabWM2aQMWQPY2Ylz9rL1c7KCuVBBgsPLMStQfiwxwXI+4RxenAeQvve9CBF3cSgUv+Hccn13NdvQumBq2ZFaQlZhNrJzZs322MNXSsImyDDreuhSeNvngzAP/WU8KqbJZ2yZ1LjTVda6gO7ZtQPg8WNyCWgE0bZakxS/thOaCx5M6umzFVhGey6KticbEMOVfxtzJZoMNCGaJWjlje76FpmyddokMQfyQaJzjfZ7hBRR6LGrmMsF+lYKN9d5XuYdOlZnaIe6Jao/3rwGTOjGMnbPUQ+l96XekgB9IPeag0JkeuAZJX+OeaZxb56g38MKgycOFte01YyxEX/mz9plcOpHKaWY0RtJxukcQzY1rjQx5SyFvSLGI0xf/HBQ+X7/vvvt8daSgZWV98DyBEnD0oGzFRZaiH90ixgV5te4iFe9UltLtPVz0g3WmonL+g0Q13RZErXsrzi3oUtTmLvjEhmPlB2LAQKlQ5FAxid1xLLFrnDJQ0qhBqg3gyOfgCZhzriMWxDDjWUODAwa0G8c6MBLcpM58nMQpSX8uVpV6jDivmM94UapPwRT15CU6cTO1GM2jyg1iJjVAaJGj3fCBN0SBkGHMpXdZnZsZq6jJ7I+5JvJsZZR81gXbp0qT2ST/KTZ5TR+djZLsLEMtXnLqbOLlC/aB9xaZ3481K7nv5V50r1ZFOUl7GDLXVAcnGkjtBGBEY8dVXL/vgZqjeUGfUttrOatlKCh03ab5Qxh6McSA+5VL8Bv3lGewiVKWlQ76OTDPjZxrjQB20ijlXotWQMlUCnlE3On8pG7SEaLTV6VF+XjR3qE7JJf0DbRYdxBUvpRgNnqiy1qD/N21rQj65RzpxTxyj7qRBf7rPQOfVbqwiAnmJ5qH4jQ6zf1Lk8PqNThYPcn+KXMLG+lvKHrMiQ9bJVmqebnaSp0MyFv+AaBa59PE+j8Of8NU+o7bEprPa+zhtjpT2PELZp7OuzF4lhYzr8nyE93ZcjvNB98hchX1mGLLPOOS4hB+nHuHIcyIiLfjjnXoa4usoKSuF0TXKSb6Utl5FO5DgnnqzLHBdkGXNc6Ia89uWjJCOuVCY5fvSLv+xXesApH/zfV1aKu5SuyOlH1xdOaeW8In8Gf9FP1h33c9kAfmP+cjzILqQfIbminxIxTv5X/Sa8iLrHSWeKu9RuQDKUdBLBD2nXQjqEAY5yOX2QX1xtvQGu4U/kcgb89LUDiOn3hcv+JKvQ/axL5I6y4yfmDRRW5YV/paPrHBV3V91B5ixXZEw4pY1DHmSMflTnMjm/IPmV71xWnBN31ktGesLF8onX5UpIZtwYWbge08sof4TNcF36UFr4Jw3+H4ob1H5LLpZJ6X6uj7ksRNQNriSTwkZXItffnJb0UNLXtihLbp6jr2Ibc9Shc82DmTGHiYydzFHpq5UPjhmuDxlLR51oRB4WkmHowXFJutrBNtnLPZHGGGOOL9qXl5fxtNy45L7WbaAl5/wyiZZAl9p7aOphWbox4jZaOt8UlrcbY3Z9djjYiDTGGLNXYCQyeLJnLO4X1Nck9h3t52SPYswfRgPXtb/OHA56eJnjCwtT4YHi3Llzh/7A9BLTkev/jxRsQn399dfbJ4W+gqYy0BHRIe3L0ysvT9BZ5rcxxWHkiU3GbHLfJz0as+uw4R5DYolumhcfcHN9cNwYc/zwTKQxxhhjjBnNsTcimTXjKf8ozZ6V8sSMBsshRxVmnslf/GyCMcYYY5bDM5HGGGOMMWY0O2tEamZJrjTDxH6e6Cd+4DNCWPnJH0DVB0PjW36cEyaGw2WyjNEJxZ9dlCPnI79xOITkUJwxT7qnD9wqjahPXZMj/BCa2cRlnUZivLgYt2TjWtZ1LsuSHgWysP8V2Hie70eUJrop5UH35bIcwJ7U6Cfri7iImzSiP8Wl6zmc0lbZxP9FKWyf7iRLRLokLsE58eS4hlA8Oa85b1CrtyiD8hLD5fzktHN91H3i4p78KZ4YPoeFrJPSB92JK/rJMnJO3CpjOdIei8KKnP+cNqjM5UrlIxkzpTijHnE5H9IZR2PMEYYXa3YRRIsf1uQ7dfF7TNyP367T95LkhyPnuPhNrRyu9F0xhYv++FZe/Bip4o8yDsWtMFEe4ozfulI++r5/RRpRFvzH81Ke9AHUDNeiXuUvXstkP6TDOS7rsS9ujgoX9cb/XBPkJ+YPOI/XFFcsjxIxTfmN13AiywE5XeU9lhf3uRb95bj4P9YDyHWY/3N+cno6VxiOUZfIkNMp1Q/OcTlszEMJhYv+SnUox9WntygDcD3mgf9j/rP/HIfSiunFa9FvPkf/MW3VlSxPLCfpN17Dj9KTXlTeUQcZhRPSkSjFwXmUryQP57iYV8LEMhI5PvzE9Eoy6FpM0xhz9Hh+hNwR1FF3da7qoDJxsCl19pDDqoPNA2oemDTo5AEgkq+VOuWujlpI7r7OF9kUB8ccXylPpJvlLVEKG+mST3nvCgc5bsWVdT0kAyg9lUeN3kD+cr1ABq5HSJ9ryBPPlaYgbMxDX5korlJ55Hi4n/OTZeJ+TivCvZzXkn45j2lDV34j3M/p57IYo7eSP65FWYfIulX6OQ6u5TzXtBPC9OkcuB/jVrylvPXV2SgP8WXZSuGzvkvyqoyyjKV84Y97XSiuvnwYY44mO7mczTeyms6s/WRMadmF33NuOr/12TO0XBTR7+EKfaQ2+8vkD4jqt0EfP37cHpei9sOlTcfdLhdB16d+pjD0w/XKv35jV+TzEl1xnzlzZv3fCn0DLf6OdUblOJVcL1TnIirzR48etUfkwU8uI85zGeRlQeVdceljwVoGpD7y26z6jdha0Dt1obQMOZapdT7/XrZ0qd9dH6M32nX2xzU+WVW79JvLVig/oiSTwvb1DzlMia7yyGGR4eHDh+uzbmjr1I+mz15fWS1RQ257udzQcVcZzUGNPowxR5Od3RNJx0cnpx/Yj3truEeHyvXouLYtzp8/3x7jwKYfRxcYCgzw6uwZmNibyA/rR3I+akA3DK7EvwnIFNMeGlhkBNUwNu4+8r6v+MP024L8yHiPTvtNx4ChjD5kKH/55Zft8dSpU+2xFuK5e/fuc3L1GUCHwaZ64zuGMiQJl/fn5T2LtMM5Ib0Yf0nuvN9z7r5I/UosW7VF9ZFynEc27SNKxPRwxpjjyU6/nY2xyJM3HSgDQzTYGFS4l922Ppx7//799qiBDYdM169fb6/DvXv32qM6eYwG8qKPn8vI4lrMQy3Ka2mjfw0Yt8h09erVp2nPNeDMEbdmhTAS0DPGkuK6dUg/9USeJEN0eUatBh4mZJBodn3KrA6GpOQAZNwFYl421Rt1Hf/UJ3Smh0oMPP2Kh+LEz1zQtkhPcePigyIw66i+So6ynBP6FXSYZxQhtovolvhVk037LGPM0WIvPvEjw+z7779vj3SkUwbtOWEGKRuy2YDFMMidbTQyZYhu8juoDCDMeuTZmUxpiU9GrmZVa9BMmcKKrvOauLXsKTRzqyVr7jOA9g2K21hSY9l9zlkd6QaDiDLMS9nkOS919i3xg4xrzViVtnjkstqU27dvr/9bQXroSXVuTr3xABb1QtpTje8aKJdsNEaU17y6sATklbT00Ki2OLQ6gH66yihCeeVraotijj7LGHN02EkjkhnHaBRpBlJGxaVLl9rOLhtOdK5xtnJJ6EQZYDQLKRdnBTEKmMXIfiS39i7FQX3s3jYMK83O9OVduouDgq5pYAAG6D4YrBmU4pIhRlBeQhwTdzaC0Rt+9bF00qS8ZQyRh9JyNmGyQTonmkHOM7/IrpmxMZAvZJbu8gfveViiXJVv0uA8giyxTD///PP2KKMKAw79yg91JJfVpkTDBlSW0tcmekPuGI5z0pOBSnshf2Lu/FE+0QDLZSA9x3pHvqJMc0FaPCQQN3JwjoFLW1AdAXQU+xHaEzpT/4DfUlvU3kqVCf7y0nhtn0Uc9HVD5WuM2W920ojUYCqji06SzjMaFczqZQONzjIPxEuhTjTOMuLo4DXo6YWCeJ/OHLkZaDAAyReDnvJw5cqVYgffB4M0hl0eTCLoBT9aWmdA4RoGKOGUPjObQ2iPmsIwgJKvyJi4tfwofxBnmpm9JT30wn3yUIoLAwr942esMV4LZYhskhWHQSNDaSyawSrNduV8M/uW801ZqExx5B8ZBXIRt/ygo1xWm0L8GKtdMsBUvdFGYtzkg/qicORf+sFdvnx51q0OyIy+FD91XfVVcF/1Dgd9s5ebQLsibvoMjEXqCPJEHdAPxvZDGHSitohfZKZuRXJ/hD/KjaOYq88yxhwNXmo6CW9omQCdZxzMBAYkHTizF3SsdLh04hEMHFxe/j5uaEakpMfjAsY8gzvGIQP0vkE7wKiJ2zSMMcYcD/ZiT+QugvFz48aN9dkKZgaYkWB2SctcWl4UGA3MAjBbYAz1g7q0jwakMcaY442NyIlouUhLOjiW2ph51Kwak7xxmQunWac8O2mOH/GhwxhjjNk3vJxtjDHGGGNG45lIY4wxxhgzGhuRxhhjjDFmNDYijTHGGGPMaGxEGmOMMcaY0diINMYYY4wxo7ERaYwxxhhjRmMj0hhjjDHGjMZG5EzwE376oHiJ+MFxOf3G9px8+umnxbTk+MUc4EPXpfv8pveSTNETrus3wSPIHsOU8lLKdwl+ljL6kd6MMcYYs8JG5AxgDPLTdUPwG8N82x3HTx/yayUYK3PCr+Uojej4fWo4depUexT8wo788Es6n3322WKG5JCeZCgia5Qdp5+R7IK4kV3+S3nBENSvCskf8mRDknPKRX6Qh18asiFpjDHGPMNG5IYw84cxiNGCkVgLRhHGDMYks2NDYNSQ1lQ++eSTVr4+Y4zfbz537tzB7du311fmY6qeatDPBxK3IC+kgyEp4/Ty5cvttfiTk/ptc+lWx6+++qo9AoY5xibhjTHGGLPCRuSGaOYPo2Usr7zySnt89OhRe1wKzaC9//777fEw2ERPQ9y8ebM95rhPnz7dHh8/ftwamhjsuiYU5uHDh+3xxo0brSGdOXv2bBveGGOMMStsRB4i9+7da48yJpeCGTRm0oYMOM3oXblyZX1lP2CmsbRMLr2iZxnqJV0TVrOvGIql2dpXX321PdbMGhtjjDHHARuRhwTGCEvMzHotMTsnNAPXZRiy108vj7BfEOJyb4a9h/JfcnOAXmKcUw23EydOrP/rp2Zf6smTJ9f/GWOMMQZsRG4R9ufJMMJg44WNuPcuguEUDSkMwWxc1SDjscswjC+Z4PSiSdfb0Mgb/We3CcwA5vjYw4iu/FKLMcYYs1vYiNwiGETRQGKfYBfMTka/GHf5reUhMARZnh7zIouWda9du9YeD5vr16+3edcLMFOomUWsfUu+dnbTGGOMOerYiDzCyBC8dOlSe6yh5lM6cTY0uyXAwHvw4MH67EWQufTSy/3799sj+yD7XmLC0Fa+MVhLs7B37txpj0P6McYYY44LNiKPMCyfs+dyjOEjA0ovkmSWXM7uAiOPt6O70BvXee+kDD9mdbXvVNeEwigO0iG9DDO0pbe2jTHGmOOKjcgjivYQXrhwoT3Woo9znz9/vj1uE9LOex+Z+YQ4m4o/Zj1l8LLfkxnEmFeMQ4xofWQd+J9r0dgkDGG1Z1TpxI+U8+1IZjr9nUhjjDEm8MRsRGOYMP1WdNwTnF+8eHF9tjyNYdS6Lu7evfuCvLi+MJtQo6eSTCV50CP3GsNufWUFfmPYW7dure88I8tx7ty59Z1nEG/0g8tpGWOMMcedl/jTDJLG7A2anex6s90YY4wxy2Mj0uwVLEXzyR+Wl/2SizHGGHN42Ig0ewWzkGfOnOn9PJIxxhhjlsdGpDHGGGOMGY3fzjbGGGOMMaOxEWmMMcYYY0ZjI9IYY4wxxozGRqQxxhhjjBmNjUhjjDHGGDMaG5HGGGOMMWY0NiKNMcYYY8xobEQaY4wxxpjR2Ig0xhhjjDGjsRFpjDHGGGNGYyPSGGOMMcaMxkakMcYYY4wZjY1IY4wxxhgzGhuRxhhjjDFmNDYijTHGGGPMaGxEGmOMMcaY0diINMYYY4wxo7ERaYwxxhhjRmMj0hhjjDHGjMZGpDHGGGOMGY2NSGOMMcYYMxobkcYYY4wxZjQ2Io0xxhhjzGhsRBpjjDHGmNHYiDTGGGOMMaOxEWmMMcYYY0ZjI9IYY4wxxozGRqQxxhhjjBmNjUhjjDHGGDMaG5HGGGOMMWY0R96IfOeddw7eeOON9dnR56WXXjr46KOP1mcvwj38/OIXv1hfOR787Gc/a/P96aefrq+8WDeybhTmiy++aM9LEH5q/SKdofIyxxPqFPVT8D91ZZ85KnW91JfUMGf+a8c10ov1aE5q+sdtoz4V2cx22GkjUoO63NhGa4wxxhxHMKg+++yzgwsXLqyvHLRjaBxT5fbB6MJoLskeee211w7OnTt3cOXKlfUVszQ7a0Ty9EQDePLkyVN348YNP2FsyPXr11td0thEnvU4irz99tttvj/++OP1lRcp6WaIBw8etG4KpEN6pFvDLj75m+3w1VdftXXFHD41fcku8OWXX7bHd999tz1GvvvuuzYPuIsXLx78+Mc/3ot+BQNRcuNef/31FwxJjOavv/762K22HRY7aURS+FSCq1evrq+sYLCmARtjjDGmm2+++aY1uobgIRZj7PPPP19f2R804xgnl2Q0379/vz2aZVnciPz222+fTkOzPP3DDz+s7wzz8OHD9X/d5CXvoacp7ZmI+0lyHJxHmKXDEbf8qNIOheWctJSuXEnOrun6TWZfJbPk0nIG8ugeT6UY7Tk9zXxF14fySLxRL9J11gHnGfQc/eS8c4085GUZEa/FsEq7b0tE1E0XypfKD3ljXSoR85T9ci3WmawjyUsczBbAe++990JcOVxOR2WNP+7Jn9LW/VLYjOoFccVyxpWI97MfyU360pPSz/VPOhc57ahH4Jy4sm4UTwyfw0Kui6W6E3WJyzJyn7ijfnHINAbJKhRfV3lmdF8uM9TWdZ+j0kM/XdTkl/A5DpVV1vWQniPEif9Mbt+x/HFZd5wTT9QN6W4qY41usmx9+S1BnPTpZ86cWV/pB9mHVlSiTCX9gnQTXcyf7pOfmvimUjKKlZaZmScL0zwJsQbz1F29enV9px+F6/MvP+Lu3bvt+a1bt9ZXVn6aCrU+e9Lej+cXL158Lg3FEa8pnRgOasLih2u4xlhrr3Gfc/wL4iYdkfNWC2FIEySPzkFpSxbIaQNhc345z9cixEncOOkgXsOJUv5y/JQjfqKeFE/Mk67hlC/pXeeSI5YNMsT0sm6kP9Un3e+rXxnkyHmKMhBfzkuWsUseoet9eZMucdJnvIZ/kc8zSg8XZSe9mKZ0Hv2oXIT84KL8uh7zGuMmnui/pAOlhRPxmvx26S+mLV1leaRLIDx+4jX8cC3KTtxc6wP/sQyy3mLZSaZSPmrKgHBRPuA8XlPcMb0usq5iGUc5yF+uZ/Ib84AcQ3qOKP18P6aHHDEN5S9ek55wkakyKq5SuRKn4D7XhGSLesdPLrOIwsT0QXLF9IBrUa5MllM6xuVyjuS8yA8u1gXO+9IH8pv9lK4BcWf9KF0zL4trVAUnN1RRIlQChYsVDroaSa48pKdzjrlilcBPlJP/S2mVyGFz4xNcUydUyktX/oYgDGmqsWa9lTqRLHMXXR2Q6EpT+ovkjl7nOW7CRtnwk2Ut6Vj6yx2cdA7EE+tDzl+MQ/IpPpHjyHA/6yNCnLovGbvKPOdJkEbWieKS3y75uZbDSp9dSI6cL6Uh+blf0g1+VA6SM/tTGiqLGnI9Vj5iHIo31gPIYUsQLuc5orzEuIm3K2/SU4muvIiu8iRMDpfThyxnpqstDOkISrpU+Ki/LCuUdJip8VO6PxSmS+dZx1Nl5DyXRfbXVTdyOSJnqVyF6gfxR0gnXyeuUpqiK7+KK+snIjkUt+KK9QAUVx/kFz/ZldKvic/Mw+LL2U0FXf+3onZ6HZheb2Rs/+clG6aiNTV+79699pj3SL766qvt8myEc01j17wEUZpabypw1X7Mrmn5/LIG8dUs108BXRF/01CrX9qo4eTJk+v/+qEMIuQdeSKvvPJKe3z06FF7vHPnTusn64nzXGbZj9KL10+cONEev//++/a4CSwf45rOqrhJvQ/qO+WRl8pKSE8sW7OEVktp2Uq6yPmX3kVJ59JnXIYqcfr06fV/K06dOtUe1TZv3759cPbs2fb/CGnmuv/hhx+u/1uhtobfITlETdtTvch1mbBDfQOy9JH1KLJckkF1fxNyeSJDzMeYMoh0tfX4pm8X9Le5Ps65l71LzxH6Pl7EFFoOPn/+fHss0VV/xrZ56JIxlwX+KAv2L8KYca2PoX6PNLW8S//BONtVRo8fP26Pb731VnsU+bxErp8ijxGqb0NtHXsCWeUaY7Htm0tbTaC27zDTWdyIpJDV+dKwP/jgg/b/MVBZmieZ9n8NxuoA1RDkPvnkk/Z6hPSpfF2NMO99olHVsklYQeNFxps3b66vrDYMc21K54ueYdMGlPfu0FiXAlll7EeHAXbYSJ9TDFLe4KQN6CGoa6ASGACUO4Yk/rs6R6Eypt5HveEOG8pT+Y6udjCk3QP6IFzeFzZH2+uDsorxl+SO93G7Rm0ZzNXWlxq0o2y4IXjAIY+Sh4dUxoBo3M1df2JcuCmMGdc2Ad1EY6yPMQ87eW+t9nEvBf0r5Tq3fkw9ixuRb775ZjswUlGZFXv55ZfXd8aBMUVlybMFsSFEl+ETGUDHEdEMRAxLOjVsEjYiAyp29nRoOa9jwOgmjiEjpAvCMZAQj/LGTNySYCxEXcptooc5YEDCEKSjGjNDKOjoyAe6pJxzHcyoTmG8kmY2nkogX9SZ3GF8hiTOYpGHkly1M+TyT7uiPkr/c7W9LmiDpBHjp34K2ix+cv52kaEyOIy2XstUPWv2UJ+5oW+Ns6hz1p856kKeuYzxRFdL7arRnNBPYTRSdySvJn+WpG9muu+emYed/MRPDVpK05NmDTKsNJsp4y0vpdWwSdiMPkUQOwvcJmB0y/AZMkLoUDMsr0ydCZ0Cy1/oc1fREy+d5Jg6F0GXDDS1RrEGec2Aahk0ouWwpbZG9MHsTkT1WEtY6GuqrjLSBbMic7a9EjJU+5Zuldf333+/Pe4qNWUwZ1tXfdTyrCg9fOE3t4X8WZZN9ExbQw6lLcNy7vozRka2F0Qki5Z3p4xrJdQGtRS9CXmbisjn6g+mLP9vArqKD3hAf5ivmWXYSSMSoycbNjwtYwDqu1BUVCpJ3mOCv679ZzKseColDT2lxA6PsDXLGpuEzajR8TSbXYT4uVbbwcjwYZahLwx5yXJzjc5N4eiIpy5x1aAZszxLR56nzqbOjWazS3vMushlSN0rGe1AnYx1V8a/ZhVU57LxRptQnY6MqStTIM1YNtQP6puMkcuXL7f1Kpcf+S8ZFRHCxHCaUWJwnLPtlZCxHvVMvYwPORqk40DaVa6HSU0ZzN3WMc5IU/FzLC1raslZ9baU7iZ6xqhDDtoHBqWYu/6MkZH8xj5O7V3935RxrYTqcDb0poC+aNdxyRh58hKyDGGVO/Vp6eVs6g7llh8IMNZzGZTGVLM5O2lE0pBoRCp0HBWWBhifcniKpaJEfzyB9C2VZcOKOKmECg+xw+ljk7ARNbq4nIRDTsU7lRrDR/pSPtAL10ifDo1rdAZLL02QZ8pUcuDomNTB7gLogHKv7dDxH/ODTlUmmfwwQR3NL/NwjvHGfQ1G3Ccd/CssDjk1YC4BsjAQK72cN4xJZKDtRrn4ftvQrBdlHuMmDvKocHO1vRLojLSkZxwz5eRPIAf5j3nTPuZdoqYM5m7rlB0P68Sj+GjbWTfUW/yp3jLzi7/IJnomLP6oJ3mWcM76M0ZG8ktdkj9kyHmeMq5lqMOkHw3lTaBdU0ckD/Giwwjljg5V7qS/ST0qEcsMR90hjThGaFzPL3eZZXipqcCbrZuajZExkI0LPe3RIOgUuvwZs000s8TAGQ1cY8zuoPHjuA3xzE5iXGrcNMuyt3sijxJUdJ6wtJwk6AB4+uM+Azd+xjyNGmOMOZ7oc0Z5m8tRh1l2jZtmeWxE7gAYhiwDMP0fp+q5pllHlkdYCnHDMMYYMwRjBWPIPv4m9lSYiGGyhb3AZjt4OdsYY4wxxozGM5HGGGOMMWY0NiKNMcYYY8xobEQaY4wxxpjR2Ig0xhhjjDGjsRE5A/GNalzpQ9TZDy7+csFS8K0wpRfhk0FRFrkxv4owBd6eU1p9IAd+kL8WhZEr5aWU7xL5Y7/H7TMZxhhjzBA2IjcEY4OPLvOSO47/88/BCT63IH/6xYT800xzgsHGtyb7iLLrVzqWMiQxmku/4hCRkYccYyBuwvTlBUNQH8mWP31WKcI55SI/+lUNG5LGGGNMoBkkzcw0hsmTc+fOrc9WoOrGiFyfrWiMmfZ6Y/Csr3RDnI0xsz6rAxlwpJuLmjS5hgwR/JPW3CC78lqSR3AdGRoju/2/Js/KS9aj0iEuIF+5DBRW6UjODGGX0Isxxhizr3gm8hDRD/c/evSoPc7Jrv3CDb9t2tS3p7/X2wV+xv6s482bN9tjjvv06dPt8fHjx60+mP3VNaEw/DYt3Lhx47nfSBb89jjhjTHGGLPCRuTMsHyKsVFjvN27d689ypickwsXLrTL52N+4UaGJ7+Os0+wbP96YZlcekXPMtRLuibs7du32/8pu5LOXn311faIjowxxhhjI3IW4ksY7MPrMkQiGCP6beyh2bmxsB+z1pBlr59kZ78gvPvuu+2xBHsP5b/kdokTJ06s/+unZl/qyZMn1/8ZY4wxBmxEzsCDBw/aZVgcL20ws1V68xoDU8YWBtvVq1c7l24xMqNxhlGI0RmvdYE/5KghvmSCQ3biZnavBPJG/9kZY4wx5nhgI3JmmMXDOGRZOC99srwcDS72CXbB7GT0i3FHvPFaCZbTmd3sm03sQ8u6165da49HgZpZxNq35GtnN40xxpijjo3IBXjrrbfa4xIvzAyBEYgBG2cs9bkc/h/6NuXQMvwuLmcjMzO1mfv377dH9kH2vcSEvpRvjPXSLOydO3fa45B+jDHGmOOCjcgF6HuJY2ni0rocM6DA/0NvPsuA0oskmV1cztYb13nmV4Yfs7rad6prQmEUB29hY1RmMM5Lb20bY4wxxxUbkRuAwZVn37jGyypLvDCzDfRx7vPnz7fHXQQZ0bsMXpbumUHkjXSBccgMLFsABP9zLRqbhCGslv8vXbrUHuNHyvWi0uXLl9dXjDHGGMPskdmAxjBpP04dHdcyXM8fut4WpEv6EX1kO7vGoFr7mJeSnuSivkr35YTy0xh26ysrkD36zx9ShyxHY+yv7zyDeKMfXE7LGGOMOe68xJ9mkDRmb9C+zrEfJTfGGGPMfNiINHsFS9F8HonlZb/kYowxxhweNiLNXsEs5JkzZ3o/j2SMMcaY5bERaYwxxhhjRuO3s40xxhhjzGhsRBpjjDHGmNHYiDTGGGOMMaOxEWmMMcYYY0ZjI3Im9Os1Xb8frXvRDf2O9RT4dZVSWnJffPFF649P5ZTux19qWYIpesLp12n60C/ZyJXyUsp3iTfeeOM5P9KbMcYYY1bYiJwBjEF+Om8IfsOal+FxfOeQ32jGWJkTPn2jNKK7uv75v1OnTrVHcevWrad+7t692/4s4FKG5JCeZCgia5QdN/RNSOJGdvkv5QVDkG9MxjwjTzYkOadc5Ad5+ClLG5LGGGPMM2xEbggzfxiDGC0YibVgFGHMYEzG33LuAqOGtKbyySeftPL1GWP81je/+X379u31lfmYqqca0J/iFuSFdDAkZZzy29dc0+9kw+eff94epVsd46/hYJhjbPq3s40xxphn2IjcEM38YbSM5ZVXXmmPjx49ao9LoRm0999/vz0eBpvoaYibN2+2xxz36dOn2+Pjx49bQxODXdeEwjx8+LA93rhxozWkM2fPnm3DG2OMMWaFjchD5N69e+1RxuRSMIPGTNqQAacZvStXrqyv7AfMNJaWyaVX9CxDvaRrwmr2tevnFF999dX2WDNrbIwxxhwHbEQeEhgjLDEz67XE7JzQDFyXYcheP708wn5BiMu9GfYeyn/JzQF6iXFONdxOnDix/q+fmn2pJ0+eXP9njDHGGLARuUXYnyfDCIONFzbi3rsIhlM0pDAEs3FVg4zHLsMwvmSC04smXW9DI2/0n90mMAOY42MPI7rySy3GGGPMbmEjcotgEEUDiX2CXTA7Gf1i3OW3lofAEGR5esyLLFrWvXbtWns8bK5fv97mXS/ATKFmFrH2Lfna2U1jjDHmqGMj8ggjQ/DSpUvtsYaaT+nE2dDslgAD78GDB+uzF0Hm0ksv9+/fb4/sg+x7iQlDW/nGYC3Nwt65c6c9DunHGGOMOS7YiDzCsHzOnssxho8MKL1IkllyObsLjDzeju5Cb1znvZMy/JjV1b5TXRMKozhIh/QyzNCW3to2xhhjjis2Io8o2kN44cKF9liLPs59/vz59rhNSDvvfWTmE+JsKv6Y9ZTBy35PZhBjXjEOMaL1kXXgf65FY5MwhNWeUaUTP1LOtyOZ6fR3Io0xxpjAE7MRjWHC9FvRcU9wfvHixfXZ8jSGUeu6uHv37gvy4vrCbEKNnkoyleRBj9xrDLv1lRX4jWFv3bq1vvOMLMe5c+fWd55BvNEPLqdljDHGHHde4k8zSBqzN2h2suvNdmOMMcYsj41Is1ewFM0nf1he9ksuxhhjzOFhI9LsFcxCnjlzpvfzSMYYY4xZHhuRxhhjjDFmNH472xhjjDHGjMZGpDHGGGOMGY2NSGOMMcYYMxobkcYYY4wxZjQ2Io0xxhhjzGhsRBpjjDHGmNHYiDTGGGOMMaOxEWmMMcYYY0ZjI9IYY4wxxozGRqQxxhhjjBmNjUhjjDHGGDMaG5HGGGOMMWY0NiKNMcYYY8xobEQaY4wxxpjR2Ig0xhhjjDEjOTj4/wGTV3qExBC9SgAAAABJRU5ErkJggg==)\n",
        "\n",
        "![image.png](data:image/png;base64,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)"
      ],
      "metadata": {
        "id": "cOIwHTIumnbX"
      }
    },
    {
      "cell_type": "code",
      "source": [
        "# Latihan Cerita 1\n",
        "\n",
        "def linearProgrammingCerita(a,b):\n",
        "  modelSoalCerita = pulp.LpProblem(\"ProfitMaximisingProblem\", pulp.LpMaximize)\n",
        "  # P = pensil, B = Buku\n",
        "  P = pulp.LpVariable('P', lowBound=0, cat='Integer')\n",
        "  B = pulp.LpVariable('B', lowBound=0, cat='Integer')\n",
        "\n",
        "  modelSoalCerita += a[0] * P + a[1] * B == a[2]\n",
        "  modelSoalCerita += b[0] * P + b[1] * B == b[2]\n",
        "  modelSoalCerita.solve()\n",
        "  return(P.varValue, B.varValue)\n",
        "\n",
        "result = linearProgrammingCerita([3,4,11000], [1,7,15000])\n",
        "print(\"Harga 1 Pensil (P) : \", result[0])\n",
        "print(\"Harga 1 Buku (B) : \", result[1])\n",
        "\n",
        "print(\"Harga dua buah pensil (2P) dan enam buah buku (6B) :\", end=\" \")\n",
        "print(\"2P + 6B =\", ((2*result[0]) + (6*result[1])))"
      ],
      "metadata": {
        "colab": {
          "base_uri": "https://localhost:8080/"
        },
        "id": "B-Ba7A7ZgE2k",
        "outputId": "3e065c53-6523-42c3-b0fc-cbbae6f26d9a"
      },
      "execution_count": 43,
      "outputs": [
        {
          "output_type": "stream",
          "name": "stdout",
          "text": [
            "Harga 1 Pensil (P) :  1000.0\n",
            "Harga 1 Buku (B) :  2000.0\n",
            "Harga dua buah pensil (2P) dan enam buah buku (6B) : 2P + 6B = 14000.0\n"
          ]
        }
      ]
    },
    {
      "cell_type": "markdown",
      "source": [
        "---\n",
        "\n",
        "![image.png](data:image/png;base64,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)"
      ],
      "metadata": {
        "id": "dKhJxl_em04t"
      }
    },
    {
      "cell_type": "code",
      "source": [
        "#Latihan Soal Cerita 2\n",
        "keliling = pulp.LpProblem(\"ProfitMaximisingProblem\", pulp.LpMaximize)\n",
        "p = pulp.LpVariable('p', lowBound=0, cat='Integer')\n",
        "l = pulp.LpVariable('l', lowBound=0, cat='Integer')\n",
        "l = p - 6\n",
        "keliling += 2 * (p + l) == 44\n",
        "keliling.solve()\n",
        "\n",
        "print(\"Panjang : \", p.varValue)\n",
        "print(\"Lebar : \", p.varValue-6)"
      ],
      "metadata": {
        "colab": {
          "base_uri": "https://localhost:8080/"
        },
        "id": "5zn3FwRwkEjT",
        "outputId": "8ad38ee4-49df-432a-be42-b3a26a58525a"
      },
      "execution_count": 44,
      "outputs": [
        {
          "output_type": "stream",
          "name": "stdout",
          "text": [
            "Panjang :  14.0\n",
            "Lebar :  8.0\n"
          ]
        }
      ]
    },
    {
      "cell_type": "markdown",
      "source": [
        "---\n",
        "\n",
        "####Linear Programming dengan menggunakan SciPy"
      ],
      "metadata": {
        "id": "tgtlCeocrYYC"
      }
    },
    {
      "cell_type": "code",
      "source": [
        "import numpy as np\n",
        "from scipy.optimize import linprog"
      ],
      "metadata": {
        "id": "3KMZphDDnqEW"
      },
      "execution_count": 45,
      "outputs": []
    },
    {
      "cell_type": "code",
      "source": [
        "A = np.array([[1,0], [2,3], [1,1], [-1,0], [0,-1]])"
      ],
      "metadata": {
        "id": "zVcoDy62rnjv"
      },
      "execution_count": 46,
      "outputs": []
    },
    {
      "cell_type": "code",
      "source": [
        "b = np.array([16,19,8,0,0])"
      ],
      "metadata": {
        "id": "4GiZ7nAIr1od"
      },
      "execution_count": 47,
      "outputs": []
    },
    {
      "cell_type": "code",
      "source": [
        "c = np.array([-5,-7])"
      ],
      "metadata": {
        "id": "UHdYseWir6Ws"
      },
      "execution_count": 48,
      "outputs": []
    },
    {
      "cell_type": "code",
      "source": [
        "res = linprog(c, A_ub=A, b_ub=b)"
      ],
      "metadata": {
        "id": "xFTNYXdrr-Vs"
      },
      "execution_count": 49,
      "outputs": []
    },
    {
      "cell_type": "code",
      "source": [
        "print('Optimal value:', round(res.fun*-1, ndigits=2),\n",
        "      '\\nx values:', res.x,\n",
        "      '\\nNumber of iterations performed:', res.nit,\n",
        "      '\\nStatus:', res.message)"
      ],
      "metadata": {
        "colab": {
          "base_uri": "https://localhost:8080/"
        },
        "id": "CJRlydp5sGn7",
        "outputId": "c35f4ae0-6ea4-49f2-fa95-99b9da85df8d"
      },
      "execution_count": 50,
      "outputs": [
        {
          "output_type": "stream",
          "name": "stdout",
          "text": [
            "Optimal value: 46.0 \n",
            "x values: [5. 3.] \n",
            "Number of iterations performed: 3 \n",
            "Status: Optimization terminated successfully. (HiGHS Status 7: Optimal)\n"
          ]
        }
      ]
    },
    {
      "cell_type": "code",
      "source": [
        "#koefisien fungsi tujuan (Z = 5x1 + 7x2)\n",
        "c = [-5, -7]\n",
        "\n",
        "#Koefisien matriks batasan\n",
        "A = [\n",
        "    [1,0], # 1x1 + 0x2 <= 16\n",
        "    [2,3], # 2x1 + 3x2 <= 19\n",
        "    [1,1]  # 1x1 + 1x2 <= 8\n",
        "]\n",
        "\n",
        "#Batasan kanan (rhs) dari masing-masing batasan\n",
        "b = [16, 19, 8]\n",
        "\n",
        "#Menentukan batasan variable x1 dan x2 sebagai variable non-negatif\n",
        "x1_bounds = (0, None) # x1 >= 0\n",
        "x2_bounds = (0, None) # x2 >= 0\n",
        "\n",
        "# Gunakan linprog untuk menyelesaikan masalah pemrograman linear\n",
        "result = linprog(c, A_ub=A, b_ub=b, bounds=[x1_bounds, x2_bounds], method=\"highs\")\n",
        "\n",
        "# Tampilkan hasilnya\n",
        "print(\"Optimal Solution:\")\n",
        "print(\"x1 =\", result.x[0])\n",
        "print(\"x2 =\", result.x[1])\n",
        "print(\"Max Z =\", -result.fun) # Karena tujuannya memaksimalkan -Z"
      ],
      "metadata": {
        "colab": {
          "base_uri": "https://localhost:8080/"
        },
        "id": "-H1MJqe8sgrb",
        "outputId": "dbf2794f-c809-482e-cac2-fe295fde879f"
      },
      "execution_count": 51,
      "outputs": [
        {
          "output_type": "stream",
          "name": "stdout",
          "text": [
            "Optimal Solution:\n",
            "x1 = 5.0\n",
            "x2 = 3.0\n",
            "Max Z = 46.0\n"
          ]
        }
      ]
    },
    {
      "cell_type": "markdown",
      "source": [
        "---\n",
        "\n",
        "###Latihan dengan Scipy\n",
        "\n",
        "Carilah nilai x dan y dari persamaan berikut masukan kedalam algoritma linear programming\n",
        "\n",
        "1. 4x + 12y = 28\n",
        "\n",
        "2. 2x + 2y = 21\n",
        "\n",
        "3. Lisa dan Muri bekerja pada pabrik tas. Lisa dapat menyelesaikan 3 buah tas setiap jam dan Muri dapat menyelesaikan 4 tas setiap jam. Jumlah jam kerja Lisa dan Muri adalah 16 jam sehari dengan jumlah tas  yang dibuat oleh keduanya adalah 55 tas. jika jam kerja keduanya berbeda, tentukan jam kerja mereka masing-masing."
      ],
      "metadata": {
        "id": "klbaK6Vzyhlm"
      }
    },
    {
      "cell_type": "code",
      "source": [
        "# function yang akan dipakai untuk nomor 1-2 (Disini saya hanya memodifikasi code slide 32)\n",
        "from scipy.optimize import linprog\n",
        "\n",
        "def linearProgrammingUseScipy(multiplicand, multiplier, product):\n",
        "  c = [-multiplicand, -multiplier]\n",
        "\n",
        "  A = [\n",
        "      [multiplicand, multiplier]  # 4x + 12y <= 28\n",
        "  ]\n",
        "\n",
        "  b = [product]\n",
        "\n",
        "  x_bounds = (0, None)  # x >= 0\n",
        "  y_bounds = (0, None)  # y >= 0\n",
        "\n",
        "  result = linprog(c, A_ub=A, b_ub=b, bounds=[x_bounds, y_bounds], method=\"highs\")\n",
        "\n",
        "  print(\"Optimal Solution:\")\n",
        "  print(\"x =\", result.x[0])\n",
        "  print(\"y =\", result.x[1])\n",
        "  print(\"Min Z =\", -result.fun)"
      ],
      "metadata": {
        "id": "MFCSkX40NE0K"
      },
      "execution_count": 52,
      "outputs": []
    },
    {
      "cell_type": "code",
      "source": [
        "# nomor 1. 4x + 12y = 28\n",
        "linearProgrammingUseScipy(4, 12, 28)"
      ],
      "metadata": {
        "colab": {
          "base_uri": "https://localhost:8080/"
        },
        "id": "L-yeaa7PMcoa",
        "outputId": "67dba552-0493-491e-cdd9-9a0f074b8664"
      },
      "execution_count": 53,
      "outputs": [
        {
          "output_type": "stream",
          "name": "stdout",
          "text": [
            "Optimal Solution:\n",
            "x = 7.0\n",
            "y = 0.0\n",
            "Min Z = 28.0\n"
          ]
        }
      ]
    },
    {
      "cell_type": "code",
      "source": [
        "# nomor 2. 2x + 2y = 21\n",
        "linearProgrammingUseScipy(2, 2, 21)"
      ],
      "metadata": {
        "colab": {
          "base_uri": "https://localhost:8080/"
        },
        "id": "xdJ-9vvyPYIT",
        "outputId": "f794f282-33c2-4a56-e99f-e48710da5fd5"
      },
      "execution_count": 54,
      "outputs": [
        {
          "output_type": "stream",
          "name": "stdout",
          "text": [
            "Optimal Solution:\n",
            "x = 10.5\n",
            "y = 0.0\n",
            "Min Z = 21.0\n"
          ]
        }
      ]
    },
    {
      "cell_type": "code",
      "source": [
        "# Berdasarkan studi kasus yang diberikan ditemukan persamaan :\n",
        "# 3x + 4y = 55 dan x + y = 16\n",
        "\n",
        "c = [-3, -4]\n",
        "\n",
        "A = [[3, 4]]  # 3x + 4y = 55\n",
        "A_eq = [[1, 1]]  # x + y = 16\n",
        "\n",
        "b = [55]\n",
        "b_eq = [16]\n",
        "\n",
        "bounds = [(0, None), (0, None)]\n",
        "\n",
        "result = linprog(c, A_ub=A, b_ub=b, A_eq=A_eq, b_eq=b_eq, bounds=bounds, method=\"highs\")\n",
        "\n",
        "x = result.x[0]\n",
        "y = result.x[1]\n",
        "print(\"Optimal Solution:\")\n",
        "print(f\"Jam kerja Lisa (x) =\", x)\n",
        "print(f\"Jam kerja Muri (y) =\", y)\n",
        "print(\"Jumlah tas yang dibuat =\", -result.fun)"
      ],
      "metadata": {
        "colab": {
          "base_uri": "https://localhost:8080/"
        },
        "id": "D0lkHxWoQP6v",
        "outputId": "ac20bfaf-f5ca-474d-efeb-4b1e14e458b5"
      },
      "execution_count": 55,
      "outputs": [
        {
          "output_type": "stream",
          "name": "stdout",
          "text": [
            "Optimal Solution:\n",
            "Jam kerja Lisa (x) = 9.0\n",
            "Jam kerja Muri (y) = 7.0\n",
            "Jumlah tas yang dibuat = 55.0\n"
          ]
        }
      ]
    }
  ]
}