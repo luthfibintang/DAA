{
  "nbformat": 4,
  "nbformat_minor": 0,
  "metadata": {
    "colab": {
      "provenance": []
    },
    "kernelspec": {
      "name": "python3",
      "display_name": "Python 3"
    },
    "language_info": {
      "name": "python"
    }
  },
  "cells": [
    {
      "cell_type": "markdown",
      "source": [
        "# Tugas 5 Desain dan Analasisi Algoritma\n",
        "\n",
        "**Nama :** Azisya Luthfi Bintang\n",
        "**NIM :** 2022071051\n",
        "\n",
        "---"
      ],
      "metadata": {
        "id": "hCzp9cCdMuUu"
      }
    },
    {
      "cell_type": "markdown",
      "source": [
        "**Inversi dalam satu array**\n",
        "\n",
        "Menghitung berapa banyak perubahan yang harus dilakukan untuk mengubah array menjadi bentuk yang urut, ketika array sudah diurutkan berarti memerlukan 0 inversi."
      ],
      "metadata": {
        "id": "PdlwQK0nNT6v"
      }
    },
    {
      "cell_type": "code",
      "execution_count": 10,
      "metadata": {
        "colab": {
          "base_uri": "https://localhost:8080/"
        },
        "id": "_ua2n8boLrnd",
        "outputId": "658d96c7-4c44-48c2-d7f3-10ca6385af01"
      },
      "outputs": [
        {
          "output_type": "stream",
          "name": "stdout",
          "text": [
            "6\n"
          ]
        }
      ],
      "source": [
        "def countInversion(arr):\n",
        "  result = 0\n",
        "  for i in range(len(arr)):\n",
        "    for j in range(i+1, len(arr)):\n",
        "      if arr[i]>arr[j]:\n",
        "        result += 1\n",
        "        # arr[i], arr[j] = arr[j], arr[i]\n",
        "  return result\n",
        "\n",
        "arr = [21, 70, 36, 14, 25]\n",
        "\n",
        "result = countInversion(arr)\n",
        "print(result)\n"
      ]
    },
    {
      "cell_type": "markdown",
      "source": [
        "---\n",
        "\n",
        "Kali ini menghitung dengan menggunakan divide and conquer"
      ],
      "metadata": {
        "id": "Gnwj6xAART_2"
      }
    },
    {
      "cell_type": "code",
      "source": [
        "def countInversion(arr):\n",
        "  icount = 0\n",
        "  if len(arr)<= 1:\n",
        "    return icount\n",
        "\n",
        "  mid = len(arr)//2\n",
        "  left=arr[:mid]\n",
        "  right=arr[mid:]\n",
        "  icount += countInversion(left)\n",
        "  icount += countInversion(right)\n",
        "  i=j=k=0\n",
        "\n",
        "  while i<len(left) and j<len(right):\n",
        "    if left[i]<right[j]:\n",
        "      arr[k]=left[i]\n",
        "      i+=1\n",
        "    else:\n",
        "      arr[k] = right[j]\n",
        "      j+=1\n",
        "      icount+=(mid-i)\n",
        "    k+=1\n",
        "  while i<len(left):\n",
        "    arr[k]=left[i]\n",
        "    i+=1\n",
        "    k+1\n",
        "  while j<len(right):\n",
        "    arr[k] = right[j]\n",
        "    j+=1\n",
        "    k+=1\n",
        "\n",
        "  return icount\n",
        "\n",
        "arr=[1, 20, 6, 4, 5]\n",
        "result = countInversion(arr)\n",
        "print(result)"
      ],
      "metadata": {
        "colab": {
          "base_uri": "https://localhost:8080/"
        },
        "id": "U-zJaGNwOm3N",
        "outputId": "57112c4c-18eb-493d-f57f-2672c1f12b8e"
      },
      "execution_count": 16,
      "outputs": [
        {
          "output_type": "stream",
          "name": "stdout",
          "text": [
            "5\n"
          ]
        }
      ]
    },
    {
      "cell_type": "markdown",
      "source": [
        "---\n",
        "\n",
        "**Summation**\n",
        "\n",
        "Menghitung total jumlah dari nbuah bilangan.\n",
        "![image.png](data:image/png;base64,iVBORw0KGgoAAAANSUhEUgAAAkkAAACICAYAAADzq38MAAAAAXNSR0IArs4c6QAAAARnQU1BAACxjwv8YQUAAAAJcEhZcwAADsMAAA7DAcdvqGQAAAmhSURBVHhe7d3tkeM2EgBQ6S4Bh+AQnIL/OQ1H4gvFf52FU3AmzmBvUTsoY+Gmhh8gAVDvVbFWoiiiATTJHmpW8/zy1QMAgO/85+NfAAAKiiQAgIAiCQAgoEgCAAgokgAAAookAICAIgkAIKBIAgAIKJIAAAKKJACAgCIJACDgb7cxrefz+fHoG6nMVXrmXtl263YdU4xkhHx0J4kp1QcP9HSHfHRMMboeOapIYjpO5oxo5rx0TDGLq3PVx21MJTpApDC99MjHss0WbTmmGF3PHHUniak5mdPTHfPPMcVoeuakIgkAIKBIAgAI3KZISp9ZRp9bjmaWONlHHsJ9zHacOK7bO/UXt+vJyk0trT8i77PnZ5drbI3zyjGcwZ5+XzmGeZ+jz8fWOK8cw9mcmUdHHJ3bV94lH3J/ZunH1nhnmsdeMZ12J6nuUJLWReuJGcPjjOFxxpCSfLgH87jOKUWSQT7OGB5nDI8zhpTkwz2Yx/WaF0nR4KfbYnnhc3cZw9SPtUtr0T5nHMOejGE/5TjXSyl6PS+tyYd7MI/bNP+dpHoCot2v2eaVaJJf6TXxe+O8YgyvsKX/a+Nf2+8rxnBL/5Jec7Q3zivG8A6uHoOyvRZtrY3/7vlQx/6Z3n3bG++s89grJl8BwGlSEq9dAGA0U95JiuR9jn7BXRNnrzGcwdp+9xrDvM/R52NNnL3GcDZXj0HZXou21sb/jvmQ+zNLP9bEO+s89orp9DtJdcfq53xu1jFMca5dzla3cUWbd7NlDNNr5dLLKHHcUT2er8a3nINX251tlDhGUo+DcfneKd+TtHWQX1Wya8Pbun2pjLd8f7R+adu11sZZtrNGFF+S1kfrtlgbc21LH9bue0tftrSfRPva2ve9Y5WU8Zbvj9YvbbvW2jjLdtaI4kterV/aNlLH/dl7t+y7Vre15Egbe5TttWhrS/z1tp/J+1pqI1q/J57P2sm27Dup979H2Wa5n2j90rZrrY23bGeNKL4krY/WbbE35q3t7HXKnaSjwW+dwDtqlQDRWG4Z3yNzkfqwdjnD0f3Kw+Nj+Nn87snPLfv7rP0l5j62ZyxLn83HqPlwN63GYM98lbZs28tpH7dFk7AmQWcYtKvsHcNW7jAXe8dQHv5j7xheIcfRMhZz/1o01q3nYK8cxwixjC4aoyvHbpbj7NQ/S7JHGrgUUh7AwcIbXp14efyW1r8y4lzU/UjOiGvEvs9kadzq+cuvL60v5TlZ8mquXr1Wy+2seU/eprSmjZFc0Yelsazbzq8vrS+lbV7FudRm8uo1lh2Zr1qevzVzUe8/uWruhvsKgKs6zjcp+cqlNOJcRDFFsR8lD++tzPk6d9bMffS+ZMa8ueqY4v3kPIryaZbjzPckMZ0ZL0Qck06Ur+Y9n0h75sbMeTlb7DPkA+e4ek4VSW8uJVy5zGKmWBlP67y/Qz7eoQ+MpTzGWuRXjxxVJDGt1gcgY4put5d63DW4a+7N0K8R84FzjJCPiiRgeEsnyPKCmR5/dgHlHuQDV1EkAcNykaMkH7jacF8BAMyvvpj1Os2MEse7kw/Myp0kAICAO0kAAAF3kgAAAookAICAIgkAIKBIAgAIKJIAAAKKJACAgCIJACCgSAIACCiSAAACiiQAgIAiCQAgoEgCAAgokgAAAookAICAIgkAIKBIAgAIKJIAAAKKJACAgCIJACCgSAIACCiSAAACiiQAgIAiCQAgoEgCAAgokgAAAs8vX308PsXz+fx49I+Tm2wixT1DnADAOU4tkmYuNBRJAPDeTvm4LRUYvYuM1D4AwF6n/U6SuzAAwMyaf9y29w5SdOen3k/ed71ttF3ps9eTvW0BAPc0RJGUC5HyfUfWJUtxnNFWbe12AMC4un8FwFJBkZ/n17Ol7da4si0AYG5DfE/SUvFxRlFyRVtpX2fEDgBcx5dJAgAEmhdJ6Q5K/bEVAMBshriTtFRUpfWtP7a6si0AYF6nFEn5blJUkNTrcmFSr4/ee9RVbaX9nRE/AHCdYf52W73d0jZb1yf1a2e0VVpqFwCYx+lFEgDAjNp+3Pbnnx8Pvvr99/s/BwBu67//++rj8XG//vp4/Pjjt2Lir78ejz/+uPfzX3756DgAcDftP277+efH46efHo/ffns8fvjh/s8BgFs653eS/v77+wLi7s8BgNvxi9sAAAF/lgQAIKBIAgAIKJIAAAKKJACAgCIJACCgSAIACCiSAAACiiQAgIAiCQAgoEgCAAgokgAAAookAICAIgkAIKBIAgAIKJIAAAKKJACAgCIJACCgSAIACCiSAAACiiQAgIAiCQAgoEgCAAg8v3z18biZ5/P58ejxOGH3q5VxZD3jSUaMqZZjHC2uLdb24S65mt4/0nxtyaGjfT/blr4ko80FsF/zO0nRCe9qKYalOHrGN2JMtZFi2WttH0boa4phKY5Z52JL3KP3fdY5ANpoXiSln6Ba/RR19ASVY6ljOrLf0WJqeRJvua8RlOMbqefgiN55kd5zNIbW81/245Wy3+V79sbTqh9795P60HosgT5u+ztJ5ck2i9ZdacSYsnxSHyWevWbsR8u86H1x3jr+LfveUos86j0XwHG3LJJGOMnOxMm8H7k6HscDkPnfbZ21+In1iPKC0DqGtO8ty1F5H+9aePTud6vx7zmPZR4eaf9dcxDu5q2KpBEuoimGckmxjHBCPSOG3Le1C/84kqv5vbMoj4e0jJAPrdqfbS6A753yFQBJPjms3f2Wk8mekLfGk5wVU7TfNe9vHc/SmOwZqxHsjXvr+1rPQ+3I+K997xl9aBF3ac1+WvZjKf69/ToyHsAYhimSImkfLcJrebJqFVPpSHx743nVZsvxutLeuFv0d+881I7GcuT9R/vQYhyzq/vxqr29sbQcD6CPW3/clk5STlSv5TEql6x+vlW5zzXLOyvHQK72U+ZjOSdJ/Ry4v9sWSeXJzEXn39KYLC1Z/Xyrcp9rlnclV/urc7Fcsvo5cH+3vpO0dFLr9dNg1K6fTElGy9WrOCaAkd2ySMon2fRvtPS0FIufUN9TzoE6L/LyDpb67JgAenurrwAY0dIdhF5mvjDncZy5D0fkfvfKp1bjP9IxsbcvvecCaOO0/90GPbzzxWmEvisOvjEOcA/uJHEr73pRGuWirChQIMGdKJK4pXyhegcj9vWdxr/0rv2Gu1IkcTvv9BN8eVEepd/vegdlxLkAjvE7SQAAAXeSAAACiiQAgIAiCQAgoEgCAAgokgAAAookAICAIgkAIKBIAgAIKJIAAAKKJACAf3k8/g+B8nIX/K3lAwAAAABJRU5ErkJggg==)"
      ],
      "metadata": {
        "id": "cIvUX9M8UoHW"
      }
    },
    {
      "cell_type": "code",
      "source": [
        "arr = [3,7,5,2,1,8,9]\n",
        "total = 0\n",
        "for i in range(len(arr)):\n",
        "  total += arr[i];\n",
        "\n",
        "print(total)"
      ],
      "metadata": {
        "colab": {
          "base_uri": "https://localhost:8080/"
        },
        "id": "creWkeFTU6DB",
        "outputId": "2059e7e0-690a-4a5d-ef45-13b7b4b9ba71"
      },
      "execution_count": 17,
      "outputs": [
        {
          "output_type": "stream",
          "name": "stdout",
          "text": [
            "35\n"
          ]
        }
      ]
    },
    {
      "cell_type": "markdown",
      "source": [
        "---\n",
        "\n",
        "**MinMaks**\n",
        "\n",
        "Menentukan nilai maksimum dan minimum dengan metode divide and conquer"
      ],
      "metadata": {
        "id": "M1D4pop6VKHl"
      }
    },
    {
      "cell_type": "code",
      "source": [
        "def divideAndConquer_Max(arr, ind, len):\n",
        "  maximum = -1\n",
        "\n",
        "  if (ind >= len - 2):\n",
        "    if(arr[ind] > arr[ind + 1]):\n",
        "      return arr[ind]\n",
        "    else:\n",
        "      return arr[ind+1]\n",
        "\n",
        "  maximum = divideAndConquer_Max(arr, ind+1, len)\n",
        "\n",
        "  if(arr[ind] > maximum):\n",
        "    return arr[ind]\n",
        "  else:\n",
        "    return maximum;\n",
        "\n",
        "def divideAndConquer_Min(arr, ind, len):\n",
        "  minimum =  0;\n",
        "  if(ind >= len-2):\n",
        "    if(arr[ind] < arr[ind+1]):\n",
        "      return arr[ind]\n",
        "    else:\n",
        "      return arr[ind+1]\n",
        "\n",
        "  minimum = divideAndConquer_Min(arr, ind + 1, len)\n",
        "\n",
        "  if(arr[ind] < minimum):\n",
        "    return arr[ind]\n",
        "  else:\n",
        "    return minimum\n",
        "\n",
        "if __name__ == '__main__':\n",
        "  minimum, maximum = 0, -1\n",
        "\n",
        "  arr = [4,12,23,9,21,1,35,2,24]\n",
        "\n",
        "  maximum = divideAndConquer_Max(arr, 0, len(arr))\n",
        "  minimum = divideAndConquer_Min(arr, 0, len(arr))\n",
        "\n",
        "  print(\"The minimum number in the array is :\", minimum)\n",
        "  print(\"the maximum number in the array is :\", maximum)"
      ],
      "metadata": {
        "colab": {
          "base_uri": "https://localhost:8080/"
        },
        "id": "zbnAdQdOVrpv",
        "outputId": "e5646d00-c6e2-47dc-a160-8fcb36bb1d60"
      },
      "execution_count": 22,
      "outputs": [
        {
          "output_type": "stream",
          "name": "stdout",
          "text": [
            "The minimum number in the array is : 1\n",
            "the maximum number in the array is : 35\n"
          ]
        }
      ]
    },
    {
      "cell_type": "markdown",
      "source": [
        "---\n",
        "**Merge Sort**\n"
      ],
      "metadata": {
        "id": "y77LhzGIVrZw"
      }
    },
    {
      "cell_type": "code",
      "source": [
        "from IPython.core import prefilter\n",
        "def mergeSort(arr):\n",
        "  if len(arr)>1:\n",
        "    r = len(arr)//2\n",
        "    l = arr[:r]\n",
        "    m = arr[r:]\n",
        "\n",
        "    mergeSort(l)\n",
        "    mergeSort(m)\n",
        "\n",
        "    i=j=k=0\n",
        "\n",
        "    while i < len(l) and j < len(m):\n",
        "      if l[i] < m[j]:\n",
        "        arr[k] = l[i]\n",
        "        i+=1\n",
        "      else:\n",
        "        arr[k] = m[j]\n",
        "        j+=1\n",
        "      k+=1\n",
        "\n",
        "    while i<len(l):\n",
        "      arr[k] = l[i]\n",
        "      i+= 1\n",
        "      k+= 1\n",
        "\n",
        "    while j<len(m):\n",
        "      arr[k] = m[j]\n",
        "      j+= 1\n",
        "      k+= 1\n",
        "\n",
        "def printList(arr):\n",
        "  for i in range(len(arr)):\n",
        "    print(arr[i], end=\" \")\n",
        "  print()\n",
        "\n",
        "if __name__ == '__main__':\n",
        "  arr = [4,12,23,9,21,1,35,2,24]\n",
        "\n",
        "  mergeSort(arr)\n",
        "  print(\"Sorted array is : \")\n",
        "  printList(arr)"
      ],
      "metadata": {
        "colab": {
          "base_uri": "https://localhost:8080/"
        },
        "id": "QSzULkRSZXSj",
        "outputId": "7261d2fa-9f7c-4912-9e6f-281beb0a029e"
      },
      "execution_count": 24,
      "outputs": [
        {
          "output_type": "stream",
          "name": "stdout",
          "text": [
            "Sorted array is : \n",
            "1 2 4 9 12 21 23 24 35 \n"
          ]
        }
      ]
    },
    {
      "cell_type": "markdown",
      "source": [
        "---\n",
        "**QuickSort**"
      ],
      "metadata": {
        "id": "_fd_D6HFbMoV"
      }
    },
    {
      "cell_type": "code",
      "source": [
        "def partition(arr, low, high):\n",
        "  pivot = arr[high]\n",
        "  i = low - 1\n",
        "\n",
        "  for j in range(low, high):\n",
        "    if(arr[j] <= pivot):\n",
        "      i+=1\n",
        "      (arr[i], arr[j]) = (arr[j], arr[i])\n",
        "\n",
        "  (arr[i+1], arr[high]) = (arr[high], arr[i+1])\n",
        "  return i+1\n",
        "\n",
        "def quickSort(arr, low, high):\n",
        "  if low < high:\n",
        "    pi = partition(arr, low, high)\n",
        "\n",
        "    quickSort(arr, low, pi-1)\n",
        "\n",
        "    quickSort(arr, pi+1, high)\n",
        "\n",
        "data = [4,12,23,9,21,1,35,2,24]\n",
        "print(\"Unsorted Array :\", data)\n",
        "\n",
        "size = len(data)-1\n",
        "quickSort(data, 0, size)\n",
        "print(\"Sorted Array in Ascending Order :\", data)"
      ],
      "metadata": {
        "colab": {
          "base_uri": "https://localhost:8080/"
        },
        "id": "L4-PIbwcbA2o",
        "outputId": "fc603fb9-26d0-4215-dff4-cd2294f32c79"
      },
      "execution_count": 33,
      "outputs": [
        {
          "output_type": "stream",
          "name": "stdout",
          "text": [
            "Unsorted Array : [4, 12, 23, 9, 21, 1, 35, 2, 24]\n",
            "Sorted Array in Ascending Order : [1, 2, 4, 9, 12, 21, 23, 24, 35]\n"
          ]
        }
      ]
    },
    {
      "cell_type": "markdown",
      "source": [
        "---\n",
        "**Mencari Subarray Sum**\n",
        "\n",
        "Mencari hasil penjumlahan terbesar dari suatu array yang isinya nilai negatif dan positif/ Misal suatu array isinya {-2, -5, 6, -2, -3, 1, 5, -6}, maka penjumlahan terbesarnnya disusun dari {6, -2, -3, 1, 5} = 7"
      ],
      "metadata": {
        "id": "7q-xhUGhdt9R"
      }
    },
    {
      "cell_type": "code",
      "source": [
        "def maxSubSum(arr):\n",
        "  max_so_far=0\n",
        "  max_ending_here=0\n",
        "  for i in range(len(arr)):\n",
        "    max_ending_here += arr[i]\n",
        "    if max_ending_here>max_so_far:\n",
        "      max_so_far=max_ending_here\n",
        "    if max_ending_here<0:\n",
        "      max_ending_here=0\n",
        "  return max_so_far\n",
        "\n",
        "arr = [-2, -5, 6, -2, -3, 1, 5, -6]\n",
        "result = maxSubSum(arr)\n",
        "print(result)"
      ],
      "metadata": {
        "colab": {
          "base_uri": "https://localhost:8080/"
        },
        "id": "Naoe_iIYd4fo",
        "outputId": "bd37af2d-3629-410c-c489-183b717531e4"
      },
      "execution_count": 35,
      "outputs": [
        {
          "output_type": "stream",
          "name": "stdout",
          "text": [
            "7\n"
          ]
        }
      ]
    },
    {
      "cell_type": "markdown",
      "source": [
        "---\n",
        "\n",
        "Menggunakan divide and Conquer"
      ],
      "metadata": {
        "id": "suDBu6P4edJE"
      }
    },
    {
      "cell_type": "code",
      "source": [
        "def maxCrossingSum(arr, low, mid, high):\n",
        "  result = 0; leftSum=float('-infinity')\n",
        "  for i in range(mid, low-1, -1):\n",
        "    result += arr[i]\n",
        "    if result > leftSum:\n",
        "      leftSum=result\n",
        "  result=0; rightSum=float('-infinity')\n",
        "  for i in range(mid+1, high+1):\n",
        "    result += arr[i]\n",
        "    if result >rightSum:\n",
        "      rightSum=result\n",
        "  return leftSum+rightSum\n",
        "\n",
        "def maxSum(arr, low, high):\n",
        "  if low==high:\n",
        "    return arr[low]\n",
        "  mid = (low+high)//2\n",
        "  return max(maxSum(arr,low,mid), maxSum(arr,mid+1, high), maxCrossingSum(arr, low,mid,high))\n",
        "\n",
        "arr = [-2, -5, 6, -2, -3, 1, 5, -6]\n",
        "result = maxSubSum(arr)\n",
        "print(result)"
      ],
      "metadata": {
        "colab": {
          "base_uri": "https://localhost:8080/"
        },
        "id": "sMJshpD0ej9o",
        "outputId": "b0bf0bd4-d739-478c-cc38-ecd0b5ddbfc0"
      },
      "execution_count": 36,
      "outputs": [
        {
          "output_type": "stream",
          "name": "stdout",
          "text": [
            "7\n"
          ]
        }
      ]
    },
    {
      "cell_type": "markdown",
      "source": [
        "---\n",
        "**Longest Common Prefix**\n",
        "\n",
        "Mencari potongan suku kata(prefix) yang sama dan terpanjang"
      ],
      "metadata": {
        "id": "osu-PVBmfh6o"
      }
    },
    {
      "cell_type": "code",
      "source": [
        "def longestCommonPrefix(a):\n",
        "  size = len(a)\n",
        "\n",
        "  if(size == 0):\n",
        "    return \"\"\n",
        "\n",
        "  if(size == 1):\n",
        "    return a[0]\n",
        "\n",
        "  a.sort()\n",
        "  end = min(len(a[0]), len(a[size-1]))\n",
        "\n",
        "  i=0\n",
        "  while (i < end and\n",
        "         a[0][i] == a[size-1][i]):\n",
        "    i+=1\n",
        "  pre = a[0][0: i]\n",
        "  return pre\n",
        "\n",
        "arr=[\"geeksforgeeks\", \"geeks\", \"geek\", \"geezer\"]\n",
        "result = longestCommonPrefix(arr)\n",
        "print(result)\n",
        "\n",
        "arr =[\"apple\", \"ape\", \"april\"]\n",
        "result = longestCommonPrefix(arr)\n",
        "print(result)"
      ],
      "metadata": {
        "colab": {
          "base_uri": "https://localhost:8080/"
        },
        "id": "UaIv-AHIfp3M",
        "outputId": "30e78b9a-2e21-4e79-99bf-30087e6a01d5"
      },
      "execution_count": 40,
      "outputs": [
        {
          "output_type": "stream",
          "name": "stdout",
          "text": [
            "gee\n",
            "ap\n"
          ]
        }
      ]
    },
    {
      "cell_type": "markdown",
      "source": [
        "---\n",
        "\n",
        "**Median dua array urut sama ukuran**\n",
        "\n",
        "Mencari nilai tengah dari dua array yang berurutan nilainya, dan ukurannya sama."
      ],
      "metadata": {
        "id": "4tOpDRr7g-e9"
      }
    },
    {
      "cell_type": "code",
      "source": [
        "def medianOfArray(arr1, arr2, n):\n",
        "  m1 =-1\n",
        "  m2 =-1\n",
        "  count=0\n",
        "  i=j=0\n",
        "  while count<n+1:\n",
        "    count+=1\n",
        "    if i==n:\n",
        "      m1=m2\n",
        "      m2=arr2[0]\n",
        "    if j==n:\n",
        "      m1=m2\n",
        "      m2=arr1[0]\n",
        "    if arr1[i]<arr2[j]:\n",
        "      m1=m2\n",
        "      m2=arr1[i]\n",
        "      i+=1\n",
        "    else:\n",
        "      m1=m2\n",
        "      m2=arr2[j]\n",
        "      j+=1\n",
        "  return (m1+m2)//2\n",
        "\n",
        "arr1 = [1,12,15,26,38]\n",
        "arr2 = [2,13,17,30,45]\n",
        "print(medianOfArray(arr1,arr2,len(arr1)))"
      ],
      "metadata": {
        "colab": {
          "base_uri": "https://localhost:8080/"
        },
        "id": "Xgt0fIl1hGcz",
        "outputId": "47c7798a-8fc8-4c26-83c7-58a070028108"
      },
      "execution_count": 41,
      "outputs": [
        {
          "output_type": "stream",
          "name": "stdout",
          "text": [
            "16\n"
          ]
        }
      ]
    },
    {
      "cell_type": "markdown",
      "source": [
        "---\n",
        "\n",
        "**Median dua array urut beda ukuran**\n",
        "\n",
        "Mencari nilai tengah array yang berurutan namun ukurannya berbeda"
      ],
      "metadata": {
        "id": "cyls561Wh-_s"
      }
    },
    {
      "cell_type": "code",
      "source": [
        "def Solution(arr):\n",
        "  n = len(arr)\n",
        "  if n%2 == 0:\n",
        "    z = n//2\n",
        "    e = arr[z]\n",
        "    q = arr[z-1]\n",
        "    ans = (e+q)/2\n",
        "    return ans\n",
        "  else:\n",
        "    z = n//2\n",
        "    ans = arr[z]\n",
        "    return ans\n",
        "\n",
        "arr1 = [-5,3,6,12,15]\n",
        "arr2 = [-12,-10,-6,-3,4,10]\n",
        "\n",
        "arr3 = arr1 + arr2\n",
        "\n",
        "arr3.sort()\n",
        "print(\"Median =\", Solution(arr3))"
      ],
      "metadata": {
        "colab": {
          "base_uri": "https://localhost:8080/"
        },
        "id": "knQlJLYHiQ7A",
        "outputId": "848b957f-6662-49cc-8978-9eae58ee1e29"
      },
      "execution_count": 42,
      "outputs": [
        {
          "output_type": "stream",
          "name": "stdout",
          "text": [
            "Median = 3\n"
          ]
        }
      ]
    },
    {
      "cell_type": "markdown",
      "source": [
        "---\n",
        "Mencari elemen terbesar dari array dan lebih kecil dari angka"
      ],
      "metadata": {
        "id": "NA0iFe84i-0D"
      }
    },
    {
      "cell_type": "code",
      "source": [
        "def floorSorted(arr, low, high, x):\n",
        "  if low>high:\n",
        "    return -1\n",
        "  if arr[low]>x:\n",
        "    return -1\n",
        "  if arr[high]<=x:\n",
        "    return arr[high]\n",
        "\n",
        "  mid =(low+high)//2\n",
        "\n",
        "  if arr[mid]==x:\n",
        "    return arr[mid]\n",
        "  if mid>0 and x >=arr[mid-1] and arr[mid]>x:\n",
        "    return arr[mid-1]\n",
        "  if mid<high and x<arr[mid+1] and x>=arr[mid]:\n",
        "    return arr[mid]\n",
        "  if x>arr[mid]:\n",
        "    return floorSorted(arr,mid+1, high, x)\n",
        "  else:\n",
        "    return floorSorted(arr,low,mid-1,x)\n",
        "\n",
        "arr = [1,2,8,10,12,14,19]\n",
        "x = 5\n",
        "print(floorSorted(arr,0,len(arr)-1, x))"
      ],
      "metadata": {
        "colab": {
          "base_uri": "https://localhost:8080/"
        },
        "id": "kcdx9u1_jCO2",
        "outputId": "b45b4f64-cac9-466b-fe98-8137ddf76638"
      },
      "execution_count": 44,
      "outputs": [
        {
          "output_type": "stream",
          "name": "stdout",
          "text": [
            "2\n"
          ]
        }
      ]
    },
    {
      "cell_type": "markdown",
      "source": [
        "---\n",
        "**Nilai terdekat**\n",
        "\n",
        "Mencari nilai terdekat suatu angka dalam suatu array\n",
        "\n",
        "- menggunakan metode divide and conquer"
      ],
      "metadata": {
        "id": "xiTs-TXUj9r3"
      }
    },
    {
      "cell_type": "code",
      "source": [
        "def closestNumber(arr, low, high, x):\n",
        "  if low>high:\n",
        "    return -1\n",
        "  if arr[high] <= x:\n",
        "    return arr[high]\n",
        "  if arr[low] >=x:\n",
        "    return arr[low]\n",
        "\n",
        "  mid = (low+high)//2\n",
        "\n",
        "  if arr[mid]==x:\n",
        "    return arr[mid]\n",
        "  abs_mid=abs(arr[mid-1]-x)\n",
        "\n",
        "  if mid>0:\n",
        "    abs_left=abs(arr[mid-1]-x)\n",
        "    if abs_left<abs_mid:\n",
        "      return closestNumber(arr, low, mid-1, x)\n",
        "    if mid<high:\n",
        "      abs_right=abs(arr[mid+1]-x)\n",
        "      if abs_right<abs_mid:\n",
        "        return closestNumber(arr, mid+1, high, x)\n",
        "  return arr[mid]\n",
        "\n",
        "arr = [2,5,6,7,8,9]\n",
        "x = 9\n",
        "print(closestNumber(arr, 0, len(arr)-1, x))"
      ],
      "metadata": {
        "colab": {
          "base_uri": "https://localhost:8080/"
        },
        "id": "e4evEFTmkCi3",
        "outputId": "1c6a6632-2b86-4ce1-e7b0-6e58edb62051"
      },
      "execution_count": 45,
      "outputs": [
        {
          "output_type": "stream",
          "name": "stdout",
          "text": [
            "9\n"
          ]
        }
      ]
    },
    {
      "cell_type": "markdown",
      "source": [
        "- Menggunakan metode biasa"
      ],
      "metadata": {
        "id": "kKBs5f7NlWgf"
      }
    },
    {
      "cell_type": "code",
      "source": [
        "def find_closest(arr, k):\n",
        "  arr.sort()\n",
        "  closest_num = arr[0]\n",
        "  for num in arr:\n",
        "    if abs(num-k) < abs(closest_num - k):\n",
        "      closest_num = num\n",
        "    if num > k:\n",
        "      break\n",
        "  return closest_num\n",
        "\n",
        "arr = [3.64, 5.2, 9.42, 9.35, 8.5, 8]\n",
        "k = 9.1\n",
        "print(find_closest(arr, k))\n",
        "\n",
        "arr = [2, 5, 5, 7, 8, 8, 9]\n",
        "k = 6\n",
        "print(find_closest(arr, k))"
      ],
      "metadata": {
        "colab": {
          "base_uri": "https://localhost:8080/"
        },
        "id": "mP20elGRlaQe",
        "outputId": "9f9d129d-8436-4413-e4b0-485291259364"
      },
      "execution_count": 48,
      "outputs": [
        {
          "output_type": "stream",
          "name": "stdout",
          "text": [
            "9.35\n",
            "5\n"
          ]
        }
      ]
    },
    {
      "cell_type": "markdown",
      "source": [
        "---\n",
        "**Fixed Point**\n",
        "\n",
        "Mencari nilai fixed point, yaitu suatu bilangan dalam yang nilainya sama dengan urutannya dalam array. Array dimulai dari 0 jika tidak ada yang sama, maka hasil akan bernilai -1"
      ],
      "metadata": {
        "id": "SSvwta1WmWwr"
      }
    },
    {
      "cell_type": "code",
      "source": [
        "def fixedPoint(arr, low, high):\n",
        "  if low>high:\n",
        "    return -1\n",
        "  if arr[high]==high:\n",
        "    return arr[high]\n",
        "  if arr[low] == low:\n",
        "    return arr[low]\n",
        "  mid = (low+high)//2\n",
        "  if arr[mid] == mid:\n",
        "    return arr[mid]\n",
        "  if mid> arr[mid]:\n",
        "    return fixedPoint(arr,mid+1, high)\n",
        "  else:\n",
        "    return fixedPoint(arr, low, mid-1)\n",
        "\n",
        "arr=[9,1,4,5,2]\n",
        "print(fixedPoint(arr,0,len(arr)-1))"
      ],
      "metadata": {
        "colab": {
          "base_uri": "https://localhost:8080/"
        },
        "id": "xDOG9GZYmnOI",
        "outputId": "cbb47e3d-e197-4a96-a14e-a00c8db07b6f"
      },
      "execution_count": 50,
      "outputs": [
        {
          "output_type": "stream",
          "name": "stdout",
          "text": [
            "1\n"
          ]
        }
      ]
    }
  ]
}