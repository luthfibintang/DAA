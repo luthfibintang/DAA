{
  "nbformat": 4,
  "nbformat_minor": 0,
  "metadata": {
    "colab": {
      "provenance": []
    },
    "kernelspec": {
      "name": "python3",
      "display_name": "Python 3"
    },
    "language_info": {
      "name": "python"
    }
  },
  "cells": [
    {
      "cell_type": "markdown",
      "source": [
        "###**Nama** : Azisya Luthfi Bintang\n",
        "###**NIM** : 2022071051\n",
        "###Matkul : Desain Analisis & Algoritma Pertemuan 11"
      ],
      "metadata": {
        "id": "GvyL4ug0YLX6"
      }
    },
    {
      "cell_type": "markdown",
      "source": [
        "![image.png](data:image/png;base64,iVBORw0KGgoAAAANSUhEUgAAAgcAAABRCAYAAABG6QX4AAAAAXNSR0IArs4c6QAAAARnQU1BAACxjwv8YQUAAAAJcEhZcwAADsMAAA7DAcdvqGQAABkKSURBVHhe7d15cF3Xfdjx713ffRv2HVzATRTFTZSozdoiO45lV7Ybp5MZN5ETx2mSeppm1DbtuJ7peJp20ngy6cROHWXi1BknjqXYMuVFUk2ZIrVRJMVNosQFFLERG0GsD3jAW+7Scx5ACSBAKhNL4pPw+3DeEMB5975z3z+/39mN7u7uKBaLUVNTQxAECCGEEGJ5M+f+F0IIIYQokeRACCGEEAtIciCEEEKIBSQ5EEIIIcQCkhwIIYQQYgFJDoQQQgixwDJNDgwsy8axTPWTEEIIIeZ7m+TAxLEtLNPANC08S/2somk0V/p+ZBgWZjjB8/t28a2XztDve8Sk/0QIIYR405XDomHjFrr51tMv8Vx7P+09h/mPLx7nuTGfuPP+jaaGSm7CaJKh0QJBYBJzVbLzfs52hBBCiHfYklE+Un/2YjbmxT6yjoWbqsQevsi2RJL1FSkVXcMr9h5EGDi2o66Pzb48F6+Muu91chBkswwWVN2q0zSp5MB0HBxTBhiEEEIIbdH2yZEVI549x1ef2cufnehmtGjgOjFihQmK8Wb+zT0P8F9uXku965NfsNuyShfsOF5hmCf3P8WXD52lvWBhRnX8wcc/zB/sXE+VH3CtN2i2LYvpviP814ODuIxzpu8Nzjmb+KP7P86nV1dhRHmCSBIFIYQQy9cSZysYWGFAJupn1+PHyNW2sKJxkm93hNxz3RZ+Y00trgqwtoqf83sPDNslNjPMd/c9zROTKR649TZ+yenk3+3tYuV1N/PlW9YQV/e/1smBYzmMnd7N53cf4mjVrXztzlZ6z7zOUVr43btu5vbKGEWVxMhIgxBCiOXqsmGFqBQUrUSC2qhIZ10dVWuv4yMJl7vqGrirtYXqhIPugZ8fPPUwRMwo0j9wljOjEbet38In1jdRU8xTMELS8RhJ/S493OB5s6+YSib07EZ9vbqZtaAspsr0UISuj4E9v8xT15UqoC4y1Oc6euhirsy1Z5MWXTlV5jruvDIHWz+tYXAhM0XObeb3bt7Br1y/hhsrKmkLfFR2RDhbJSGEEGLZsh566KGv2LZNXAXQ0IwRL/bz13t+zOd+/AK73ujgyZOv8M3X2nmyq4+cVc1NjfXUuuDPyw4M08IOZjh2+gQ/yyb40KZNbKvy6Dp7nIszaW65bjMbUgaH9+/iC//4KF/86TM8fKKHyGvkxroqkvEix59/gt9+5Hv83tN7+Oax0wReM1sb60jbw/z0mSf5jUd38Z/27OPrB7uJ1zews6UOZ6SLbzz5D3zu8Sf48p697DpfZF19KxtrPYLJPr7zk+/x+cd+xB/+7Gl29+VYVb+W9VUTHDp8jGJiE79882aa7XH2d/Vy1qjglpUttMYs/HB+6iOEEEIsL5cNK4RYUcBkOMAPfnyEi8lmdmwweObwEC1t1/Evt7dRV9ofYK51folp4/mTPP3yPv4uU82Dd9zNR6uH+PPHf8LLxgYeuvcOdqRhYnKM/myOKRV8bStGQ7qCOs/BMkKyUxlVNqPK9LwAm4ZUJbXxGK5RZGxykoFsnpz6UNN0aaqsoD4Rg8IMFyczDOV9iqo+XixJazpFhWMSBgVGM6osVyRPREKVtVTUUBOe4+HHjxCs2cFn79pE7UgHf7zvBd5IbeQ/33EjGxMGOV9VQgghhFimLhtWCPFNjxrPI5muZGV9C1vMIg31dWxrW0tbMlbqml+QGMwTFlUgzkOVm6Xn9aN8+2gX/Spq2zqZUOWJVA0bm1rZ2bqC7Y11NMbt0tBBGBmqrFqVtbCzpVWVNdCohy90fSKLinQNNzQ3c3NLCzua6mjwbKK5yZMNNQ1sa569bnNtBWnbUPdTn2Y61NXUs0Vdoz9vU20lFXpDg8w4x60EVl0jter+R8+e5vh0gjvXrVbPZ1GUxEAIIcQyd1lyoGOqCsl9PfSFAVaVTVfHKEknTkuVR+RfYTqhXtoYi7N9/Qpa+g/w6T/6Bl86Ncb21jZur0gQd2fnMkSRCvbqvkUV2H11zfze+9mykKIqv3LZ7OutMpVYqN/fum72cy55s6z0eeq9KhUx1L3Gxk/xxX/4C1b+9//FFw6N8ZGdt/IrbbVYZbCaQgghhLjWFq9WMFS+UJhiOB/ixjys3DRF1UJPJTwcFXrnB9/5DMNQrfkcQ2Pj9GYDKiuSpNXfLMelQl3rqvdc6dr3jKqP6U/TPTHJ4EwRlSeQ8FK01VRQqZKiYH5GIoQQQixTSyxl1H9VQbT0g04G5lYNRFdODN6ikgHTLG2xrLv29ftL1/2Trn2vvFVHTdct0L0Rs78KIYQQy96iYYUSFTB1cNcNad2lfynQvz0daAMKc8MGpaBbVomB9lYd9as0TDFXIoQQQogrJQdCCCGEWLYkORBCCCHEAu9SchARGSae45QOXSpXerjDsmxVT/vNOQhCCCHEcveuRO5I77SYH+Avjxzm/567SICBaZRX9NUTLeNWkc6ukzx26BSdmQJ2aX9lIYQQYnm7ejQstf71jogmlt4FUf+sYvzVJxhG2I5JfqSfgd5e8vkIQy+PfJur3muGZZV2WHy9r4s9Y5OMM3uYlBBCCLHcXTk5MCyc4gCP7T/Gy50X6Bp8na8eOcWhCZ/41VrYkVEKshcmJqiMHFYmEqWDmsqN3pchLBTIz8xQF49R4bp6/eVcqRBCCLF8LRHlI0LdYxBzsMZ66ZvJU3QSMHSeVAB1iZR6T3jFfoBItcANZhifLqqbe1TGHb1tgl4dWVb0HINsIUuUD1kR0+cx2KU9D4QQQojlbnFyYMZI5Pv5m6cf4+7v7+NPjrzI7/zoUT67+xBfO7Cf753qZqRgoY8pWFJpbsE0Q5mQgu2RSugNlcot6BqqmgG5YpbpnEU6FsNzpONACCGE0BaH+EgfaFTF7ZtWcXeyhc+u3cxvbq4j1rKJ+2+6lU+uTOMYIcGVAqlpqdwgyynLJVNTTZ1rYZXZRkiR3iUx8snmfGZiNTRWJklZV3kmIYQQYhm5LDlQQVwfOJCsYnNjHbVta/jQjtv59+ua+eV1G3lw23a2NqVxjegKgTTCtg38sXFy+Rx1iYQKunb59RvoSRDFAv2jI5x0XPW8cVxkp0QhhBBCm5ccqMRAL0EMRvj+80/wq9/axf84coD/8NT3+cTjz/GNgy/yyIk3GMyCa81dsog+twBGpibwSmP5CWzTLG2hXE4M9S/0AzKZDEnbIlWajCipgRBCCKHNSw70ccYBkZFky5pG1hqV/OqqTfz+jhYa4q08sHEbD6ytJqba18EV4mgUmeqGeSZn8irYelR6rkoWyu1sBfWkBuT9afIzPiu9FHUxR1d+rlQIIYRY3hYOK0Q+OSvNphUrub11JR9ev5UHV9fxoba1fObGndy7opqEdaUhBaU0GTHHyGSRGT2xMWmVehLKLe4aRoQfTjE1bZBy4iRdQzoOhBBCiDkLkwPF1HsY9Pdwzvcppkw6zw5g2DFqKz0o+FfvBTDVtbkZOiKT4aoqqjwXN7ryssdrQ6+eCCnkcmTsauork1TaAb50HAghhBAllyUHquUf+OS9Zn5x22buaKmiZd2NfGzTGla6KqBetXUdYVkW0eQUk9NZKhMJKh0Ho+y6DdRDhyEjw8OcsF2iihSeIZMRhRBCiEsW9RxEYZEo2cCW1hZWJ+I0rVjFuoYq4gRvE0D1ZMSI8ekM5nSRFW6cuG0RlN1YvqGeMWJsfEzV1yAZi8kGB0IIIcQ8i5KDUtM6CikGuqs9ItD/B28/NKAnI1pGkYxKDvRYftL1cO1ynG9gEITTjI5P0mSp5MfTyYH0GwghhBCXGN3d3VFMtZ5rampKicA/n4FtR0yMXqBnpEhFXQMtlV6pC7+c8gOdHERhjt7eXiadWlY31pE2fdkASQghhJjzDiYHigqw+rRD29QBOMAv2+56ncjYpaWb/5ReESGEEGI5WWJY4edQGpEIKPpFipGBpwKwp9cylp0IX9WxoBID07KJ2VbpICYhhBBCvNPJwZzIdIgXR9jVfoaf9I0Tqqyh/I5tNolZAQMDXTx7qof+rI9VlomMEEII8d66ejQ0VAB1bGwVNC3TxlMtbFv3DswVLy3Csm2isfMcOHOGM2Mz6m96w+IyY5qY/gwnus/wePcAg0VwJDcQQgghrpIcqMTA9kd57rWznBkYY3C0i++293A6G+BdtQ/eKAXZ/rFx6gOT9cmUisNG2Y3rG6UNm/JkslncuEcyps9XKL+tnoUQQoj32hLJgQ6QJp4Klnamm6O9F7iYh+xAO53DGQLTK+2SfKUgqpc0GuQYz+axjThVcXf2/WUWdfUwR7Y4jZEPWOMlqXJsVUd9mLMQQgixvC1ODkrzBYZ54sjz/P7ugzzadZr/fegF/uf+E7zwRjtH+0fIFGd7B5Zk6IIZLk6FFK0YqYTerrjs+g1UchCQK04xkzOpiMWJqweSvZCEEEKIKw4rWNh2lr7hiAY7TtoYZr+fxqyoptbxr34OQam7PsvZ0CZTWUWNa2GqFnk5xV3dP2BFPtP5IjN2JXVpj6QdyF4HQgghhHJZcqCCeKiCZKqRj23fyie3bON377mfv7prK1/YcTv/7SMf5VMbGkiYIf6Smwrq8xXULccnGAl9kuk0lZZVdl31eiMk/CKDYxk6Ykm8tHoh5ysIIYQQ2rzkQDWb9ZBCmOH51w7xJ7t288dnT/HVoy/y5b1H2H36NZ7r7GV8JkQf3Lg0A9uC4cw4yekibTFP/V5+5yuUkoOiz8j4KDnLwHFlMqIQQghxyeIwryJkxBgvdY6zyvBY7Yzz4lCI5yaojYXkA50CLC2K9PyCApmZGYzQo8pTyYFZfkFX5wa5IEcxV2S9l6RBr1SI9G4MQgghhJiXHKjQGBaZtmq5b+tOvrhpC/925y/w5/ds57e23sSXPnw/n9+8kmr7Kkc3lyYj5hjL+uSMGMnE7M6D5Xf4EhSDSaamIa2SnqRrEJZbJYUQQohrZFHPganHDC72ctL3mY6bdJ3pIWfbpNKeiqiF0rj8FVvYOjko5Oguwmi6goq4g0O59Rzo3o1QPUqODBXUpBJUOCFBKP0GQgghhHZZcqB3MtRDBx5b21axpSlFvLqNO1a1sjqhW9tzb1tShGlZMDXFRZVE2Ok0VY6DGZXfwUZmGDA+Ns5ZN0msMkXSCPg5j5wSQgghPjAW9RxEfp6oZi0f3rSRbVVp1t+wjVvXNlMR+W8TQA10bjAxlcGanKbNiZGw7dJkxLJqk+sxhTBiZPgiE4ZKaDxPJiMKIYQQ8yxKDnSQR7Ws875PUQXN0umFfvD2y/wiA9sokpnJlDYWSntxYnY5zjcw8KMc45ksq22PFi+mnlcmIwohhBCXLJEc/DOp6BqopMJJ1HN923o21MSxUUlFuTXJVbaiBzrqmtZx26pWGlxd77kyIYQQQmB0d3dHsViMmpoaguDnG3nXvQSWZePYBuFcz0N5MnBK8yECiqqegfpdeg6EEEKIWe9cz4FSGs4PffKFYhknBlpEsVggXxoukcRACCGEmO8dTQ7eryLDxLEsXFMSBSGEEOJtkgOjFDQtFTRNFUBdy5zd1Giu9APBtIgVJzned56XhycpqIfTxzkLIYQQy9VVkgMDK8xyuneQ/vEs49lh9g+M0J8LcT4w0TPCtB3MTC+7Dh9gV+dFZiITW4+PCCGEEMvUksmB3pnAdWM4U5089eoZzgxnGTr/Kj88e57eoo1tGVftPTB0L4Pj4DmuetllmUzoOsZsF1d9A7lCgVbLZWs6Rcw0y2orZdO01Heov0v1ss1Sr8YHqudGCCFE2Vm8WsGwiPkZXhka4djr+/l/Y3HWNLVSOfQq/Yn1PHDzHdzT4GIZ0aJliqWkwjHIT45wvGeQczN5cnYFN7U2s7k6gaGCbjkENn1SZDg9zP7zg/T4EePnT9EzmeS+W+/hvlWV2FGxDJZg6hUVJpMXeznYf5Hzvk1dbRO3NdXQoL7j8p7wKYQQ4v3Meuihh75i2zbxeJxIt5hNB6cwwlMnX+JPD55nKJeje7yLH12YYSRyWFtdy3U1laSsiGBBfDKwVbO2kB/kpWOH+fuXT/HT3vM8dzHPqroGttWlMMsgOTBUS9zIDrH3+H6+fvw0e3rO88K5CxTSrdy3aS1rUzZheK03PlDfpRORHT3PT188wN++1s7u3g5e6svSWt3E9bVJlWiV37bUQgghPhgW9RzogGPZHq59gceefI3Eio3cVnOeP3vD4WNbd3B3LeRyxdL75g8WGKZNLJxg7/7dfO+8y8fvvp9Prk2qEvXOYpFcEJa6yB3TLC151Jsi+GGgXrMhbukyHQBNlXTo1QRzIyC6TNVTl6mLVJlVSkpK1N8K6rrZW+rtnPU9Z8siVVZUL8sOOPX8D/nK6yEPPPAZfnO1wfP7nuFnE0keuPMmbqqOY5RuPXdPFYQL6vMCdVOdWOh6WHNzEiL1WfqeOknSEzZ1mTn7AKXvUj+bTjMuLwvVd6GvK32H6p7uvOfWG0kFqAQt6OFbT/yMA+EmvvSpO1ljtPM3jz7LSPOH+LW7N9Ni5sjL5k1CCCHeBQuTAxXM3GCaM6PjDHS/wlfOTbGucQ33Fs+yd6qaX7rpTj6zOo2lQt5cTJ+j5yhYjPUe55vPnsReczufu2UD9UaeGRXA9AJBU4XC0ZE+ToxMMOyrz3FTXFffxLrKOK4VMDI0wInhCYZUpPUcjw0NLaytTJEwpjk/NMRrI1Nk1IdaVoLNrY2sq05jTE9wVl13dnL2cypSdWxrqKM5aeMXpukZHOBMZoZJFYhr0nVsbmplhd3F17//DGMNt/M7H91Oc6aD/7PvJc4kNvDFO3ZwvZPhcN+F0j11vVOJGrY31dKS9ChOjfD6hUE6pn18VVZX0VD6vAYvZGxClQ2OMlBQZZHLuqZGNtVVkFDPnZ0a5tiFEQZyKvkyYqypq+cGVZa0LTLqO3llWF8Hjh2jrbaJLS215E/s5tdfOEfVmq3869WVDF94g1cHDG678XY+cV09rl+Uw6KEEEK8K94aVvA8QtX6d/0x9px8kS/tPcloNs/4ZA8/eGOEIRXQW2sauL62hmq95fC85EDvE+CaPv295zg06LN+/XoVNJOoJv5s61iV2yqheKP9IA8fOsIj7Z0cHZmhvkoFwpo0nuvT8fpRHj54hO+e6+CVoXFqq1ZwQ30VnjnBsRPH+Mah4zze0cmhgWlWNjextb4SO3OBp46+yMOvnOKpc5105D02N7awptIhmB7huSMH+Ktjr/HDjnP05WNc39LG6mwHX2ufomLdBj7dWkVmqJNjfaM0N61n54p6EjM9fPvlQ/zF8VO80NXL2ayrgnUjbSqJKQ518MiR/fz1a2fZ09XDhbCC7c0tNKVCBntP87cHDvOd02fZ3TFMorKO7a11VBghIwOn+MuDL/Ptk+3s6xnDilezo7mGStdl8Nxh9Z0c4u/OdHJwcAwv2cyO1hQjPR2c6O5X39MQezo6ODzqc+eOu/lXG1tJkacQyZ4MQggh3h2XDSv4KoTHSHgT7HvqMGPVa7hvwwz/eHCMjTfcyL1taQq5fKnFujAwmaq1H9DZfphHjo6w6ZY7+NR1jZiqdau7/3X3uk4SHNvFti8tkFB/mRtuiNSPtuOq8nmLJ/zZHQwDde+Y42BdGla4dJ1OPEyLuLpOvWWuSL1flRX0vEpTX+eq/98qi0L1S99LPPhsP9tVoP3DLXGe3v0DHm4P+Ohd/4IHb2jAxS/Vc+E9fXXPEMOyS6sG3nz40MfXZaGqv+3gOtZcgaKefXYHRr2l9GVlgapjUd1XPbjlxHAXPLe+2RQv7dnNs5l6Pv2L97IpPVemPq9Q0D0GkhgIIYR49yyakKgDoD3ZxRPdY1BdT2qonZNBkjWrVrNCJQB6k6AlA5Nt4USTdPV08apq5Q77ObrHMhQMh2rPRYfGUM8j8FVALb3UzzorUPR4ux6/f6tMvUrjFrNBcMnr1EV6QaWvEpo3y1QA15eVxu9VmU52FpTpHgx/ggOnO+lVSUSYH+TpQ69zMpdk5/Ub2VabxI50InDZdaV76kou8XmX6h+pJOjS3/WrVH/9BEuXlZ5OXbj4uVUSYnvEckO80N3PyYk82Zlx2oeHmQ4cKjwPx5QjpoUQQrx7FicHqgUcjvTR4zusaKnDHJ8iWdnI9a21eLr1PXfh5QLVKk8lqlQrOMtPzrzCd149wY86x6muquempkpcHUDn3nvN6OdLV7OqOMLe48f58ZjJL2zdwgMtrWyor6W+IoY5N1HwWgp8i6p69V1OXeCxV47z92fa2dvdi5NoYXtTPWlL9zrMvVkIIYR4hy1xKqOKOqZDTDX1Q716wbIxSy3f2S7yq9HxyrEc7De70NVfSt3r5bPsrlRHx8UuDVOo31TrX/8tDMrrFMnZPSNcLL1f9SVzQy1yWJQQQoh30xLJgRBCCCGWs3kz4YQQQgghJDkQQgghxGUkORBCCCHEApIcCCGEEGIBSQ6EEEIIscCC1QrX/jRCIYQQQlxrRl9fX6STgnT60h69QgghhFjOjGw2Gw0ODqL+n90iWAghhBDLmhHpPZOFEEIIIUrg/wN+5ov2tShp4gAAAABJRU5ErkJggg==)"
      ],
      "metadata": {
        "id": "cX_iwL47YrEL"
      }
    },
    {
      "cell_type": "code",
      "execution_count": 2,
      "metadata": {
        "colab": {
          "base_uri": "https://localhost:8080/"
        },
        "id": "6iNKxzIMTO81",
        "outputId": "75e20d42-20fd-4661-a252-09d419eff52e"
      },
      "outputs": [
        {
          "output_type": "stream",
          "name": "stdout",
          "text": [
            "{'a': ['b', 'c'], 'b': ['a', 'd'], 'c': ['a', 'd'], 'd': ['e'], 'e': ['d']}\n"
          ]
        }
      ],
      "source": [
        "#Create the dictonary with graph elements\n",
        "graph = {\"a\" : [\"b\", \"c\"],\n",
        "         \"b\" : [\"a\", \"d\"],\n",
        "         \"c\" : [\"a\", \"d\"],\n",
        "         \"d\" : [\"e\"],\n",
        "         \"e\" : [\"d\"]\n",
        "         }\n",
        "\n",
        "print(graph)"
      ]
    },
    {
      "cell_type": "markdown",
      "source": [
        "![image.png](data:image/png;base64,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)"
      ],
      "metadata": {
        "id": "_Cqhl7r9ZmdM"
      }
    },
    {
      "cell_type": "code",
      "source": [
        "#Create the dictonary with graph elements\n",
        "graph = {\"s\" : [\"x\"],\n",
        "         \"T\" : [\"U\", \"W\"],\n",
        "         \"U\" : [\"T\", \"V\"],\n",
        "         \"V\" : [\"U\", \"x\"],\n",
        "         \"W\" : [\"T\", \"x\"],\n",
        "         \"x\" : [\"s\", \"W\"],\n",
        "         \"Z\" : [\"W\"]\n",
        "         }\n",
        "\n",
        "print(graph)"
      ],
      "metadata": {
        "colab": {
          "base_uri": "https://localhost:8080/"
        },
        "id": "OkvOQwzjYz9K",
        "outputId": "11ba0ac3-f4a8-482a-c3fd-e6d0e0e32c93"
      },
      "execution_count": 3,
      "outputs": [
        {
          "output_type": "stream",
          "name": "stdout",
          "text": [
            "{'s': ['x'], 'T': ['U', 'W'], 'U': ['T', 'V'], 'V': ['U', 'x'], 'W': ['T', 'x'], 'x': ['s', 'W'], 'Z': ['W']}\n"
          ]
        }
      ]
    },
    {
      "cell_type": "markdown",
      "source": [
        "![image.png](data:image/png;base64,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)"
      ],
      "metadata": {
        "id": "kAPhnw_EaWXL"
      }
    },
    {
      "cell_type": "code",
      "source": [
        "#Create the dictonary with graph elements\n",
        "graph = {\"r\" : [\"o\", \"l\"],\n",
        "         \"o\" : [\"r\", \"m\", \"p\"],\n",
        "         \"m\" : [\"o\", \"n\"],\n",
        "         \"l\" : [\"r\", \"p\"],\n",
        "         \"p\" : [\"T\", \"x\", \"o\"],\n",
        "         \"n\" : [\"m\", \"p\"]\n",
        "         }\n",
        "\n",
        "print(graph)"
      ],
      "metadata": {
        "colab": {
          "base_uri": "https://localhost:8080/"
        },
        "id": "7WfIlx0MaW4j",
        "outputId": "f994d67f-c95f-4fbc-d0ab-ca9d02e7b2d2"
      },
      "execution_count": 5,
      "outputs": [
        {
          "output_type": "stream",
          "name": "stdout",
          "text": [
            "{'r': ['o', 'l'], 'o': ['r', 'm', 'p'], 'm': ['o', 'n'], 'l': ['r', 'p'], 'p': ['T', 'x', 'o'], 'n': ['m', 'p']}\n"
          ]
        }
      ]
    },
    {
      "cell_type": "markdown",
      "source": [
        "---\n",
        "####**Menampilkan Simpul dan Sudut Pada Graph**"
      ],
      "metadata": {
        "id": "8-i5VGY9goMk"
      }
    },
    {
      "cell_type": "code",
      "source": [
        "class Graph:\n",
        "  def __init__(self, gdict=None):\n",
        "    if gdict is None:\n",
        "      gdict = {}\n",
        "    self.gdict = gdict\n",
        "\n",
        "  def getVertices(self):\n",
        "    return list(self.gdict.keys())\n",
        "\n",
        "  def edges(self):\n",
        "    return self.findedges()\n",
        "\n",
        "  def findedges(self):\n",
        "    edgename = []\n",
        "    for vrtx in self.gdict:\n",
        "      for nxtvrtx in self.gdict[vrtx]:\n",
        "        if {nxtvrtx, vrtx} not in edgename:\n",
        "          edgename.append({vrtx, nxtvrtx})\n",
        "    return edgename"
      ],
      "metadata": {
        "id": "7ctJDP17g1xz"
      },
      "execution_count": 41,
      "outputs": []
    },
    {
      "cell_type": "code",
      "source": [
        "graph_elements = {\"a\" : [\"b\", \"c\"],\n",
        "                  \"b\" : [\"a\", \"d\"],\n",
        "                  \"c\" : [\"a\", \"d\"],\n",
        "                  \"d\" : [\"e\"],\n",
        "                  \"e\" : [\"d\"]\n",
        "                  }\n",
        "\n",
        "g = Graph(graph_elements)\n",
        "\n",
        "#Menampilkan Simpul Graph\n",
        "print(\"Vertices :\")\n",
        "print(g.getVertices())\n",
        "\n",
        "#Menampilkan Sudut Graph\n",
        "print(\"\\nEdges :\")\n",
        "print(g.edges())\n"
      ],
      "metadata": {
        "colab": {
          "base_uri": "https://localhost:8080/"
        },
        "id": "K30ioKdKceIS",
        "outputId": "1537f1cc-681c-4419-ab04-13aabe77a150"
      },
      "execution_count": 42,
      "outputs": [
        {
          "output_type": "stream",
          "name": "stdout",
          "text": [
            "Vertices :\n",
            "['a', 'b', 'c', 'd', 'e']\n",
            "\n",
            "Edges :\n",
            "[{'b', 'a'}, {'c', 'a'}, {'b', 'd'}, {'c', 'd'}, {'e', 'd'}]\n"
          ]
        }
      ]
    },
    {
      "cell_type": "code",
      "source": [
        "# Latihan dengan sudut TUV\n",
        "\n",
        "graph_elements = {\"s\" : [\"x\"],\n",
        "                  \"T\" : [\"U\", \"W\"],\n",
        "                  \"U\" : [\"T\", \"V\"],\n",
        "                  \"V\" : [\"U\", \"x\"],\n",
        "                  \"W\" : [\"T\", \"x\"],\n",
        "                  \"x\" : [\"s\", \"W\"],\n",
        "                  \"Z\" : [\"W\"]\n",
        "                  }\n",
        "\n",
        "g = Graph(graph_elements)\n",
        "\n",
        "#Menampilkan Simpul Graph\n",
        "print(\"Vertices :\")\n",
        "print(g.getVertices())\n",
        "\n",
        "#Menampilkan Sudut Graph\n",
        "print(\"\\nEdges :\")\n",
        "print(g.edges())"
      ],
      "metadata": {
        "colab": {
          "base_uri": "https://localhost:8080/"
        },
        "id": "9fFLFGtydL5U",
        "outputId": "a1682182-2fea-4ddf-d05d-e73012286a97"
      },
      "execution_count": 43,
      "outputs": [
        {
          "output_type": "stream",
          "name": "stdout",
          "text": [
            "Vertices :\n",
            "['s', 'T', 'U', 'V', 'W', 'x', 'Z']\n",
            "\n",
            "Edges :\n",
            "[{'x', 's'}, {'T', 'U'}, {'T', 'W'}, {'V', 'U'}, {'x', 'V'}, {'W', 'x'}, {'W', 'Z'}]\n"
          ]
        }
      ]
    },
    {
      "cell_type": "code",
      "source": [
        "# Latihan dengan ROM\n",
        "graph_elements = {\"r\" : [\"o\", \"l\"],\n",
        "                  \"o\" : [\"r\", \"m\", \"p\"],\n",
        "                  \"m\" : [\"o\", \"n\"],\n",
        "                  \"l\" : [\"r\", \"p\"],\n",
        "                  \"p\" : [\"T\", \"x\", \"o\"],\n",
        "                  \"n\" : [\"m\", \"p\"]\n",
        "                  }\n",
        "\n",
        "g = Graph(graph_elements)\n",
        "\n",
        "#Menampilkan Simpul Graph\n",
        "print(\"Vertices :\")\n",
        "print(g.getVertices())\n",
        "\n",
        "#Menampilkan Sudut Graph\n",
        "print(\"\\nEdges :\")\n",
        "print(g.edges())"
      ],
      "metadata": {
        "colab": {
          "base_uri": "https://localhost:8080/"
        },
        "id": "jSzcrOSge6lz",
        "outputId": "c9dd8cc1-95b3-4b12-86b1-b82b995747da"
      },
      "execution_count": 44,
      "outputs": [
        {
          "output_type": "stream",
          "name": "stdout",
          "text": [
            "Vertices :\n",
            "['r', 'o', 'm', 'l', 'p', 'n']\n",
            "\n",
            "Edges :\n",
            "[{'r', 'o'}, {'r', 'l'}, {'o', 'm'}, {'p', 'o'}, {'m', 'n'}, {'p', 'l'}, {'T', 'p'}, {'x', 'p'}, {'p', 'n'}]\n"
          ]
        }
      ]
    },
    {
      "cell_type": "markdown",
      "source": [
        "---\n",
        "####**Menambahkan Simpul dan Sudut Pada Graph**"
      ],
      "metadata": {
        "id": "olV92cvXjnp-"
      }
    },
    {
      "cell_type": "code",
      "source": [
        "class Graph:\n",
        "  def __init__(self, gdict=None):\n",
        "    if gdict is None:\n",
        "      gdict = {}\n",
        "    self.gdict = gdict\n",
        "\n",
        "  #Mendapatkan vertex atau simpul\n",
        "  def getVertices(self):\n",
        "    return list(self.gdict.keys())\n",
        "\n",
        "  #Mendapatkan Sudut atau Edge\n",
        "  def edges(self):\n",
        "    return self.findedges()\n",
        "\n",
        "  def findedges(self):\n",
        "    edgename = []\n",
        "    for vrtx in self.gdict:\n",
        "      for nxtvrtx in self.gdict[vrtx]:\n",
        "        if {nxtvrtx, vrtx} not in edgename:\n",
        "          edgename.append({vrtx, nxtvrtx})\n",
        "    return edgename\n",
        "\n",
        "  #Menambahkan simpul\n",
        "  def addVertex(self, vrtx):\n",
        "    if vrtx not in self.gdict:\n",
        "      self.gdict[vrtx] = []\n",
        "\n",
        "  # Menambah Sudut Baru\n",
        "  def addEdge(self, edge):\n",
        "    edge = set(edge)\n",
        "    (vrtx1, vrtx2) = tuple(edge)\n",
        "    if vrtx1 in self.gdict:\n",
        "      self.gdict[vrtx1].append(vrtx2)\n",
        "    else:\n",
        "      self.gdict[vrtx1] = [vrtx2]\n",
        "\n"
      ],
      "metadata": {
        "id": "8UPpRlT2gLuj"
      },
      "execution_count": 48,
      "outputs": []
    },
    {
      "cell_type": "code",
      "source": [
        "graph_elements = {\"a\" : [\"b\", \"c\"],\n",
        "                  \"b\" : [\"a\", \"d\"],\n",
        "                  \"c\" : [\"a\", \"d\"],\n",
        "                  \"d\" : [\"e\"],\n",
        "                  \"e\" : [\"d\"]\n",
        "                  }\n",
        "g = Graph(graph_elements)\n",
        "\n",
        "#Menambahkan Simpul F\n",
        "print(\"Simpul Lama :\")\n",
        "print(g.getVertices())\n",
        "g.addVertex(\"f\")\n",
        "print(\"Simpul Baru :\")\n",
        "print(g.getVertices())\n",
        "\n",
        "#menambahkan Edge a ke e dan a ke c\n",
        "print(\"Sudut Lama :\")\n",
        "print(g.edges())\n",
        "g.addEdge({\"a\", \"e\"})\n",
        "g.addEdge({\"a\", \"c\"})\n",
        "print(\"Sudut Baru :\")\n",
        "print(g.edges())"
      ],
      "metadata": {
        "colab": {
          "base_uri": "https://localhost:8080/"
        },
        "id": "8nNd2qxjk2Mc",
        "outputId": "e91412a0-8cf7-43c5-8e76-1d1af637f544"
      },
      "execution_count": 50,
      "outputs": [
        {
          "output_type": "stream",
          "name": "stdout",
          "text": [
            "Simpul Lama :\n",
            "['a', 'b', 'c', 'd', 'e']\n",
            "Simpul Baru :\n",
            "['a', 'b', 'c', 'd', 'e', 'f']\n",
            "Sudut Lama :\n",
            "[{'b', 'a'}, {'c', 'a'}, {'b', 'd'}, {'c', 'd'}, {'e', 'd'}]\n",
            "Sudut Baru :\n",
            "[{'b', 'a'}, {'c', 'a'}, {'b', 'd'}, {'c', 'd'}, {'e', 'd'}, {'e', 'a'}]\n"
          ]
        }
      ]
    },
    {
      "cell_type": "code",
      "source": [
        "# Latihan dengan sudut TUV\n",
        "\n",
        "graph_elements = {\"s\" : [\"x\"],\n",
        "                  \"T\" : [\"U\", \"W\"],\n",
        "                  \"U\" : [\"T\", \"V\"],\n",
        "                  \"V\" : [\"U\", \"x\"],\n",
        "                  \"W\" : [\"T\", \"x\"],\n",
        "                  \"x\" : [\"s\", \"W\"],\n",
        "                  \"Z\" : [\"W\"]\n",
        "                  }\n",
        "\n",
        "g = Graph(graph_elements)\n",
        "\n",
        "#Menambahkan Simpul Y\n",
        "print(\"Simpul Lama :\")\n",
        "print(g.getVertices())\n",
        "g.addVertex(\"Y\")\n",
        "print(\"Simpul Baru :\")\n",
        "print(g.getVertices())\n",
        "\n",
        "#menambahkan Edge Y ke x dan x ke Y\n",
        "print(\"Sudut Lama :\")\n",
        "print(g.edges())\n",
        "g.addEdge({\"y\", \"x\"})\n",
        "g.addEdge({\"x\", \"y\"})\n",
        "print(\"Sudut Baru :\")\n",
        "print(g.edges())"
      ],
      "metadata": {
        "colab": {
          "base_uri": "https://localhost:8080/"
        },
        "id": "uiSEY5innSjF",
        "outputId": "a80d46c5-8c1d-4f02-b9b1-5de0a2a569e8"
      },
      "execution_count": 51,
      "outputs": [
        {
          "output_type": "stream",
          "name": "stdout",
          "text": [
            "Simpul Lama :\n",
            "['s', 'T', 'U', 'V', 'W', 'x', 'Z']\n",
            "Simpul Baru :\n",
            "['s', 'T', 'U', 'V', 'W', 'x', 'Z', 'Y']\n",
            "Sudut Lama :\n",
            "[{'x', 's'}, {'T', 'U'}, {'T', 'W'}, {'V', 'U'}, {'x', 'V'}, {'W', 'x'}, {'W', 'Z'}]\n",
            "Sudut Baru :\n",
            "[{'x', 's'}, {'T', 'U'}, {'T', 'W'}, {'V', 'U'}, {'x', 'V'}, {'W', 'x'}, {'x', 'y'}, {'W', 'Z'}]\n"
          ]
        }
      ]
    },
    {
      "cell_type": "code",
      "source": [
        "# Latihan dengan ROM\n",
        "graph_elements = {\"r\" : [\"o\", \"l\"],\n",
        "                  \"o\" : [\"r\", \"m\", \"p\"],\n",
        "                  \"m\" : [\"o\", \"n\"],\n",
        "                  \"l\" : [\"r\", \"p\"],\n",
        "                  \"p\" : [\"T\", \"x\", \"o\"],\n",
        "                  \"n\" : [\"m\", \"p\"]\n",
        "                  }\n",
        "\n",
        "g = Graph(graph_elements)\n",
        "\n",
        "#Menambahkan Simpul q\n",
        "print(\"Simpul Lama :\")\n",
        "print(g.getVertices())\n",
        "g.addVertex(\"q\")\n",
        "print(\"Simpul Baru :\")\n",
        "print(g.getVertices())\n",
        "\n",
        "#menambahkan Edge q ke r, r ke q, q ke o, dan o ke q\n",
        "print(\"Sudut Lama :\")\n",
        "print(g.edges())\n",
        "g.addEdge({\"q\", \"r\"})\n",
        "g.addEdge({\"r\", \"q\"})\n",
        "g.addEdge({\"q\", \"o\"})\n",
        "g.addEdge({\"o\", \"q\"})\n",
        "print(\"Sudut Baru :\")\n",
        "print(g.edges())"
      ],
      "metadata": {
        "colab": {
          "base_uri": "https://localhost:8080/"
        },
        "id": "z3MeERWqnf7F",
        "outputId": "3409cb88-afb0-4ddc-b839-cc07b71fb7b1"
      },
      "execution_count": 52,
      "outputs": [
        {
          "output_type": "stream",
          "name": "stdout",
          "text": [
            "Simpul Lama :\n",
            "['r', 'o', 'm', 'l', 'p', 'n']\n",
            "Simpul Baru :\n",
            "['r', 'o', 'm', 'l', 'p', 'n', 'q']\n",
            "Sudut Lama :\n",
            "[{'r', 'o'}, {'r', 'l'}, {'o', 'm'}, {'p', 'o'}, {'m', 'n'}, {'p', 'l'}, {'T', 'p'}, {'x', 'p'}, {'p', 'n'}]\n",
            "Sudut Baru :\n",
            "[{'r', 'o'}, {'r', 'l'}, {'r', 'q'}, {'o', 'm'}, {'p', 'o'}, {'o', 'q'}, {'m', 'n'}, {'p', 'l'}, {'T', 'p'}, {'x', 'p'}, {'p', 'n'}]\n"
          ]
        }
      ]
    }
  ]
}